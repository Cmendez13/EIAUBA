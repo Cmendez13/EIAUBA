{
  "cells": [
    {
      "cell_type": "markdown",
      "source": [
        "# Carlos Méndez"
      ],
      "metadata": {
        "id": "QX1eguxWGzy1"
      }
    },
    {
      "cell_type": "markdown",
      "metadata": {
        "id": "zq6j8LsYq1Dr"
      },
      "source": [
        "### Vectorización de texto y modelo de clasificación Naïve Bayes con el dataset 20 newsgroups"
      ]
    },
    {
      "cell_type": "code",
      "execution_count": 2,
      "metadata": {
        "id": "l7cXR6CI30ry"
      },
      "outputs": [],
      "source": [
        "from sklearn.feature_extraction.text import CountVectorizer, TfidfVectorizer\n",
        "from sklearn.metrics.pairwise import cosine_similarity\n",
        "from sklearn.naive_bayes import MultinomialNB, ComplementNB\n",
        "from sklearn.metrics import f1_score\n",
        "import random\n",
        "\n",
        "# 20newsgroups por ser un dataset clásico de NLP ya viene incluido y formateado\n",
        "# en sklearn\n",
        "from sklearn.datasets import fetch_20newsgroups\n",
        "import numpy as np"
      ]
    },
    {
      "cell_type": "markdown",
      "metadata": {
        "id": "yD-pVDWV_rQc"
      },
      "source": [
        "## Carga de datos"
      ]
    },
    {
      "cell_type": "code",
      "execution_count": 3,
      "metadata": {
        "id": "Ech9qJaUo9vK"
      },
      "outputs": [],
      "source": [
        "# cargamos los datos (ya separados de forma predeterminada en train y test)\n",
        "newsgroups_train = fetch_20newsgroups(subset='train', remove=('headers', 'footers', 'quotes'))\n",
        "newsgroups_test = fetch_20newsgroups(subset='test', remove=('headers', 'footers', 'quotes'))"
      ]
    },
    {
      "cell_type": "markdown",
      "metadata": {
        "id": "UxjSI7su_uWI"
      },
      "source": [
        "## Vectorización"
      ]
    },
    {
      "cell_type": "code",
      "execution_count": 4,
      "metadata": {
        "id": "-94VP0QYCzDn"
      },
      "outputs": [],
      "source": [
        "# instanciamos un vectorizador\n",
        "# ver diferentes parámetros de instanciación en la documentación de sklearn\n",
        "tfidfvect = TfidfVectorizer()"
      ]
    },
    {
      "cell_type": "code",
      "execution_count": 5,
      "metadata": {
        "colab": {
          "base_uri": "https://localhost:8080/",
          "height": 72
        },
        "id": "ftPlyanuak8n",
        "outputId": "64c5a839-2a97-445f-9112-d9185326dd64"
      },
      "outputs": [
        {
          "output_type": "execute_result",
          "data": {
            "text/plain": [
              "'I was wondering if anyone out there could enlighten me on this car I saw\\nthe other day. It was a 2-door sports car, looked to be from the late 60s/\\nearly 70s. It was called a Bricklin. The doors were really small. In addition,\\nthe front bumper was separate from the rest of the body. This is \\nall I know. If anyone can tellme a model name, engine specs, years\\nof production, where this car is made, history, or whatever info you\\nhave on this funky looking car, please e-mail.'"
            ],
            "application/vnd.google.colaboratory.intrinsic+json": {
              "type": "string"
            }
          },
          "metadata": {},
          "execution_count": 5
        }
      ],
      "source": [
        "# en el atributo `data` accedemos al texto\n",
        "newsgroups_train.data[0]"
      ]
    },
    {
      "cell_type": "code",
      "source": [
        "print(len(newsgroups_train.data))\n",
        "print(len(newsgroups_test.data))"
      ],
      "metadata": {
        "colab": {
          "base_uri": "https://localhost:8080/"
        },
        "id": "TxhF-Bu6GjL5",
        "outputId": "ef123418-75c0-483a-84d8-468e59d9546f"
      },
      "execution_count": 6,
      "outputs": [
        {
          "output_type": "stream",
          "name": "stdout",
          "text": [
            "11314\n",
            "7532\n"
          ]
        }
      ]
    },
    {
      "cell_type": "code",
      "execution_count": 7,
      "metadata": {
        "id": "1zxcXV6aC_oL"
      },
      "outputs": [],
      "source": [
        "# con la interfaz habitual de sklearn podemos fitear el vectorizador\n",
        "# (obtener el vocabulario y calcular el vector IDF)\n",
        "# y transformar directamente los datos\n",
        "X_train = tfidfvect.fit_transform(newsgroups_train.data)\n",
        "# `X_train` la podemos denominar como la matriz documento-término"
      ]
    },
    {
      "cell_type": "code",
      "execution_count": 8,
      "metadata": {
        "colab": {
          "base_uri": "https://localhost:8080/"
        },
        "id": "4Sv7TXbda41-",
        "outputId": "2bb7c6a8-75d9-4f6b-c298-d10c892732e9"
      },
      "outputs": [
        {
          "output_type": "stream",
          "name": "stdout",
          "text": [
            "<class 'scipy.sparse._csr.csr_matrix'>\n",
            "shape: (11314, 101631)\n",
            "cantidad de documentos: 11314\n",
            "tamaño del vocabulario (dimensionalidad de los vectores): 101631\n"
          ]
        }
      ],
      "source": [
        "# recordar que las vectorizaciones por conteos son esparsas\n",
        "# por ello sklearn convenientemente devuelve los vectores de documentos\n",
        "# como matrices esparsas\n",
        "print(type(X_train))\n",
        "print(f'shape: {X_train.shape}')\n",
        "print(f'cantidad de documentos: {X_train.shape[0]}')\n",
        "print(f'tamaño del vocabulario (dimensionalidad de los vectores): {X_train.shape[1]}')"
      ]
    },
    {
      "cell_type": "code",
      "execution_count": 9,
      "metadata": {
        "colab": {
          "base_uri": "https://localhost:8080/"
        },
        "id": "dgydNTZ2pAgR",
        "outputId": "61fd999b-7cfb-4de6-d887-b82adbf699ba"
      },
      "outputs": [
        {
          "output_type": "execute_result",
          "data": {
            "text/plain": [
              "25775"
            ]
          },
          "metadata": {},
          "execution_count": 9
        }
      ],
      "source": [
        "# una vez fiteado el vectorizador, podemos acceder a atributos como el vocabulario\n",
        "# aprendido. Es un diccionario que va de términos a índices.\n",
        "# El índice es la posición en el vector de documento.\n",
        "tfidfvect.vocabulary_['car']"
      ]
    },
    {
      "cell_type": "code",
      "execution_count": 10,
      "metadata": {
        "id": "xnTSZuvyrTcP"
      },
      "outputs": [],
      "source": [
        "# es muy útil tener el diccionario opuesto que va de índices a términos\n",
        "idx2word = {v: k for k,v in tfidfvect.vocabulary_.items()}"
      ]
    },
    {
      "cell_type": "code",
      "execution_count": 11,
      "metadata": {
        "colab": {
          "base_uri": "https://localhost:8080/"
        },
        "id": "swa-AgWrMSHM",
        "outputId": "7bf97d1b-b647-4924-91f6-f7302679c2ad"
      },
      "outputs": [
        {
          "output_type": "execute_result",
          "data": {
            "text/plain": [
              "array([ 7,  4,  4,  1, 14, 16, 13,  3,  2,  4])"
            ]
          },
          "metadata": {},
          "execution_count": 11
        }
      ],
      "source": [
        "# en `y_train` guardamos los targets que son enteros\n",
        "y_train = newsgroups_train.target\n",
        "y_train[:10]"
      ]
    },
    {
      "cell_type": "code",
      "execution_count": 12,
      "metadata": {
        "colab": {
          "base_uri": "https://localhost:8080/"
        },
        "id": "je5kxvQMDLvf",
        "outputId": "c583ecaa-588d-460c-da8e-b52956dee34c"
      },
      "outputs": [
        {
          "output_type": "stream",
          "name": "stdout",
          "text": [
            "clases [ 0  1  2  3  4  5  6  7  8  9 10 11 12 13 14 15 16 17 18 19]\n"
          ]
        },
        {
          "output_type": "execute_result",
          "data": {
            "text/plain": [
              "['alt.atheism',\n",
              " 'comp.graphics',\n",
              " 'comp.os.ms-windows.misc',\n",
              " 'comp.sys.ibm.pc.hardware',\n",
              " 'comp.sys.mac.hardware',\n",
              " 'comp.windows.x',\n",
              " 'misc.forsale',\n",
              " 'rec.autos',\n",
              " 'rec.motorcycles',\n",
              " 'rec.sport.baseball',\n",
              " 'rec.sport.hockey',\n",
              " 'sci.crypt',\n",
              " 'sci.electronics',\n",
              " 'sci.med',\n",
              " 'sci.space',\n",
              " 'soc.religion.christian',\n",
              " 'talk.politics.guns',\n",
              " 'talk.politics.mideast',\n",
              " 'talk.politics.misc',\n",
              " 'talk.religion.misc']"
            ]
          },
          "metadata": {},
          "execution_count": 12
        }
      ],
      "source": [
        "# hay 20 clases correspondientes a los 20 grupos de noticias\n",
        "print(f'clases {np.unique(newsgroups_test.target)}')\n",
        "newsgroups_test.target_names"
      ]
    },
    {
      "cell_type": "markdown",
      "metadata": {
        "id": "SXCICFSd_y90"
      },
      "source": [
        "## Similaridad de documentos"
      ]
    },
    {
      "cell_type": "code",
      "execution_count": 13,
      "metadata": {
        "colab": {
          "base_uri": "https://localhost:8080/"
        },
        "id": "_pki_olShnyE",
        "outputId": "283bb55a-312b-4778-d8c0-4ab54521bbd4"
      },
      "outputs": [
        {
          "output_type": "stream",
          "name": "stdout",
          "text": [
            "THE WHITE HOUSE\n",
            "\n",
            "                  Office of the Press Secretary\n",
            "                   (Pittsburgh, Pennslyvania)\n",
            "______________________________________________________________\n",
            "For Immediate Release                         April 17, 1993     \n",
            "\n",
            "             \n",
            "                  RADIO ADDRESS TO THE NATION \n",
            "                        BY THE PRESIDENT\n",
            "             \n",
            "                Pittsburgh International Airport\n",
            "                    Pittsburgh, Pennsylvania\n",
            "             \n",
            "             \n",
            "10:06 A.M. EDT\n",
            "             \n",
            "             \n",
            "             THE PRESIDENT:  Good morning.  My voice is coming to\n",
            "you this morning through the facilities of the oldest radio\n",
            "station in America, KDKA in Pittsburgh.  I'm visiting the city to\n",
            "meet personally with citizens here to discuss my plans for jobs,\n",
            "health care and the economy.  But I wanted first to do my weekly\n",
            "broadcast with the American people. \n",
            "             \n",
            "             I'm told this station first broadcast in 1920 when\n",
            "it reported that year's presidential elections.  Over the past\n",
            "seven decades presidents have found ways to keep in touch with\n",
            "the people, from whistle-stop tours to fire-side chats to the bus\n",
            "tour that I adopted, along with Vice President Gore, in last\n",
            "year's campaign.\n",
            "             \n",
            "             Every Saturday morning I take this time to talk with\n",
            "you, my fellow Americans, about the problems on your minds and\n",
            "what I'm doing to try and solve them.  It's my way of reporting\n",
            "to you and of giving you a way to hold me accountable.\n",
            "             \n",
            "             You sent me to Washington to get our government and\n",
            "economy moving after years of paralysis and policy and a bad\n",
            "experiment with trickle-down economics.  You know how important\n",
            "it is for us to make bold, comprehensive changes in the way we do\n",
            "business.  \n",
            "             \n",
            "             We live in a competitive global economy.  Nations\n",
            "rise and fall on the skills of their workers, the competitiveness\n",
            "of their companies, the imagination of their industries, and the\n",
            "cooperative experience and spirit that exists between business,\n",
            "labor and government.  Although many of the economies of the\n",
            "industrialized world are now suffering from slow growth, they've\n",
            "made many of the smart investments and the tough choices which\n",
            "our government has for too long ignored.  That's why many of them\n",
            "have been moving ahead and too many of our people have been\n",
            "falling behind.\n",
            "             \n",
            "             We have an economy today that even when it grows is\n",
            "not producing new jobs.  We've increased the debt of our nation\n",
            "by four times over the last 12 years, and we don't have much to\n",
            "show for it.  We know that wages of most working people have\n",
            "stopped rising, that most people are working longer work weeks\n",
            "and that too many families can no longer afford the escalating\n",
            "cost of health care.\n",
            "             \n",
            "             But we also know that, given the right tools, the\n",
            "right incentives and the right encouragement, our workers and\n",
            "businesses can make the kinds of products and profits our economy\n",
            "needs to expand opportunity and to make our communities better\n",
            "places to live.\n",
            "             \n",
            "             In many critical products today Americans are the\n",
            "low cost, high quality producers.  Our task is to make sure that\n",
            "we create more of those kinds of jobs.\n",
            "             \n",
            "             Just two months ago I gave Congress my plan for\n",
            "long-term jobs and economic growth.  It changes the old\n",
            "priorities in Washington and puts our emphasis where it needs to\n",
            "be -- on people's real needs, on increasing investments and jobs\n",
            "and education, on cutting the federal deficit, on stopping the\n",
            "waste which pays no dividends, and redirecting our precious\n",
            "resources toward investment that creates jobs now and lays the\n",
            "groundwork for robust economic growth in the future.\n",
            "             \n",
            "             These new directions passed the Congress in record\n",
            "time and created a new sense of hope and opportunity in our\n",
            "country.  Then the jobs plan I presented to Congress, which would\n",
            "create hundreds of thousands of jobs, most of them in the private\n",
            "sector in 1993 and 1994, passed the House of Representatives.  It\n",
            "now has the support of a majority of the United States Senate. \n",
            "But it's been held up by a filibuster of a minority in the\n",
            "Senate, just 43 senators.  They blocked a vote that they know\n",
            "would result in the passage of our bill and the creation of jobs.\n",
            "             \n",
            "             The issue isn't politics; the issue is people. \n",
            "Millions of Americans are waiting for this legislation and\n",
            "counting on it, counting on us in Washington.  But the jobs bill\n",
            "has been grounded by gridlock.  \n",
            "             \n",
            "             I know the American people are tired of business as\n",
            "usual and politics as usual.  I know they don't want us to spin\n",
            "or wheels.  They want the recovery to get moving.  So I have\n",
            "taken a first step to break this gridlock and gone the extra\n",
            "mile.  Yesterday I offered to cut the size of this plan by 25\n",
            "percent -- from $16 billion to $12 billion.  \n",
            "             \n",
            "             It's not what I'd hoped for.  With 16 million\n",
            "Americans looking for full-time work, I simply can't let the bill\n",
            "languish when I know that even a compromise bill will mean\n",
            "hundreds of thousands of jobs for our people.  The mandate is to\n",
            "act to achieve change and move the country forward.  By taking\n",
            "this initiative in the face of an unrelenting Senate talkathon, I\n",
            "think we can respond to your mandate and achieve a significant\n",
            "portion of our original goals.\n",
            "             \n",
            "             First, we want to keep the programs as much as\n",
            "possible that are needed to generate jobs and meet human needs,\n",
            "including highway and road construction, summer jobs for young\n",
            "people, immunization for children, construction of waste water\n",
            "sites, and aid to small businesses.  We also want to keep funding\n",
            "for extended unemployment compensation benefits, for people who\n",
            "have been unemployed for a long time because the economy isn't\n",
            "creating jobs.\n",
            "             \n",
            "             Second, I've recommended that all the other programs\n",
            "in the bill be cut across-the-board by a little more than 40\n",
            "percent.\n",
            "             \n",
            "             And third, I've recommended a new element in this\n",
            "program to help us immediately start our attempt to fight against\n",
            "crime by providing $200 million for cities and towns to rehire\n",
            "police officers who lost their jobs during the recession and put\n",
            "them back to work protecting our people.  I'm also going to fight\n",
            "for a tough crime bill because the people of this country need it\n",
            "and deserve it.\n",
            "             \n",
            "             Now, the people who are filibustering this bill --\n",
            "the Republican senators -- say they won't vote for it because it\n",
            "increases deficit spending, because there's extra spending this\n",
            "year that hasn't already been approved.  That sounds reasonable,\n",
            "doesn't it?  Here's what they don't say.  This program is more\n",
            "than paid for by budget cuts over my five-year budget, and this\n",
            "budget is well within the spending limits already approved by the\n",
            "Congress this year.\n",
            "             \n",
            "             It's amazing to me that many of these same senators\n",
            "who are filibustering the bill voted during the previous\n",
            "administration for billions of dollars of the same kind of\n",
            "emergency spending, and much of it was not designed to put the\n",
            "American people to work.  \n",
            "             \n",
            "             This is not about deficit spending.  We have offered\n",
            "a plan to cut the deficit.  This is about where your priorities\n",
            "are -- on people or on politics.  \n",
            "             \n",
            "             Keep in mind that our jobs bill is paid for dollar\n",
            "for dollar.  It is paid for by budget cuts.  And it's the\n",
            "soundest investment we can now make for ourselves and our\n",
            "children.  I urge all Americans to take another look at this jobs\n",
            "and investment program; to consider again the benefits for all of\n",
            "us when we've helped make more American partners working to\n",
            "ensure the future of our nation and the strength of our economy.\n",
            "             \n",
            "             You know, if every American who wanted a job had\n",
            "one, we wouldn't have a lot of the other problems we have in this\n",
            "country today.  This bill is not a miracle, it's a modest first\n",
            "step to try to set off a job creation explosion in this country\n",
            "again.  But it's a step we ought to take.  And it is fully paid\n",
            "for over the life of our budget.\n",
            "             \n",
            "             Tell your lawmakers what you think.  Tell them how\n",
            "important the bill is.  If it passes, we'll all be winners.\n",
            "             \n",
            "             Good morning, and thank you for listening.\n"
          ]
        }
      ],
      "source": [
        "# Veamos similaridad de documentos. Tomemos algún documento\n",
        "idx = 4811\n",
        "print(newsgroups_train.data[idx])"
      ]
    },
    {
      "cell_type": "code",
      "execution_count": 14,
      "metadata": {
        "id": "Ssa9bqJ-hA_v"
      },
      "outputs": [],
      "source": [
        "# midamos la similaridad coseno con todos los documentos de train\n",
        "cossim = cosine_similarity(X_train[idx], X_train)[0]"
      ]
    },
    {
      "cell_type": "code",
      "execution_count": 15,
      "metadata": {
        "colab": {
          "base_uri": "https://localhost:8080/"
        },
        "id": "p_mDA7p3AzcQ",
        "outputId": "960ba53b-f232-4e16-928b-babad0cad07c"
      },
      "outputs": [
        {
          "output_type": "execute_result",
          "data": {
            "text/plain": [
              "array([1.        , 0.70930477, 0.67474953, ..., 0.        , 0.        ,\n",
              "       0.        ])"
            ]
          },
          "metadata": {},
          "execution_count": 15
        }
      ],
      "source": [
        "# podemos ver los valores de similaridad ordenados de mayor a menos\n",
        "np.sort(cossim)[::-1]"
      ]
    },
    {
      "cell_type": "code",
      "execution_count": 16,
      "metadata": {
        "colab": {
          "base_uri": "https://localhost:8080/"
        },
        "id": "0OIhDA1jAryX",
        "outputId": "0514f4e7-4ac6-414b-f07e-b0c77a114542"
      },
      "outputs": [
        {
          "output_type": "execute_result",
          "data": {
            "text/plain": [
              "array([ 4811,  6635,  4253, ...,  1534, 10055,  4750])"
            ]
          },
          "metadata": {},
          "execution_count": 16
        }
      ],
      "source": [
        "# y a qué documentos corresponden\n",
        "np.argsort(cossim)[::-1]"
      ]
    },
    {
      "cell_type": "code",
      "execution_count": 17,
      "metadata": {
        "id": "hP7qLS4ZBLps"
      },
      "outputs": [],
      "source": [
        "# los 5 documentos más similares:\n",
        "mostsim = np.argsort(cossim)[::-1][1:6]"
      ]
    },
    {
      "cell_type": "code",
      "execution_count": 18,
      "metadata": {
        "colab": {
          "base_uri": "https://localhost:8080/",
          "height": 36
        },
        "id": "QdJLHPJACvaj",
        "outputId": "11dbccd6-a387-4315-caa0-8e032537fc15"
      },
      "outputs": [
        {
          "output_type": "execute_result",
          "data": {
            "text/plain": [
              "'talk.politics.misc'"
            ],
            "application/vnd.google.colaboratory.intrinsic+json": {
              "type": "string"
            }
          },
          "metadata": {},
          "execution_count": 18
        }
      ],
      "source": [
        "# el documento original pertenece a la clase:\n",
        "newsgroups_train.target_names[y_train[idx]]"
      ]
    },
    {
      "cell_type": "code",
      "execution_count": 19,
      "metadata": {
        "colab": {
          "base_uri": "https://localhost:8080/"
        },
        "id": "RWy_73epCbFG",
        "outputId": "038a6851-389b-4827-b374-b61ab35498fe"
      },
      "outputs": [
        {
          "output_type": "stream",
          "name": "stdout",
          "text": [
            "talk.politics.misc\n",
            "talk.politics.misc\n",
            "talk.politics.misc\n",
            "talk.politics.misc\n",
            "talk.politics.misc\n"
          ]
        }
      ],
      "source": [
        "# y los 5 más similares son de las clases:\n",
        "for i in mostsim:\n",
        "  print(newsgroups_train.target_names[y_train[i]])"
      ]
    },
    {
      "cell_type": "markdown",
      "metadata": {
        "id": "zRoNnKwhBqzq"
      },
      "source": [
        "### Modelo de clasificación Naïve Bayes"
      ]
    },
    {
      "cell_type": "code",
      "execution_count": 20,
      "metadata": {
        "colab": {
          "base_uri": "https://localhost:8080/",
          "height": 74
        },
        "id": "TPM0thDaLk0R",
        "outputId": "2e9f60d0-9fed-4bed-cfe0-affe0d70509c"
      },
      "outputs": [
        {
          "output_type": "execute_result",
          "data": {
            "text/plain": [
              "MultinomialNB()"
            ],
            "text/html": [
              "<style>#sk-container-id-1 {color: black;}#sk-container-id-1 pre{padding: 0;}#sk-container-id-1 div.sk-toggleable {background-color: white;}#sk-container-id-1 label.sk-toggleable__label {cursor: pointer;display: block;width: 100%;margin-bottom: 0;padding: 0.3em;box-sizing: border-box;text-align: center;}#sk-container-id-1 label.sk-toggleable__label-arrow:before {content: \"▸\";float: left;margin-right: 0.25em;color: #696969;}#sk-container-id-1 label.sk-toggleable__label-arrow:hover:before {color: black;}#sk-container-id-1 div.sk-estimator:hover label.sk-toggleable__label-arrow:before {color: black;}#sk-container-id-1 div.sk-toggleable__content {max-height: 0;max-width: 0;overflow: hidden;text-align: left;background-color: #f0f8ff;}#sk-container-id-1 div.sk-toggleable__content pre {margin: 0.2em;color: black;border-radius: 0.25em;background-color: #f0f8ff;}#sk-container-id-1 input.sk-toggleable__control:checked~div.sk-toggleable__content {max-height: 200px;max-width: 100%;overflow: auto;}#sk-container-id-1 input.sk-toggleable__control:checked~label.sk-toggleable__label-arrow:before {content: \"▾\";}#sk-container-id-1 div.sk-estimator input.sk-toggleable__control:checked~label.sk-toggleable__label {background-color: #d4ebff;}#sk-container-id-1 div.sk-label input.sk-toggleable__control:checked~label.sk-toggleable__label {background-color: #d4ebff;}#sk-container-id-1 input.sk-hidden--visually {border: 0;clip: rect(1px 1px 1px 1px);clip: rect(1px, 1px, 1px, 1px);height: 1px;margin: -1px;overflow: hidden;padding: 0;position: absolute;width: 1px;}#sk-container-id-1 div.sk-estimator {font-family: monospace;background-color: #f0f8ff;border: 1px dotted black;border-radius: 0.25em;box-sizing: border-box;margin-bottom: 0.5em;}#sk-container-id-1 div.sk-estimator:hover {background-color: #d4ebff;}#sk-container-id-1 div.sk-parallel-item::after {content: \"\";width: 100%;border-bottom: 1px solid gray;flex-grow: 1;}#sk-container-id-1 div.sk-label:hover label.sk-toggleable__label {background-color: #d4ebff;}#sk-container-id-1 div.sk-serial::before {content: \"\";position: absolute;border-left: 1px solid gray;box-sizing: border-box;top: 0;bottom: 0;left: 50%;z-index: 0;}#sk-container-id-1 div.sk-serial {display: flex;flex-direction: column;align-items: center;background-color: white;padding-right: 0.2em;padding-left: 0.2em;position: relative;}#sk-container-id-1 div.sk-item {position: relative;z-index: 1;}#sk-container-id-1 div.sk-parallel {display: flex;align-items: stretch;justify-content: center;background-color: white;position: relative;}#sk-container-id-1 div.sk-item::before, #sk-container-id-1 div.sk-parallel-item::before {content: \"\";position: absolute;border-left: 1px solid gray;box-sizing: border-box;top: 0;bottom: 0;left: 50%;z-index: -1;}#sk-container-id-1 div.sk-parallel-item {display: flex;flex-direction: column;z-index: 1;position: relative;background-color: white;}#sk-container-id-1 div.sk-parallel-item:first-child::after {align-self: flex-end;width: 50%;}#sk-container-id-1 div.sk-parallel-item:last-child::after {align-self: flex-start;width: 50%;}#sk-container-id-1 div.sk-parallel-item:only-child::after {width: 0;}#sk-container-id-1 div.sk-dashed-wrapped {border: 1px dashed gray;margin: 0 0.4em 0.5em 0.4em;box-sizing: border-box;padding-bottom: 0.4em;background-color: white;}#sk-container-id-1 div.sk-label label {font-family: monospace;font-weight: bold;display: inline-block;line-height: 1.2em;}#sk-container-id-1 div.sk-label-container {text-align: center;}#sk-container-id-1 div.sk-container {/* jupyter's `normalize.less` sets `[hidden] { display: none; }` but bootstrap.min.css set `[hidden] { display: none !important; }` so we also need the `!important` here to be able to override the default hidden behavior on the sphinx rendered scikit-learn.org. See: https://github.com/scikit-learn/scikit-learn/issues/21755 */display: inline-block !important;position: relative;}#sk-container-id-1 div.sk-text-repr-fallback {display: none;}</style><div id=\"sk-container-id-1\" class=\"sk-top-container\"><div class=\"sk-text-repr-fallback\"><pre>MultinomialNB()</pre><b>In a Jupyter environment, please rerun this cell to show the HTML representation or trust the notebook. <br />On GitHub, the HTML representation is unable to render, please try loading this page with nbviewer.org.</b></div><div class=\"sk-container\" hidden><div class=\"sk-item\"><div class=\"sk-estimator sk-toggleable\"><input class=\"sk-toggleable__control sk-hidden--visually\" id=\"sk-estimator-id-1\" type=\"checkbox\" checked><label for=\"sk-estimator-id-1\" class=\"sk-toggleable__label sk-toggleable__label-arrow\">MultinomialNB</label><div class=\"sk-toggleable__content\"><pre>MultinomialNB()</pre></div></div></div></div></div>"
            ]
          },
          "metadata": {},
          "execution_count": 20
        }
      ],
      "source": [
        "# es muy fácil instanciar un modelo de clasificación Naïve Bayes y entrenarlo con sklearn\n",
        "clf = MultinomialNB()\n",
        "clf.fit(X_train, y_train)"
      ]
    },
    {
      "cell_type": "code",
      "execution_count": 21,
      "metadata": {
        "id": "NrQjzM48Mu4T"
      },
      "outputs": [],
      "source": [
        "# con nuestro vectorizador ya fiteado en train, vectorizamos los textos\n",
        "# del conjunto de test\n",
        "X_test = tfidfvect.transform(newsgroups_test.data)\n",
        "y_test = newsgroups_test.target\n",
        "y_pred =  clf.predict(X_test)"
      ]
    },
    {
      "cell_type": "code",
      "execution_count": 22,
      "metadata": {
        "colab": {
          "base_uri": "https://localhost:8080/"
        },
        "id": "UkGJhetEPdA4",
        "outputId": "aab0dcfd-8612-4490-b98a-2f390b32b5b4"
      },
      "outputs": [
        {
          "output_type": "execute_result",
          "data": {
            "text/plain": [
              "0.5854345727938506"
            ]
          },
          "metadata": {},
          "execution_count": 22
        }
      ],
      "source": [
        "# el F1-score es una metrica adecuada para reportar desempeño de modelos de claificación\n",
        "# es robusta al desbalance de clases. El promediado 'macro' es el promedio de los\n",
        "# F1-score de cada clase. El promedio 'micro' es equivalente a la accuracy que no\n",
        "# es una buena métrica cuando los datasets son desbalanceados\n",
        "f1_score(y_test, y_pred, average='macro')"
      ]
    },
    {
      "cell_type": "markdown",
      "metadata": {
        "id": "McArD4rSDR2K"
      },
      "source": [
        "# Consigna del desafío 1"
      ]
    },
    {
      "cell_type": "markdown",
      "metadata": {
        "id": "lJgf6GQIIEH1"
      },
      "source": [
        "**1**. Vectorizar documentos. Tomar 5 documentos al azar y medir similaridad con el resto de los documentos.\n",
        "Estudiar los 5 documentos más similares de cada uno analizar si tiene sentido\n",
        "la similaridad según el contenido del texto y la etiqueta de clasificación.\n",
        "\n",
        "**2**. Entrenar modelos de clasificación Naïve Bayes para maximizar el desempeño de clasificación\n",
        "(f1-score macro) en el conjunto de datos de test. Considerar cambiar parámteros\n",
        "de instanciación del vectorizador y los modelos y probar modelos de Naïve Bayes Multinomial\n",
        "y ComplementNB.\n",
        "\n",
        "**3**. Transponer la matriz documento-término. De esa manera se obtiene una matriz\n",
        "término-documento que puede ser interpretada como una colección de vectorización de palabras.\n",
        "Estudiar ahora similaridad entre palabras tomando 5 palabras y estudiando sus 5 más similares. **La elección de palabras no debe ser al azar para evitar la aparición de términos poco interpretables, elegirlas \"manualmente\"**.\n"
      ]
    },
    {
      "cell_type": "markdown",
      "source": [
        "# Función Auxiliar"
      ],
      "metadata": {
        "id": "g0HCcauCVP_A"
      }
    },
    {
      "cell_type": "code",
      "source": [
        "def mostrar_similaridad(most_similar_indices):\n",
        "\n",
        "  \"\"\"Muestra los documentos similares junto con su categoría y texto.\"\"\"\n",
        "  for sim_index in most_similar_indices:\n",
        "      doc_text = newsgroups_train.data[sim_index]\n",
        "      category = newsgroups_train.target_names[y_train[sim_index]]\n",
        "\n",
        "      print(f'\\nDocumento seleccionado: {sim_index}')\n",
        "      print(f'Categoría: {category}')\n",
        "      print(f'Texto: {doc_text[:500]}...')  # Muestra solo los primeros 500 caracteres\n",
        "      print(\"=\"*100)\n",
        "\n",
        "\n",
        "def general_info(indice, most_similar_indices):\n",
        "\n",
        "  print(f'La Categoría asociada al documento original es: {newsgroups_train.target_names[y_train[indice]]}')\n",
        "  print(f'Los 5 documentos con mayor similitud al documento {indice} son: {most_similar_indices}')\n",
        "\n",
        "  print(\"=\"*45, \"Doc\",indice,\"=\"*45)\n",
        "  print(newsgroups_train.data[indice])\n",
        "  print(\"=\"*100)\n"
      ],
      "metadata": {
        "id": "YaXBHFp1Oknu"
      },
      "execution_count": 23,
      "outputs": []
    },
    {
      "cell_type": "markdown",
      "source": [
        "# Selección de los 5 documentos al azar"
      ],
      "metadata": {
        "id": "4B1EZDTlVUF6"
      }
    },
    {
      "cell_type": "code",
      "source": [
        "random.seed(49)\n",
        "random_indices = random.sample(range(len(newsgroups_train.data)), 5)\n",
        "selected_docs = [newsgroups_train.data[i] for i in random_indices]\n",
        "selected_targets = [newsgroups_train.target[i] for i in random_indices]"
      ],
      "metadata": {
        "id": "Ic3e-b7rpvOI"
      },
      "execution_count": 24,
      "outputs": []
    },
    {
      "cell_type": "code",
      "source": [
        "print(\"Los documentos seleccionados fueron:\",random_indices)"
      ],
      "metadata": {
        "colab": {
          "base_uri": "https://localhost:8080/"
        },
        "id": "ZAc2oq37KSct",
        "outputId": "a0da6af5-2379-45b6-8a0d-a9079414bfaa"
      },
      "execution_count": 25,
      "outputs": [
        {
          "output_type": "stream",
          "name": "stdout",
          "text": [
            "Los documentos seleccionados fueron: [1095, 5641, 6770, 1810, 5300]\n"
          ]
        }
      ]
    },
    {
      "cell_type": "markdown",
      "source": [
        "# Análisis para el documento 1095"
      ],
      "metadata": {
        "id": "H4ZrDCdjLjeM"
      }
    },
    {
      "cell_type": "code",
      "source": [
        "indice_1 = random_indices[0]\n",
        "# Calcula la similaridad coseno entre el indice_1 y todo el resto de los documentos\n",
        "cos_sim = cosine_similarity(X_train[indice_1], X_train)[0]\n",
        "\n",
        "# Devuelve las mejores 5 similaridades\n",
        "most_similar_indices = np.argsort(cos_sim)[::-1][1:6]\n",
        "\n"
      ],
      "metadata": {
        "id": "u9Ip6yBNL4Yx"
      },
      "execution_count": 26,
      "outputs": []
    },
    {
      "cell_type": "code",
      "source": [
        "general_info(indice_1, most_similar_indices)"
      ],
      "metadata": {
        "colab": {
          "base_uri": "https://localhost:8080/"
        },
        "id": "vkSTPgTQal-3",
        "outputId": "d44c9388-67ad-419c-8ee8-a37cf2357f37"
      },
      "execution_count": 27,
      "outputs": [
        {
          "output_type": "stream",
          "name": "stdout",
          "text": [
            "La Categoría asociada al documento original es: talk.politics.guns\n",
            "Los 5 documentos con mayor similitud al documento 1095 son: [1292 5229 6643 6894 6437]\n",
            "============================================= Doc 1095 =============================================\n",
            "\n",
            "\n",
            "       As perhaps some insight into how this sort of thing works, the\n",
            "local college newspaper had a big crusade to have the U.T. police\n",
            "release crime stats.  (The school claimed that to do so would violate\n",
            "federal education records privacy laws).  They swore up and down they\n",
            "weren't interested in student discipline records, only for stats so people\n",
            "could make an evaluation of how safe the campus was.\n",
            "\n",
            "       It was barely a week after crime stats were released before the\n",
            "Daily Beacon had an editorial calling for student disciplinary stats\n",
            "to be released, because they complained certain segments of the campus\n",
            "population were treated administratively rather than turned over to the\n",
            "police and therefore the criminal states weren't accurate.\n",
            "\n",
            "       What people say they want public today may not be what they\n",
            "say tomorrow.\n",
            "\n",
            "====================================================================================================\n"
          ]
        }
      ]
    },
    {
      "cell_type": "code",
      "source": [
        "mostrar_similaridad(most_similar_indices)"
      ],
      "metadata": {
        "colab": {
          "base_uri": "https://localhost:8080/"
        },
        "id": "F0RxLfqcPiNY",
        "outputId": "d537c657-86ef-42ff-df87-894ccfbeea3c"
      },
      "execution_count": 28,
      "outputs": [
        {
          "output_type": "stream",
          "name": "stdout",
          "text": [
            "\n",
            "Documento seleccionado: 1292\n",
            "Categoría: talk.politics.mideast\n",
            "Texto: Accounts of Anti-Armenian Human Right Violations in Azerbaijan #008 Part B\n",
            "                 Prelude to Current Events in Nagorno-Karabakh\n",
            "\n",
            "\t\t\t\t(Part B of #008)\n",
            "\n",
            "      +------------------------------------------------------------------+\n",
            "      |                                                                  |\n",
            "      | \"Oh, yes, I just remembered. While they were raping me they      |\n",
            "      |  repeated quite frequently, \"Let the Armenian women have babies  |\n",
            "      |  for us, Muslim babies, let the...\n",
            "====================================================================================================\n",
            "\n",
            "Documento seleccionado: 5229\n",
            "Categoría: rec.sport.baseball\n",
            "Texto: Hello, my friends and I are running the Homewood Fantasy Baseball\n",
            "League (pure fantasy baseball teams). Unfortunely, we are running the league\n",
            "using Earl Weaver Baseball II with the Comm. Disk II and we need the stats\n",
            "for the 1992 season. (Preferably the 1992 Major League Stat Disk) We have\n",
            "the '92 total stats but EWB2 needs the split stats otherwise we have 200\n",
            "inning games because the Comm. Disk turns total stats into vs. L's stats\n",
            "unless you know both right and left -handed stats....\n",
            "====================================================================================================\n",
            "\n",
            "Documento seleccionado: 6643\n",
            "Categoría: rec.sport.baseball\n",
            "Texto: Does anybody else think that WS stats should become part of\n",
            "a player's career stats?   Why not?\n",
            " \n",
            "...\n",
            "====================================================================================================\n",
            "\n",
            "Documento seleccionado: 6894\n",
            "Categoría: talk.politics.guns\n",
            "Texto: Here is a press release from the White House.\n",
            "\n",
            " President Clinton's Remarks On Waco With Q/A\n",
            " To: National Desk\n",
            " Contact: White House Office of the Press Secretary, 202-456-2100\n",
            "\n",
            "   WASHINGTON, April 20 -- Following are remarks by President \n",
            "Clinton in a question and answer session with the press:\n",
            "\n",
            "1:36 P.M. EDT\n",
            "\n",
            "     THE PRESIDENT:  On February the 28th, four federal\n",
            "agents were killed in the line of duty trying to enforce the law\n",
            "against the Branch Davidian compound, which had illegally stockp...\n",
            "====================================================================================================\n",
            "\n",
            "Documento seleccionado: 6437\n",
            "Categoría: talk.politics.mideast\n",
            "Texto: Accounts of Anti-Armenian Human Rights Violations in Azerbaijan #007\n",
            "                 Prelude to Current Events in Nagorno-Karabakh\n",
            "\n",
            "\n",
            " +--------------------------------------------------------------------------+\n",
            " |                                                                          |\n",
            " | They grab Papa, carry him into one room, and Mamma and me into another.  |\n",
            " | They put Mamma on the bed and start undressing her, beating her legs.    |\n",
            " | They start tearing my clothes, right there, in fron...\n",
            "====================================================================================================\n"
          ]
        }
      ]
    },
    {
      "cell_type": "markdown",
      "source": [
        "Se puede evidenciar que para el documento analizado (1095) los documentos más similares tratan principalmente de temas de política, armas y violaciones de derechos. Sin embargo sorprendentemente aparece unos relacionados a deportes, esto debe ser consecuncia de que en estos textos se mencionan recurrentemente la palabra **\"stats\"** (**estadísticas**)."
      ],
      "metadata": {
        "id": "JwAongeEYGla"
      }
    },
    {
      "cell_type": "markdown",
      "source": [
        "# Análisis para el documento 5641"
      ],
      "metadata": {
        "id": "bATLtOuBZhUJ"
      }
    },
    {
      "cell_type": "code",
      "source": [
        "indice_2 = random_indices[1]\n",
        "# Calcula la similaridad coseno entre el indice_1 y todo el resto de los documentos\n",
        "cos_sim = cosine_similarity(X_train[indice_2], X_train)[0]\n",
        "\n",
        "# Devuelve las mejores 5 similaridades\n",
        "most_similar_indices = np.argsort(cos_sim)[::-1][1:6]"
      ],
      "metadata": {
        "id": "TS8VfFyqL45V"
      },
      "execution_count": 29,
      "outputs": []
    },
    {
      "cell_type": "code",
      "source": [
        "general_info(indice_2, most_similar_indices)"
      ],
      "metadata": {
        "colab": {
          "base_uri": "https://localhost:8080/"
        },
        "id": "McfKp69ML49D",
        "outputId": "fcff706a-1764-4dd1-960b-dfcae346876a"
      },
      "execution_count": 30,
      "outputs": [
        {
          "output_type": "stream",
          "name": "stdout",
          "text": [
            "La Categoría asociada al documento original es: alt.atheism\n",
            "Los 5 documentos con mayor similitud al documento 5641 son: [10719  1308  3438  4339  3289]\n",
            "============================================= Doc 5641 =============================================\n",
            "\n",
            "Ahhh go back to alt.autotheism where you belong!\n",
            "====================================================================================================\n"
          ]
        }
      ]
    },
    {
      "cell_type": "code",
      "source": [
        "mostrar_similaridad(most_similar_indices)"
      ],
      "metadata": {
        "colab": {
          "base_uri": "https://localhost:8080/"
        },
        "id": "gXBLWIurL5Az",
        "outputId": "08b0dbec-9e80-4823-8e58-088c2c878d52"
      },
      "execution_count": 31,
      "outputs": [
        {
          "output_type": "stream",
          "name": "stdout",
          "text": [
            "\n",
            "Documento seleccionado: 10719\n",
            "Categoría: sci.electronics\n",
            "Texto: ...\n",
            "\n",
            "Another April 1 posting.  Ahhh....\n",
            "====================================================================================================\n",
            "\n",
            "Documento seleccionado: 1308\n",
            "Categoría: comp.os.ms-windows.misc\n",
            "Texto: \n",
            "Do you mean the icons _of_ the program groups, or the icons of the\n",
            "individual programs _in_ the program groups?  I assume you mean the\n",
            "latter, and the answer is: sure you can.  Just click once (not double)\n",
            "on the application icon, then Alt-F P (File | Properties).  Click on the\n",
            "Change Icon box and tell it the icon filename.  Or use the Browse\n",
            "sub-selection.\n",
            "\n",
            "\n",
            "I use Alt-Tab.  Hold the Alt key and repeatedly press Tab until you see\n",
            "Program Mangler up.  Then release the Alt key.\n",
            "\n",
            "...\n",
            "====================================================================================================\n",
            "\n",
            "Documento seleccionado: 3438\n",
            "Categoría: alt.atheism\n",
            "Texto: Archive-name: atheism/overview\n",
            "Alt-atheism-archive-name: overview\n",
            "Last-modified: 5 April 1993\n",
            "Version: 1.2\n",
            "\n",
            "                                   Overview\n",
            "\n",
            "Welcome to alt.atheism and alt.atheism.moderated.\n",
            "\n",
            "This is the first in a series of regular postings aimed at new readers of the\n",
            "newsgroups.\n",
            "\n",
            "Many groups of a 'controversial' nature have noticed that new readers often\n",
            "come up with the same questions, mis-statements or misconceptions and post\n",
            "them to the net.  In addition, people often request in...\n",
            "====================================================================================================\n",
            "\n",
            "Documento seleccionado: 4339\n",
            "Categoría: talk.religion.misc\n",
            "Texto: \n",
            "\n",
            "Make that 20%.  Where did I see that poll recently about the\n",
            "very religious and adultery?  Was it this newsgroup or alt.atheism\n",
            "or some other place?...\n",
            "====================================================================================================\n",
            "\n",
            "Documento seleccionado: 3289\n",
            "Categoría: talk.religion.misc\n",
            "Texto:  \n",
            "(Deletion)\n",
            " \n",
            "Since this drivel is also crossposted to alt.atheism, how about reading\n",
            "the alt.atheism FAQ? The Josephus quote is concidered to be a fake even\n",
            "by Christian historians, and the four gospels contradict each other in\n",
            "important points....\n",
            "====================================================================================================\n"
          ]
        }
      ]
    },
    {
      "cell_type": "markdown",
      "source": [
        "El texto seleccionado es bastante corto, por lo que la similaridad parece recoger algunas distorsiones, el documento trata de ateismo que es una expresión de no creencia en Dios; por lo que es natural que muestre alguna simitud con temas religiosos (lo cual ocurrió). Sin embargo tambien trajo similitud con la categoría \"windows.misc\" dado que el tema original usa la expresión \"alt\" que es una expresión frecuentemente utilizada cuando se habla de temas relacionados al software de Microsoft."
      ],
      "metadata": {
        "id": "ALAEjEthdGJO"
      }
    },
    {
      "cell_type": "markdown",
      "source": [
        "# Análisis del documento **6770**"
      ],
      "metadata": {
        "id": "U5an3dvHfNvz"
      }
    },
    {
      "cell_type": "code",
      "source": [
        "indice_3 = random_indices[2]\n",
        "# Calcula la similaridad coseno entre el indice_1 y todo el resto de los documentos\n",
        "cos_sim = cosine_similarity(X_train[indice_3], X_train)[0]\n",
        "\n",
        "# Devuelve las mejores 5 similaridades\n",
        "most_similar_indices = np.argsort(cos_sim)[::-1][1:6]"
      ],
      "metadata": {
        "id": "nHkFNedJfTJH"
      },
      "execution_count": 32,
      "outputs": []
    },
    {
      "cell_type": "code",
      "source": [
        "general_info(indice_3, most_similar_indices)"
      ],
      "metadata": {
        "colab": {
          "base_uri": "https://localhost:8080/"
        },
        "id": "J4ZTeUKEfW7u",
        "outputId": "71585ce9-887f-4487-996a-0e13532c6fed"
      },
      "execution_count": 33,
      "outputs": [
        {
          "output_type": "stream",
          "name": "stdout",
          "text": [
            "La Categoría asociada al documento original es: sci.crypt\n",
            "Los 5 documentos con mayor similitud al documento 6770 son: [7659 2314 6894 5856  913]\n",
            "============================================= Doc 6770 =============================================\n",
            "\n",
            "\n",
            "\n",
            "\n",
            "\n",
            "\n",
            "\n",
            "\n",
            "\n",
            "  A remark I heard the other day is beginning to take on increasingly\n",
            "frightening significance.  The comment was made that \"In other parts\n",
            "of the world the Democrats [note the big \"D\"] would be known as\n",
            "Socialists\" \n",
            "\n",
            "  A [note the small \"d\"] democrat who wonders what Thomas Jefferson, on\n",
            "this the 250th anniversary of his birth, would have thought of the state\n",
            "of affairs between the government and the governed.\n",
            "\n",
            "\n",
            "------- Any views expressed are those of myself and not my employer. --------\n",
            "Steven C. Johnson, WB3IRU / VK2GDS      |\n",
            "TRW                                     | johnson@trwacs.fp.trw.com\n",
            "FP1 / 3133                              |         [129.193.172.90]\n",
            "1 Federal Systems Park Drive            | Phone:        +1 (703) 968.1000\n",
            "Fairfax, Virginia  22033-4412  U.S.A.   | Fax:          +1 (703) 803.5189\n",
            "====================================================================================================\n"
          ]
        }
      ]
    },
    {
      "cell_type": "code",
      "source": [
        "mostrar_similaridad(most_similar_indices)"
      ],
      "metadata": {
        "colab": {
          "base_uri": "https://localhost:8080/"
        },
        "id": "0uQbFIKXho14",
        "outputId": "13ea07e3-f68d-406f-9f81-3e1cc84bbb98"
      },
      "execution_count": 34,
      "outputs": [
        {
          "output_type": "stream",
          "name": "stdout",
          "text": [
            "\n",
            "Documento seleccionado: 7659\n",
            "Categoría: sci.crypt\n",
            "Texto: \n",
            "[...]\n",
            "\n",
            "  Who makes them forget and destroy all copies of the key once they've\n",
            "decided you're not a criminal today?  Just curious.\n",
            "------- Any views expressed are those of myself and not my employer. --------\n",
            "Steven C. Johnson, WB3IRU / VK2GDS      |\n",
            "TRW                                     | johnson@trwacs.fp.trw.com\n",
            "FP1 / 3133                              |         [129.193.172.90]\n",
            "1 Federal Systems Park Drive            | Phone:        +1 (703) 968.1000\n",
            "Fairfax, Virginia  22033-4412  U.S.A.   ...\n",
            "====================================================================================================\n",
            "\n",
            "Documento seleccionado: 2314\n",
            "Categoría: comp.windows.x\n",
            "Texto: A few days ago there was a posting in this group by Andrea Winkler\n",
            "titled \"X and Security / X Technical Conference\".  I was one of the\n",
            "instructors of that tutorial.  Unfortunately, my system purged\n",
            "the message before I had a chance to see it, and I don't have\n",
            "Andrea's email address.  If someone has Andrea's address and/or\n",
            "the posting, I would really appreciate it if you'd forward it to\n",
            "me!\n",
            "\n",
            "Thanks\n",
            "--Jeremy\n",
            "\n",
            "Jeremy Epstein\t\t\tInternet: epstein@trwacs.fp.trw.com\n",
            "Trusted X Research Group\tVoice: +1 7...\n",
            "====================================================================================================\n",
            "\n",
            "Documento seleccionado: 6894\n",
            "Categoría: talk.politics.guns\n",
            "Texto: Here is a press release from the White House.\n",
            "\n",
            " President Clinton's Remarks On Waco With Q/A\n",
            " To: National Desk\n",
            " Contact: White House Office of the Press Secretary, 202-456-2100\n",
            "\n",
            "   WASHINGTON, April 20 -- Following are remarks by President \n",
            "Clinton in a question and answer session with the press:\n",
            "\n",
            "1:36 P.M. EDT\n",
            "\n",
            "     THE PRESIDENT:  On February the 28th, four federal\n",
            "agents were killed in the line of duty trying to enforce the law\n",
            "against the Branch Davidian compound, which had illegally stockp...\n",
            "====================================================================================================\n",
            "\n",
            "Documento seleccionado: 5856\n",
            "Categoría: sci.crypt\n",
            "Texto: \n",
            "Thanks for posting this and making it available. This post will be LONG, I will\n",
            "comment on most of it, and am reluctantly leaving all of the original in place\n",
            "to provide context.\n",
            "\n",
            "Please note that an alt. group has been set up for the Clipper stuff.\n",
            "\n",
            "                                                     ^^^^^^^^^\n",
            "Hum, AT&T, VLSI and Mykotronx are 'industry'?\n",
            "Wonder what happened to IBM, this should be right up their street.\n",
            "And a mandateed scheme is voluntary? Mr Orwell would love this.\n",
            "\n",
            "       ...\n",
            "====================================================================================================\n",
            "\n",
            "Documento seleccionado: 913\n",
            "Categoría: alt.atheism\n",
            "Texto: The recent rise of nostalgia in this group, combined with the\n",
            "  incredible level of utter bullshit, has prompted me to comb\n",
            "  through my archives and pull out some of \"The Best of Alt.Atheism\"\n",
            "  for your reading pleasure.  I'll post a couple of these a day\n",
            "  unless group concensus demands that I stop, or I run out of good\n",
            "  material.\n",
            "\n",
            "  I haven't been particularly careful in the past about saving\n",
            "  attributions.  I think the following comes from John A. Johnson,\n",
            "  but someone correct me if I'm w...\n",
            "====================================================================================================\n"
          ]
        }
      ]
    },
    {
      "cell_type": "code",
      "source": [
        "mostrar_similaridad(most_similar_indices)"
      ],
      "metadata": {
        "colab": {
          "base_uri": "https://localhost:8080/"
        },
        "id": "H4J24sPjfoBB",
        "outputId": "5fbbe992-bfe3-40d2-f83a-24c60e7b295f"
      },
      "execution_count": 35,
      "outputs": [
        {
          "output_type": "stream",
          "name": "stdout",
          "text": [
            "\n",
            "Documento seleccionado: 7659\n",
            "Categoría: sci.crypt\n",
            "Texto: \n",
            "[...]\n",
            "\n",
            "  Who makes them forget and destroy all copies of the key once they've\n",
            "decided you're not a criminal today?  Just curious.\n",
            "------- Any views expressed are those of myself and not my employer. --------\n",
            "Steven C. Johnson, WB3IRU / VK2GDS      |\n",
            "TRW                                     | johnson@trwacs.fp.trw.com\n",
            "FP1 / 3133                              |         [129.193.172.90]\n",
            "1 Federal Systems Park Drive            | Phone:        +1 (703) 968.1000\n",
            "Fairfax, Virginia  22033-4412  U.S.A.   ...\n",
            "====================================================================================================\n",
            "\n",
            "Documento seleccionado: 2314\n",
            "Categoría: comp.windows.x\n",
            "Texto: A few days ago there was a posting in this group by Andrea Winkler\n",
            "titled \"X and Security / X Technical Conference\".  I was one of the\n",
            "instructors of that tutorial.  Unfortunately, my system purged\n",
            "the message before I had a chance to see it, and I don't have\n",
            "Andrea's email address.  If someone has Andrea's address and/or\n",
            "the posting, I would really appreciate it if you'd forward it to\n",
            "me!\n",
            "\n",
            "Thanks\n",
            "--Jeremy\n",
            "\n",
            "Jeremy Epstein\t\t\tInternet: epstein@trwacs.fp.trw.com\n",
            "Trusted X Research Group\tVoice: +1 7...\n",
            "====================================================================================================\n",
            "\n",
            "Documento seleccionado: 6894\n",
            "Categoría: talk.politics.guns\n",
            "Texto: Here is a press release from the White House.\n",
            "\n",
            " President Clinton's Remarks On Waco With Q/A\n",
            " To: National Desk\n",
            " Contact: White House Office of the Press Secretary, 202-456-2100\n",
            "\n",
            "   WASHINGTON, April 20 -- Following are remarks by President \n",
            "Clinton in a question and answer session with the press:\n",
            "\n",
            "1:36 P.M. EDT\n",
            "\n",
            "     THE PRESIDENT:  On February the 28th, four federal\n",
            "agents were killed in the line of duty trying to enforce the law\n",
            "against the Branch Davidian compound, which had illegally stockp...\n",
            "====================================================================================================\n",
            "\n",
            "Documento seleccionado: 5856\n",
            "Categoría: sci.crypt\n",
            "Texto: \n",
            "Thanks for posting this and making it available. This post will be LONG, I will\n",
            "comment on most of it, and am reluctantly leaving all of the original in place\n",
            "to provide context.\n",
            "\n",
            "Please note that an alt. group has been set up for the Clipper stuff.\n",
            "\n",
            "                                                     ^^^^^^^^^\n",
            "Hum, AT&T, VLSI and Mykotronx are 'industry'?\n",
            "Wonder what happened to IBM, this should be right up their street.\n",
            "And a mandateed scheme is voluntary? Mr Orwell would love this.\n",
            "\n",
            "       ...\n",
            "====================================================================================================\n",
            "\n",
            "Documento seleccionado: 913\n",
            "Categoría: alt.atheism\n",
            "Texto: The recent rise of nostalgia in this group, combined with the\n",
            "  incredible level of utter bullshit, has prompted me to comb\n",
            "  through my archives and pull out some of \"The Best of Alt.Atheism\"\n",
            "  for your reading pleasure.  I'll post a couple of these a day\n",
            "  unless group concensus demands that I stop, or I run out of good\n",
            "  material.\n",
            "\n",
            "  I haven't been particularly careful in the past about saving\n",
            "  attributions.  I think the following comes from John A. Johnson,\n",
            "  but someone correct me if I'm w...\n",
            "====================================================================================================\n"
          ]
        }
      ]
    },
    {
      "cell_type": "markdown",
      "source": [
        "El texto en análisis **6770**, retorna los documentos con similitudes relevantes. En primera instancia está devolviendo documentos con una estructura muy similar (Texto de un correo)."
      ],
      "metadata": {
        "id": "foxKVxE0kbC2"
      }
    },
    {
      "cell_type": "markdown",
      "source": [
        "# Análisis del documento **1810**"
      ],
      "metadata": {
        "id": "0Z2_0d-4qvtp"
      }
    },
    {
      "cell_type": "code",
      "source": [
        "indice_4 = random_indices[3]\n",
        "# Calcula la similaridad coseno entre el indice_1 y todo el resto de los documentos\n",
        "cos_sim = cosine_similarity(X_train[indice_4], X_train)[0]\n",
        "\n",
        "# Devuelve las mejores 5 similaridades\n",
        "most_similar_indices = np.argsort(cos_sim)[::-1][1:6]"
      ],
      "metadata": {
        "id": "OGPjkc0HrDaQ"
      },
      "execution_count": 36,
      "outputs": []
    },
    {
      "cell_type": "code",
      "source": [
        "general_info(indice_4, most_similar_indices)"
      ],
      "metadata": {
        "colab": {
          "base_uri": "https://localhost:8080/"
        },
        "id": "7DYqqZpbrSIl",
        "outputId": "1a31c0fb-77df-4f88-f97a-819e44c85b82"
      },
      "execution_count": 37,
      "outputs": [
        {
          "output_type": "stream",
          "name": "stdout",
          "text": [
            "La Categoría asociada al documento original es: alt.atheism\n",
            "Los 5 documentos con mayor similitud al documento 1810 son: [ 2509 10106 10229  3754  5820]\n",
            "============================================= Doc 1810 =============================================\n",
            "\n",
            "So what you're saying is that your mind is made up, and you'll just explain\n",
            "away any differences at being statistically insignificant?\n",
            "\n",
            "\n",
            "So you'll just explain away any inconsistancies in your \"theory\" as being\n",
            "\"a special case\".\n",
            "\n",
            "\n",
            "You just equated them.  Re-read your own words.\n",
            "\n",
            "\n",
            "A study release in 1991 found that 11% of female seagulls are lesbians.\n",
            "\n",
            "\n",
            "Now, apply this last sentence of your to YOUR theory.  Notice how your are\n",
            "contridicting observations?\n",
            "\n",
            "\n",
            "You don't know much math, do you?  The ability to use SAS to determine the\n",
            "length of the third side of the triangle is fundemental to geometry.\n",
            "\n",
            "\n",
            "Goals <> postulates.\n",
            "\n",
            "Again, if one of the \"goals\" of this \"objective/natural morality\" system\n",
            "you are proposing is \"survival of the species\", then homosexuality is\n",
            "immoral.\n",
            "====================================================================================================\n"
          ]
        }
      ]
    },
    {
      "cell_type": "code",
      "source": [
        "mostrar_similaridad(most_similar_indices)"
      ],
      "metadata": {
        "colab": {
          "base_uri": "https://localhost:8080/"
        },
        "id": "i6MhtO_ArV5m",
        "outputId": "b0c25752-8c69-4c4c-f2ea-5042e8446663"
      },
      "execution_count": 38,
      "outputs": [
        {
          "output_type": "stream",
          "name": "stdout",
          "text": [
            "\n",
            "Documento seleccionado: 2509\n",
            "Categoría: alt.atheism\n",
            "Texto: \n",
            "\n",
            "Well, I've provided examples to show that the trend was general, and you\n",
            "(or others) have provided some counterexamples, mostly ones surrounding\n",
            "mating practices, etc.  I don't think that these few cases are enough to\n",
            "disprove the general trend of natural morality.  And, again, the mating\n",
            "practices need to be reexamined...\n",
            "\n",
            "\n",
            "No, but mating practices are a special case.  I'll have to think about it\n",
            "some more.\n",
            "\n",
            "\n",
            "Indeed.  But, while the natural system is objective, all objective systems\n",
            "are not t...\n",
            "====================================================================================================\n",
            "\n",
            "Documento seleccionado: 10106\n",
            "Categoría: soc.religion.christian\n",
            "Texto: [In looking through my files this weekend, I ran across some lyrics from\n",
            "various rock groups that have content.  Here are two from Black Sabbath's\n",
            "\"Master of Reality\".  I'll say this much for the music of the '60's and early\n",
            "'70's, at least they asked questions of significance.  Jethro Tull is another\n",
            "to asked and wrote about things that caused one to wonder. --Rex] \n",
            "\n",
            "AFTER FOREVER\n",
            "\n",
            "Have you ever thought about your soul--\n",
            "     can it be saved?\n",
            "Or perhaps you think that when you're dead\n",
            "     you ...\n",
            "====================================================================================================\n",
            "\n",
            "Documento seleccionado: 10229\n",
            "Categoría: talk.religion.misc\n",
            "Texto: \n",
            "First off, let me congratulate you for not posting a flame about \"You sick\n",
            "perverts, you are immoral, you are all going to hell.\", which seems to be the\n",
            "usual \"religious\" post found on the alt.sex.* hierarchy.  Hopefully, you won't\n",
            "get flamed, either.\n",
            "\n",
            "You will, however, be argued with.  I personally think that your project is\n",
            "built on unsteady ground.\n",
            "\n",
            "First, I do not believe that there is any way to find an \"objective morality\". \n",
            "Morality and value are inherently subjective - they represent t...\n",
            "====================================================================================================\n",
            "\n",
            "Documento seleccionado: 3754\n",
            "Categoría: talk.politics.mideast\n",
            "Texto: Center for Policy Research writes...\n",
            "\n",
            "\n",
            "\n",
            "    Your comparison with the Warsaw Ghetto uprising is insulting,\n",
            "    and racist beyond belief.  The attempts to quiet any violence\n",
            "    in the Gaza Strip are just that.  The efforts to quell murder\n",
            "    and mayhem in the Gaza strip were the resluts of violence and\n",
            "    came AFTER the violence.  It was not an arbitrary racial move\n",
            "    like the nazi treatment of Jews.  Jews had NOT committed acts\n",
            "    of violence and murder as have the residents of Gaza.  I fin...\n",
            "====================================================================================================\n",
            "\n",
            "Documento seleccionado: 5820\n",
            "Categoría: talk.politics.misc\n",
            "Texto: \n",
            "To answer your irrelevant question, yes a person of color is human,\n",
            "but I still don't know what you mean by human being and you have\n",
            "merely begged the question without responding.  By trying to inject\n",
            "the notion of race into the discussion, you muddy the waters without\n",
            "adding any insight whatever.  The same parallel question could\n",
            "be \"Is a polydactyl person a human being?\"  You still have not\n",
            "answered what you mean by human being.  Please do so.\n",
            "\n",
            "\n",
            "You won't answer the question and instead drag ...\n",
            "====================================================================================================\n"
          ]
        }
      ]
    },
    {
      "cell_type": "markdown",
      "source": [
        "El texto seleccionado trata como tópico (categoría) acerca del ateismo por lo que es natural que muestre alguna simitud con temas religiosos (nuevamente). A diferencia del otro texto de ateismo, este documento contenía una más extensa distribución de términos de frecuente uso en discusiones filosóficas."
      ],
      "metadata": {
        "id": "hNHEMd7McvoM"
      }
    },
    {
      "cell_type": "markdown",
      "source": [
        "# Análisis del documento **5300**"
      ],
      "metadata": {
        "id": "lgq1PpL3sYZU"
      }
    },
    {
      "cell_type": "code",
      "source": [
        "indice_5 = random_indices[4]\n",
        "# Calcula la similaridad coseno entre el indice_1 y todo el resto de los documentos\n",
        "cos_sim = cosine_similarity(X_train[indice_5], X_train)[0]\n",
        "\n",
        "# Devuelve las mejores 5 similaridades\n",
        "most_similar_indices = np.argsort(cos_sim)[::-1][1:6]"
      ],
      "metadata": {
        "id": "GMqEnsz3eKMj"
      },
      "execution_count": 45,
      "outputs": []
    },
    {
      "cell_type": "code",
      "source": [
        "general_info(indice_5, most_similar_indices)"
      ],
      "metadata": {
        "colab": {
          "base_uri": "https://localhost:8080/"
        },
        "id": "2cCQfPSheRzK",
        "outputId": "41f74b35-4d31-47c2-cbc9-17c52dfd1a89"
      },
      "execution_count": 46,
      "outputs": [
        {
          "output_type": "stream",
          "name": "stdout",
          "text": [
            "La Categoría asociada al documento original es: rec.motorcycles\n",
            "Los 5 documentos con mayor similitud al documento 5300 son: [9623 1292 7286 3282 5826]\n",
            "============================================= Doc 5300 =============================================\n",
            ":    I hate to admit this, and I'm still mentally kicking myself for it.\n",
            ": I rode the brand new K75RT home last Friday night.  100 miles in rain\n",
            ": and darkness.  No problems.  Got it home and put it on the center stand.\n",
            ":    The next day I pushed it off the center stand in preparation for going\n",
            ": over to a friend's house to pose.  You guessed it.  It got away from me\n",
            ": and landed on its right side.  \n",
            ":    Scratched the lower fairing, cracked the right mirror, and cracked the\n",
            ": upper fairing.  \n",
            ":    *DAMN* am I stupid!  It's going to cost me ~$200 to get the local\n",
            ": body shop to fix it.  And that is after I take the fairing off for them.\n",
            ": Still, that's probably cheaper than the mirror alone if I bought a \n",
            ": replacement from BMW.\n",
            "\n",
            "You got off cheap.  My sister's ex-boyfriend was such an incessant pain\n",
            "in the ass about wanting to ride my bikes (no way, Jose) that I\n",
            "finally took him to Lindner's BMW in New Canaan, CT last fall where\n",
            "I had seen a nice, used K100RS in perfect condition.  After telling\n",
            "everyone in the shop his Norton war stories from fifteen years ago,\n",
            "signing the liability waiver, and getting his pre-flight, off he went...\n",
            "\n",
            "Well, not quite.  I walked out of a pizza shop up the street,\n",
            "feeling good about myself (made my sister's boyfriend happy and got\n",
            "the persistent wanker off my ass for good), heard the horrendous\n",
            "racket of an engine tortured to its red line and then a crash.  I\n",
            "saw people running towards the obvious source of the disturbance...\n",
            "Jeff laying under the BMW with the rear wheel spinning wildly and\n",
            "someone groping for the kill switch.  I stared in disbelief with\n",
            "a slice hanging out of my mouth as Matty, the shop manager, slid\n",
            "up beside me and asked, \"Friend of yours, Steve?\".  \"Shit, Matty,\n",
            "it could have been worse.  That could been my FLHS!\"\n",
            "\n",
            "Jeff hadn't made it 10 inches.  Witnesses said he lifted his feet\n",
            "before letting out the clutch and gravity got the best of him.\n",
            "Jeff claimed that the clutch didn't engage.  Matty was quick.\n",
            "While Jeff was still stuttering in embarrassed shock he managed\n",
            "to snatch Jeff's credit card for a quick imprint and signature.  Twenty\n",
            "minutes later, when Jeff's color had paled to a flush, Matty\n",
            "presented him with an estimate of $580 for a busted right mirror\n",
            "and a hairline crack in the fairing.  That was for fixing the crack\n",
            "and masking the damaged area, not a new fairing.  Or he could buy the\n",
            "bike.\n",
            "\n",
            "I'm not sure what happened later as my sister split up with Jeff shortly\n",
            "afterwards (to hook up with another piece of work) except that Matty\n",
            "told me he ran the charge through in December and that it went\n",
            "uncontested.\n",
            "\n",
            "\n",
            "====================================================================================================\n"
          ]
        }
      ]
    },
    {
      "cell_type": "code",
      "source": [
        "mostrar_similaridad(most_similar_indices)"
      ],
      "metadata": {
        "colab": {
          "base_uri": "https://localhost:8080/"
        },
        "id": "N0YM0yHXeW1V",
        "outputId": "c409bd6a-cf98-4391-e58f-d32e85d09ecb"
      },
      "execution_count": 47,
      "outputs": [
        {
          "output_type": "stream",
          "name": "stdout",
          "text": [
            "\n",
            "Documento seleccionado: 9623\n",
            "Categoría: talk.politics.mideast\n",
            "Texto: Accounts of Anti-Armenian Human Right Violations in Azerbaijan #012\n",
            "                 Prelude to Current Events in Nagorno-Karabakh\n",
            "\n",
            "        +---------------------------------------------------------+\n",
            "        |                                                         |\n",
            "        |  I saw a naked girl with her hair down. They were       |\n",
            "        |  dragging her. She kept falling because they were       |\n",
            "        |  pushing her and kicking her. She fell down, it was     |\n",
            "        |  muddy there, and ...\n",
            "====================================================================================================\n",
            "\n",
            "Documento seleccionado: 1292\n",
            "Categoría: talk.politics.mideast\n",
            "Texto: Accounts of Anti-Armenian Human Right Violations in Azerbaijan #008 Part B\n",
            "                 Prelude to Current Events in Nagorno-Karabakh\n",
            "\n",
            "\t\t\t\t(Part B of #008)\n",
            "\n",
            "      +------------------------------------------------------------------+\n",
            "      |                                                                  |\n",
            "      | \"Oh, yes, I just remembered. While they were raping me they      |\n",
            "      |  repeated quite frequently, \"Let the Armenian women have babies  |\n",
            "      |  for us, Muslim babies, let the...\n",
            "====================================================================================================\n",
            "\n",
            "Documento seleccionado: 7286\n",
            "Categoría: talk.politics.mideast\n",
            "Texto: Accounts of Anti-Armenian Human Right Violations in Azerbaijan #008 Part A\n",
            "                 Prelude to Current Events in Nagorno-Karabakh\n",
            "\t\n",
            "\t\t\t\t(Part A of #008)\n",
            "\n",
            "      +------------------------------------------------------------------+\n",
            "      |                                                                  |\n",
            "      | \"Oh, yes, I just remembered. While they were raping me they      |\n",
            "      |  repeated quite frequently, \"Let the Armenian women have babies  |\n",
            "      |  for us, Muslim babies, let th...\n",
            "====================================================================================================\n",
            "\n",
            "Documento seleccionado: 3282\n",
            "Categoría: talk.politics.mideast\n",
            "Texto: DEPOSITION of VITALY NIKOLAYEVICH DANIELIAN [1]\n",
            "\n",
            "\n",
            "          Born 1972\n",
            "          Attended 9th Grade\n",
            "          Middle School No. 17\n",
            "\n",
            "          Resident at Building 4/2, Apartment 25\n",
            "          Microdistrict No. 3\n",
            "          Sumgait [Azerbaijan]\n",
            "\n",
            "Really, people in town didn't know what was happening on February 27. I came \n",
            "home from school at 12 o'clock, being excused to leave before the last period \n",
            "in order to go to Baku. When we left, everything in town was fine. Life was \n",
            "the same as usual, a few...\n",
            "====================================================================================================\n",
            "\n",
            "Documento seleccionado: 5826\n",
            "Categoría: soc.religion.christian\n",
            "Texto: A listmember (D Andrew Killie, I think) wrote, in response to the\n",
            "suggestion that genocide may sometimes be the will of God:\n",
            "\n",
            " > Any God who works that way is indescribably evil,\n",
            " > and unworthy of my worship or faith.\n",
            "\n",
            "Nobuya \"Higgy\" Higashiyama replied (as, in substance, did others):\n",
            "\n",
            " > Where is your source of moral standards by which you judge God's\n",
            " > behavior?\n",
            "\n",
            "It is often argued that we have no standing by which to judge God's\n",
            "actions.  Who is the clay to talk back to the potter? But we f...\n",
            "====================================================================================================\n"
          ]
        }
      ]
    },
    {
      "cell_type": "markdown",
      "source": [
        "2. Entrenar modelos de **clasificación Naïve Bayes** para maximizar el desempeño de clasificación (f1-score macro) en el conjunto de datos de test. Considerar cambiar parámteros de instanciación del vectorizador y los modelos y probar modelos de Naïve Bayes Multinomial y ComplementNB."
      ],
      "metadata": {
        "id": "PbifyJYaGGZN"
      }
    },
    {
      "cell_type": "markdown",
      "metadata": {
        "id": "pBbWSmoqhkU8"
      },
      "source": [
        "# Modelos sin ajustes de parámetros"
      ]
    },
    {
      "cell_type": "code",
      "source": [
        "# Crear y ajustar el vectorizador\n",
        "vectorizer = TfidfVectorizer(max_df=0.5, min_df=2, ngram_range=(1, 2))\n",
        "X_train = vectorizer.fit_transform(newsgroups_train.data)\n",
        "X_test = vectorizer.transform(newsgroups_test.data)"
      ],
      "metadata": {
        "id": "gluQrYccGRdR"
      },
      "execution_count": 49,
      "outputs": []
    },
    {
      "cell_type": "code",
      "source": [
        "# Función para entrenar y evaluar un modelo\n",
        "def train_and_evaluate(model, X_train, y_train, X_test, y_test):\n",
        "    model.fit(X_train, y_train)\n",
        "    y_pred = model.predict(X_test)\n",
        "    return f1_score(y_test, y_pred, average='macro')"
      ],
      "metadata": {
        "id": "isFPV-woiZO3"
      },
      "execution_count": 50,
      "outputs": []
    },
    {
      "cell_type": "code",
      "source": [
        "# Entrenar y evaluar MultinomialNB\n",
        "mnb = MultinomialNB(alpha=0.1)\n",
        "mnb_f1 = train_and_evaluate(mnb, X_train, newsgroups_train.target, X_test, newsgroups_test.target)\n",
        "print(f\"F1-score para MultinomialNB: {mnb_f1:.4f}\")"
      ],
      "metadata": {
        "colab": {
          "base_uri": "https://localhost:8080/"
        },
        "id": "zl2JqZz1igzr",
        "outputId": "c5f2cdea-c6c0-40ed-eecc-e7bdb2040023"
      },
      "execution_count": 51,
      "outputs": [
        {
          "output_type": "stream",
          "name": "stdout",
          "text": [
            "F1-score para MultinomialNB: 0.6463\n"
          ]
        }
      ]
    },
    {
      "cell_type": "code",
      "source": [
        "# Entrenar y evaluar ComplementNB\n",
        "cnb = ComplementNB(alpha=0.1)\n",
        "cnb_f1 = train_and_evaluate(cnb, X_train, newsgroups_train.target, X_test, newsgroups_test.target)\n",
        "print(f\"F1-score para ComplementNB: {cnb_f1:.4f}\")"
      ],
      "metadata": {
        "colab": {
          "base_uri": "https://localhost:8080/"
        },
        "id": "aARARlWhikuZ",
        "outputId": "9ec784fa-e16a-4726-da88-b949892b8112"
      },
      "execution_count": 52,
      "outputs": [
        {
          "output_type": "stream",
          "name": "stdout",
          "text": [
            "F1-score para ComplementNB: 0.7043\n"
          ]
        }
      ]
    },
    {
      "cell_type": "code",
      "source": [
        "# Comparar los resultados\n",
        "if mnb_f1 > cnb_f1:\n",
        "    print(\"MultinomialNB tiene un mejor desempeño.\")\n",
        "elif cnb_f1 > mnb_f1:\n",
        "    print(\"ComplementNB tiene un mejor desempeño.\")\n",
        "else:\n",
        "    print(\"Ambos modelos tienen un desempeño similar.\")"
      ],
      "metadata": {
        "colab": {
          "base_uri": "https://localhost:8080/"
        },
        "id": "mOmrZwU6iqPu",
        "outputId": "6445a0e2-dda7-4752-faf5-d9d8d8722425"
      },
      "execution_count": 53,
      "outputs": [
        {
          "output_type": "stream",
          "name": "stdout",
          "text": [
            "ComplementNB tiene un mejor desempeño.\n"
          ]
        }
      ]
    },
    {
      "cell_type": "markdown",
      "source": [
        "# Naive Bayes con ajustes de parámetros"
      ],
      "metadata": {
        "id": "OL7T7DZhjf2N"
      }
    },
    {
      "cell_type": "code",
      "source": [
        "def train_and_evaluate(vectorizer, model, X_train, y_train, X_test, y_test):\n",
        "    # Vectorizar los datos\n",
        "    X_train_vec = vectorizer.fit_transform(X_train)\n",
        "    X_test_vec = vectorizer.transform(X_test)\n",
        "\n",
        "    # Entrenar el modelo\n",
        "    model.fit(X_train_vec, y_train)\n",
        "\n",
        "    # Predecir y calcular el f1-score\n",
        "    y_pred = model.predict(X_test_vec)\n",
        "    f1 = f1_score(y_test, y_pred, average='macro')\n",
        "\n",
        "    return f1"
      ],
      "metadata": {
        "id": "ixtgZEw3i6Ah"
      },
      "execution_count": 54,
      "outputs": []
    },
    {
      "cell_type": "code",
      "source": [
        "from sklearn.model_selection import GridSearchCV"
      ],
      "metadata": {
        "id": "8PmZldvgkEOA"
      },
      "execution_count": 57,
      "outputs": []
    },
    {
      "cell_type": "code",
      "source": [
        "# Definir los parámetros para la búsqueda de hiperparámetros\n",
        "vectorizer_params = {\n",
        "    'max_df': [0.5, 0.75, 1.0],\n",
        "    'min_df': [1, 2, 3],\n",
        "    'ngram_range': [(1, 1), (1, 2)],\n",
        "}\n",
        "\n",
        "mnb_params = {\n",
        "    'alpha': [0.1, 0.5, 1.0],\n",
        "}\n",
        "\n",
        "cnb_params = {\n",
        "    'alpha': [0.1, 0.5, 1.0],\n",
        "    'norm': [True, False],\n",
        "}\n",
        "\n",
        "# Realizar búsqueda de hiperparámetros para MultinomialNB\n",
        "mnb_grid = GridSearchCV(\n",
        "    estimator=MultinomialNB(),\n",
        "    param_grid=mnb_params,\n",
        "    cv=5,\n",
        "    scoring='f1_macro'\n",
        ")\n",
        "\n",
        "vectorizer_grid = GridSearchCV(\n",
        "    estimator=TfidfVectorizer(),\n",
        "    param_grid=vectorizer_params,\n",
        "    cv=5,\n",
        "    scoring='f1_macro'\n",
        ")"
      ],
      "metadata": {
        "id": "zR1M7DLmjoZa"
      },
      "execution_count": 58,
      "outputs": []
    },
    {
      "cell_type": "code",
      "source": [
        "# Ajustar el vectorizador y el modelo MNB\n",
        "vectorizer_grid.fit(newsgroups_train.data, newsgroups_train.target)\n",
        "best_vectorizer = vectorizer_grid.best_estimator_\n",
        "\n",
        "X_train_vec = best_vectorizer.transform(newsgroups_train.data)\n",
        "mnb_grid.fit(X_train_vec, newsgroups_train.target)\n",
        "\n",
        "# Evaluar el mejor modelo MNB\n",
        "best_mnb = mnb_grid.best_estimator_\n",
        "mnb_f1 = train_and_evaluate(best_vectorizer, best_mnb, newsgroups_train.data, newsgroups_train.target, newsgroups_test.data, newsgroups_test.target)\n",
        "\n",
        "print(f\"Mejor F1-score para MultinomialNB: {mnb_f1}\")\n",
        "print(f\"Mejores parámetros para MultinomialNB: {mnb_grid.best_params_}\")\n",
        "print(f\"Mejores parámetros para el vectorizador: {vectorizer_grid.best_params_}\")\n"
      ],
      "metadata": {
        "colab": {
          "base_uri": "https://localhost:8080/"
        },
        "id": "gApE2IsmkGn3",
        "outputId": "f77543ea-89f7-4ab9-b53b-dc6000fa5474"
      },
      "execution_count": 59,
      "outputs": [
        {
          "output_type": "stream",
          "name": "stderr",
          "text": [
            "/usr/local/lib/python3.10/dist-packages/sklearn/model_selection/_validation.py:821: UserWarning: Scoring failed. The score on this train-test partition for these parameters will be set to nan. Details: \n",
            "Traceback (most recent call last):\n",
            "  File \"/usr/local/lib/python3.10/dist-packages/sklearn/model_selection/_validation.py\", line 810, in _score\n",
            "    scores = scorer(estimator, X_test, y_test)\n",
            "  File \"/usr/local/lib/python3.10/dist-packages/sklearn/metrics/_scorer.py\", line 266, in __call__\n",
            "    return self._score(partial(_cached_call, None), estimator, X, y_true, **_kwargs)\n",
            "  File \"/usr/local/lib/python3.10/dist-packages/sklearn/metrics/_scorer.py\", line 353, in _score\n",
            "    y_pred = method_caller(estimator, \"predict\", X)\n",
            "  File \"/usr/local/lib/python3.10/dist-packages/sklearn/metrics/_scorer.py\", line 86, in _cached_call\n",
            "    result, _ = _get_response_values(\n",
            "  File \"/usr/local/lib/python3.10/dist-packages/sklearn/utils/_response.py\", line 218, in _get_response_values\n",
            "    y_pred, pos_label = estimator.predict(X), None\n",
            "AttributeError: 'TfidfVectorizer' object has no attribute 'predict'\n",
            "\n",
            "  warnings.warn(\n",
            "/usr/local/lib/python3.10/dist-packages/sklearn/model_selection/_search.py:979: UserWarning: One or more of the test scores are non-finite: [nan nan nan nan nan nan nan nan nan nan nan nan nan nan nan nan nan nan]\n",
            "  warnings.warn(\n"
          ]
        },
        {
          "output_type": "stream",
          "name": "stdout",
          "text": [
            "Mejor F1-score para MultinomialNB: 0.6619598560030805\n",
            "Mejores parámetros para MultinomialNB: {'alpha': 0.1}\n",
            "Mejores parámetros para el vectorizador: {'max_df': 0.5, 'min_df': 1, 'ngram_range': (1, 1)}\n"
          ]
        }
      ]
    },
    {
      "cell_type": "code",
      "source": [
        "# Realizar búsqueda de hiperparámetros para ComplementNB\n",
        "cnb_grid = GridSearchCV(\n",
        "    estimator=ComplementNB(),\n",
        "    param_grid=cnb_params,\n",
        "    cv=5,\n",
        "    scoring='f1_macro'\n",
        ")\n",
        "\n",
        "# Ajustar el modelo CNB\n",
        "cnb_grid.fit(X_train_vec, newsgroups_train.target)\n"
      ],
      "metadata": {
        "colab": {
          "base_uri": "https://localhost:8080/",
          "height": 116
        },
        "id": "L9BnHE30l9lT",
        "outputId": "d0781208-1d7e-4468-d89b-b74201338f1c"
      },
      "execution_count": 60,
      "outputs": [
        {
          "output_type": "execute_result",
          "data": {
            "text/plain": [
              "GridSearchCV(cv=5, estimator=ComplementNB(),\n",
              "             param_grid={'alpha': [0.1, 0.5, 1.0], 'norm': [True, False]},\n",
              "             scoring='f1_macro')"
            ],
            "text/html": [
              "<style>#sk-container-id-2 {color: black;}#sk-container-id-2 pre{padding: 0;}#sk-container-id-2 div.sk-toggleable {background-color: white;}#sk-container-id-2 label.sk-toggleable__label {cursor: pointer;display: block;width: 100%;margin-bottom: 0;padding: 0.3em;box-sizing: border-box;text-align: center;}#sk-container-id-2 label.sk-toggleable__label-arrow:before {content: \"▸\";float: left;margin-right: 0.25em;color: #696969;}#sk-container-id-2 label.sk-toggleable__label-arrow:hover:before {color: black;}#sk-container-id-2 div.sk-estimator:hover label.sk-toggleable__label-arrow:before {color: black;}#sk-container-id-2 div.sk-toggleable__content {max-height: 0;max-width: 0;overflow: hidden;text-align: left;background-color: #f0f8ff;}#sk-container-id-2 div.sk-toggleable__content pre {margin: 0.2em;color: black;border-radius: 0.25em;background-color: #f0f8ff;}#sk-container-id-2 input.sk-toggleable__control:checked~div.sk-toggleable__content {max-height: 200px;max-width: 100%;overflow: auto;}#sk-container-id-2 input.sk-toggleable__control:checked~label.sk-toggleable__label-arrow:before {content: \"▾\";}#sk-container-id-2 div.sk-estimator input.sk-toggleable__control:checked~label.sk-toggleable__label {background-color: #d4ebff;}#sk-container-id-2 div.sk-label input.sk-toggleable__control:checked~label.sk-toggleable__label {background-color: #d4ebff;}#sk-container-id-2 input.sk-hidden--visually {border: 0;clip: rect(1px 1px 1px 1px);clip: rect(1px, 1px, 1px, 1px);height: 1px;margin: -1px;overflow: hidden;padding: 0;position: absolute;width: 1px;}#sk-container-id-2 div.sk-estimator {font-family: monospace;background-color: #f0f8ff;border: 1px dotted black;border-radius: 0.25em;box-sizing: border-box;margin-bottom: 0.5em;}#sk-container-id-2 div.sk-estimator:hover {background-color: #d4ebff;}#sk-container-id-2 div.sk-parallel-item::after {content: \"\";width: 100%;border-bottom: 1px solid gray;flex-grow: 1;}#sk-container-id-2 div.sk-label:hover label.sk-toggleable__label {background-color: #d4ebff;}#sk-container-id-2 div.sk-serial::before {content: \"\";position: absolute;border-left: 1px solid gray;box-sizing: border-box;top: 0;bottom: 0;left: 50%;z-index: 0;}#sk-container-id-2 div.sk-serial {display: flex;flex-direction: column;align-items: center;background-color: white;padding-right: 0.2em;padding-left: 0.2em;position: relative;}#sk-container-id-2 div.sk-item {position: relative;z-index: 1;}#sk-container-id-2 div.sk-parallel {display: flex;align-items: stretch;justify-content: center;background-color: white;position: relative;}#sk-container-id-2 div.sk-item::before, #sk-container-id-2 div.sk-parallel-item::before {content: \"\";position: absolute;border-left: 1px solid gray;box-sizing: border-box;top: 0;bottom: 0;left: 50%;z-index: -1;}#sk-container-id-2 div.sk-parallel-item {display: flex;flex-direction: column;z-index: 1;position: relative;background-color: white;}#sk-container-id-2 div.sk-parallel-item:first-child::after {align-self: flex-end;width: 50%;}#sk-container-id-2 div.sk-parallel-item:last-child::after {align-self: flex-start;width: 50%;}#sk-container-id-2 div.sk-parallel-item:only-child::after {width: 0;}#sk-container-id-2 div.sk-dashed-wrapped {border: 1px dashed gray;margin: 0 0.4em 0.5em 0.4em;box-sizing: border-box;padding-bottom: 0.4em;background-color: white;}#sk-container-id-2 div.sk-label label {font-family: monospace;font-weight: bold;display: inline-block;line-height: 1.2em;}#sk-container-id-2 div.sk-label-container {text-align: center;}#sk-container-id-2 div.sk-container {/* jupyter's `normalize.less` sets `[hidden] { display: none; }` but bootstrap.min.css set `[hidden] { display: none !important; }` so we also need the `!important` here to be able to override the default hidden behavior on the sphinx rendered scikit-learn.org. See: https://github.com/scikit-learn/scikit-learn/issues/21755 */display: inline-block !important;position: relative;}#sk-container-id-2 div.sk-text-repr-fallback {display: none;}</style><div id=\"sk-container-id-2\" class=\"sk-top-container\"><div class=\"sk-text-repr-fallback\"><pre>GridSearchCV(cv=5, estimator=ComplementNB(),\n",
              "             param_grid={&#x27;alpha&#x27;: [0.1, 0.5, 1.0], &#x27;norm&#x27;: [True, False]},\n",
              "             scoring=&#x27;f1_macro&#x27;)</pre><b>In a Jupyter environment, please rerun this cell to show the HTML representation or trust the notebook. <br />On GitHub, the HTML representation is unable to render, please try loading this page with nbviewer.org.</b></div><div class=\"sk-container\" hidden><div class=\"sk-item sk-dashed-wrapped\"><div class=\"sk-label-container\"><div class=\"sk-label sk-toggleable\"><input class=\"sk-toggleable__control sk-hidden--visually\" id=\"sk-estimator-id-2\" type=\"checkbox\" ><label for=\"sk-estimator-id-2\" class=\"sk-toggleable__label sk-toggleable__label-arrow\">GridSearchCV</label><div class=\"sk-toggleable__content\"><pre>GridSearchCV(cv=5, estimator=ComplementNB(),\n",
              "             param_grid={&#x27;alpha&#x27;: [0.1, 0.5, 1.0], &#x27;norm&#x27;: [True, False]},\n",
              "             scoring=&#x27;f1_macro&#x27;)</pre></div></div></div><div class=\"sk-parallel\"><div class=\"sk-parallel-item\"><div class=\"sk-item\"><div class=\"sk-label-container\"><div class=\"sk-label sk-toggleable\"><input class=\"sk-toggleable__control sk-hidden--visually\" id=\"sk-estimator-id-3\" type=\"checkbox\" ><label for=\"sk-estimator-id-3\" class=\"sk-toggleable__label sk-toggleable__label-arrow\">estimator: ComplementNB</label><div class=\"sk-toggleable__content\"><pre>ComplementNB()</pre></div></div></div><div class=\"sk-serial\"><div class=\"sk-item\"><div class=\"sk-estimator sk-toggleable\"><input class=\"sk-toggleable__control sk-hidden--visually\" id=\"sk-estimator-id-4\" type=\"checkbox\" ><label for=\"sk-estimator-id-4\" class=\"sk-toggleable__label sk-toggleable__label-arrow\">ComplementNB</label><div class=\"sk-toggleable__content\"><pre>ComplementNB()</pre></div></div></div></div></div></div></div></div></div></div>"
            ]
          },
          "metadata": {},
          "execution_count": 60
        }
      ]
    },
    {
      "cell_type": "code",
      "source": [
        "# Evaluar el mejor modelo CNB\n",
        "best_cnb = cnb_grid.best_estimator_\n",
        "cnb_f1 = train_and_evaluate(best_vectorizer, best_cnb, newsgroups_train.data, newsgroups_train.target, newsgroups_test.data, newsgroups_test.target)"
      ],
      "metadata": {
        "id": "zFT4UHRUmYzd"
      },
      "execution_count": 61,
      "outputs": []
    },
    {
      "cell_type": "code",
      "source": [
        "print(f\"\\nMejor F1-score para ComplementNB: {cnb_f1}\")\n",
        "print(f\"Mejores parámetros para ComplementNB: {cnb_grid.best_params_}\")\n",
        "print(f\"Mejores parámetros para el vectorizador: {vectorizer_grid.best_params_}\")"
      ],
      "metadata": {
        "colab": {
          "base_uri": "https://localhost:8080/"
        },
        "id": "gXsXYrVTmdB_",
        "outputId": "4fc667bb-e530-4171-b2e9-05fe7052c0f8"
      },
      "execution_count": 63,
      "outputs": [
        {
          "output_type": "stream",
          "name": "stdout",
          "text": [
            "\n",
            "Mejor F1-score para ComplementNB: 0.6948065380578043\n",
            "Mejores parámetros para ComplementNB: {'alpha': 0.1, 'norm': False}\n",
            "Mejores parámetros para el vectorizador: {'max_df': 0.5, 'min_df': 1, 'ngram_range': (1, 1)}\n"
          ]
        }
      ]
    },
    {
      "cell_type": "markdown",
      "source": [
        "# Vectorizador ajustado a los mejores parámetros"
      ],
      "metadata": {
        "id": "1e1T-PdUwTr1"
      }
    },
    {
      "cell_type": "code",
      "source": [
        "vectorizer = TfidfVectorizer(\n",
        "    stop_words='english',\n",
        "    max_features=10000,\n",
        "    ngram_range=(1, 1),\n",
        "    min_df=1,\n",
        "    max_df=0.5\n",
        ")\n",
        "\n",
        "\n",
        "# Ajuste del vectorizador\n",
        "X_train_tfidf = vectorizer.fit_transform(newsgroups_train.data)"
      ],
      "metadata": {
        "id": "zSEy4Wbcrpl7"
      },
      "execution_count": 65,
      "outputs": []
    },
    {
      "cell_type": "code",
      "source": [
        "X_terms_documentos = X_train_tfidf.T\n",
        "terminos = vectorizer.get_feature_names_out()\n",
        "\n",
        "print(f\"Forma de la matriz TF-IDF: {X_train_tfidf.shape}\")\n",
        "print(f\"Número total de términos: {len(terms)}\")\n"
      ],
      "metadata": {
        "colab": {
          "base_uri": "https://localhost:8080/"
        },
        "id": "8wLwiK7swZFk",
        "outputId": "c09d0662-6a0d-45a1-911a-675ffb0277a3"
      },
      "execution_count": 67,
      "outputs": [
        {
          "output_type": "stream",
          "name": "stdout",
          "text": [
            "Forma de la matriz TF-IDF: (11314, 10000)\n",
            "Número total de términos: 10000\n"
          ]
        }
      ]
    },
    {
      "cell_type": "code",
      "source": [
        "selection = ['baseball', 'rights', 'laws', 'groups', 'crime']"
      ],
      "metadata": {
        "id": "JmDAS7-pyggC"
      },
      "execution_count": 98,
      "outputs": []
    },
    {
      "cell_type": "code",
      "source": [
        "\n",
        "def similar_words(selection, X_terms_documentos, terminos, top_n=5):\n",
        "\n",
        "  \"\"\"\n",
        "  Encuentra las palabras más similares para una lista de palabras seleccionadas.\n",
        "\n",
        "  Parámetros:\n",
        "  - selection: Lista de palabras para las que se buscan similares.\n",
        "  - X_terms_documentos: Matriz transpuesta de TF-IDF (términos x documentos).\n",
        "  - terminos: Lista de todos los términos (características).\n",
        "  - top_n: Número de palabras similares a devolver para cada palabra seleccionada.\n",
        "\n",
        "  Retorna:\n",
        "  - Un diccionario con las palabras seleccionadas como claves y listas de tuplas\n",
        "    (palabra similar, puntuación de similitud) como valores.\n",
        "  \"\"\"\n",
        "  resultados = {}\n",
        "\n",
        "  for palabra in selection:\n",
        "      if palabra in terminos:\n",
        "          indice = np.where(terminos == palabra)[0][0]\n",
        "          vector_palabra = X_terms_documentos[indice].reshape(1, -1)\n",
        "\n",
        "          similitudes = cosine_similarity(vector_palabra, X_terms_documentos)[0]\n",
        "          indices_similares = np.argsort(similitudes)[::-1][1:6]  # Top 5 excluyendo la propia palabra\n",
        "\n",
        "          palabras_similares = [(terminos[i], similitudes[i]) for i in indices_similares]\n",
        "          resultados[palabra] = palabras_similares\n",
        "      else:\n",
        "          resultados[palabra] = [(\"Palabra no encontrada en el vocabulario\", 0)]\n",
        "\n",
        "  return resultados"
      ],
      "metadata": {
        "id": "M_QGdeAN0mWG"
      },
      "execution_count": 88,
      "outputs": []
    },
    {
      "cell_type": "code",
      "source": [
        "resultados = get_similar_words(selection, X_terms_documentos, terminos)\n",
        "resultados"
      ],
      "metadata": {
        "colab": {
          "base_uri": "https://localhost:8080/"
        },
        "id": "6rPS88p2z_uJ",
        "outputId": "7b12f3e6-304c-4a96-9806-d010472ad5ac"
      },
      "execution_count": 99,
      "outputs": [
        {
          "output_type": "execute_result",
          "data": {
            "text/plain": [
              "{'baseball': [('football', 0.17172640113534215),\n",
              "  ('espn', 0.16474950555061119),\n",
              "  ('game', 0.14537464671443387),\n",
              "  ('weekly', 0.1382889762511507),\n",
              "  ('basketball', 0.13401270465501627)],\n",
              " 'rights': [('civil', 0.23214220587139758),\n",
              "  ('human', 0.19078509940607413),\n",
              "  ('constitution', 0.18801202117108323),\n",
              "  ('jointly', 0.16705628676999643),\n",
              "  ('survivor', 0.15821466496422032)],\n",
              " 'laws': [('law', 0.19668110287453766),\n",
              "  ('warned', 0.17096715626021214),\n",
              "  ('federal', 0.15293140575149972),\n",
              "  ('ceremonial', 0.14857842912720914),\n",
              "  ('mw', 0.14008560998427702)],\n",
              " 'groups': [('desktop', 0.1656075984781788),\n",
              "  ('aspects', 0.1620945528052851),\n",
              "  ('convenience', 0.16016025836152328),\n",
              "  ('icons', 0.15501256499806135),\n",
              "  ('group', 0.14203145468717335)],\n",
              " 'crime': [('criminal', 0.264330876324275),\n",
              "  ('violent', 0.24377710150912194),\n",
              "  ('gun', 0.23313244350814974),\n",
              "  ('rate', 0.18610995448559314),\n",
              "  ('rape', 0.1852416061552619)]}"
            ]
          },
          "metadata": {},
          "execution_count": 99
        }
      ]
    },
    {
      "cell_type": "markdown",
      "source": [
        "Se puede observar que el modelo se encuentra performando bien (aún cuando puedan haber aspectos de mejora). Si observamos los diferentes registros para cada una de las palabras seleccionadas se tiene:\n",
        "\n",
        "Para la palabra **Baseball** arrojo similaritud con las siguientes {football, espn, game, wekly, basketball}. Para este caso, la similiritud esta relacionada con eventos deportivos más que con el deporte en particular.\n",
        "\n",
        "Para la palabra **Rights** arrojo similaritud con las siguientes {civil, human, constitution, jointly, survivor}. Términos bastante asociados a la palabra \"derechos\".\n",
        "\n",
        "Para la palabra **Laws** arrojo similaritud con las siguientes {law, warned, federal, ceremonial, mw}. Palabras con relación asociadas a términos legales y/o bufetes.\n",
        "\n",
        "Para la palabra **Groups** arrojo similaritud con las siguientes {desktop, aspects, convenience, icons, group}\n",
        "\n",
        "Para la palabra **Crime** arrojo similaritud con las siguientes {criminal, violent, gun, rate, rape}. Para este casos resultaron con mayor similitud palabras muy relacionadas a hechos delictivos (violentos).\n",
        "\n"
      ],
      "metadata": {
        "id": "jgOzP6DKAXGr"
      }
    }
  ],
  "metadata": {
    "colab": {
      "provenance": []
    },
    "kernelspec": {
      "display_name": "Python 3",
      "name": "python3"
    },
    "language_info": {
      "name": "python"
    }
  },
  "nbformat": 4,
  "nbformat_minor": 0
}