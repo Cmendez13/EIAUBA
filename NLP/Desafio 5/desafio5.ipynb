{
  "metadata": {
    "kernelspec": {
      "language": "python",
      "display_name": "Python 3",
      "name": "python3"
    },
    "language_info": {
      "name": "python",
      "version": "3.10.14",
      "mimetype": "text/x-python",
      "codemirror_mode": {
        "name": "ipython",
        "version": 3
      },
      "pygments_lexer": "ipython3",
      "nbconvert_exporter": "python",
      "file_extension": ".py"
    },
    "kaggle": {
      "accelerator": "nvidiaTeslaT4",
      "dataSources": [],
      "dockerImageVersionId": 30787,
      "isInternetEnabled": true,
      "language": "python",
      "sourceType": "notebook",
      "isGpuEnabled": true
    },
    "colab": {
      "provenance": []
    }
  },
  "nbformat_minor": 0,
  "nbformat": 4,
  "cells": [
    {
      "cell_type": "code",
      "source": [
        "!pip install --upgrade tensorflow transformers"
      ],
      "metadata": {
        "execution": {
          "iopub.status.busy": "2024-10-24T09:33:45.081067Z",
          "iopub.execute_input": "2024-10-24T09:33:45.081468Z",
          "iopub.status.idle": "2024-10-24T09:35:12.147261Z",
          "shell.execute_reply.started": "2024-10-24T09:33:45.081424Z",
          "shell.execute_reply": "2024-10-24T09:35:12.146313Z"
        },
        "trusted": true,
        "id": "TXVcJc_Wa7l0",
        "outputId": "02279ce5-b512-4dd5-c133-778d53b9e645"
      },
      "execution_count": null,
      "outputs": [
        {
          "name": "stdout",
          "text": "Requirement already satisfied: tensorflow in /opt/conda/lib/python3.10/site-packages (2.16.1)\nCollecting tensorflow\n  Downloading tensorflow-2.17.0-cp310-cp310-manylinux_2_17_x86_64.manylinux2014_x86_64.whl.metadata (4.2 kB)\nRequirement already satisfied: transformers in /opt/conda/lib/python3.10/site-packages (4.45.1)\nCollecting transformers\n  Downloading transformers-4.46.0-py3-none-any.whl.metadata (44 kB)\n\u001b[2K     \u001b[90m━━━━━━━━━━━━━━━━━━━━━━━━━━━━━━━━━━━━━━━━\u001b[0m \u001b[32m44.1/44.1 kB\u001b[0m \u001b[31m2.0 MB/s\u001b[0m eta \u001b[36m0:00:00\u001b[0m\n\u001b[?25hRequirement already satisfied: absl-py>=1.0.0 in /opt/conda/lib/python3.10/site-packages (from tensorflow) (1.4.0)\nRequirement already satisfied: astunparse>=1.6.0 in /opt/conda/lib/python3.10/site-packages (from tensorflow) (1.6.3)\nRequirement already satisfied: flatbuffers>=24.3.25 in /opt/conda/lib/python3.10/site-packages (from tensorflow) (24.3.25)\nRequirement already satisfied: gast!=0.5.0,!=0.5.1,!=0.5.2,>=0.2.1 in /opt/conda/lib/python3.10/site-packages (from tensorflow) (0.5.4)\nRequirement already satisfied: google-pasta>=0.1.1 in /opt/conda/lib/python3.10/site-packages (from tensorflow) (0.2.0)\nRequirement already satisfied: h5py>=3.10.0 in /opt/conda/lib/python3.10/site-packages (from tensorflow) (3.11.0)\nRequirement already satisfied: libclang>=13.0.0 in /opt/conda/lib/python3.10/site-packages (from tensorflow) (18.1.1)\nRequirement already satisfied: ml-dtypes<0.5.0,>=0.3.1 in /opt/conda/lib/python3.10/site-packages (from tensorflow) (0.3.2)\nRequirement already satisfied: opt-einsum>=2.3.2 in /opt/conda/lib/python3.10/site-packages (from tensorflow) (3.3.0)\nRequirement already satisfied: packaging in /opt/conda/lib/python3.10/site-packages (from tensorflow) (21.3)\nRequirement already satisfied: protobuf!=4.21.0,!=4.21.1,!=4.21.2,!=4.21.3,!=4.21.4,!=4.21.5,<5.0.0dev,>=3.20.3 in /opt/conda/lib/python3.10/site-packages (from tensorflow) (3.20.3)\nRequirement already satisfied: requests<3,>=2.21.0 in /opt/conda/lib/python3.10/site-packages (from tensorflow) (2.32.3)\nRequirement already satisfied: setuptools in /opt/conda/lib/python3.10/site-packages (from tensorflow) (70.0.0)\nRequirement already satisfied: six>=1.12.0 in /opt/conda/lib/python3.10/site-packages (from tensorflow) (1.16.0)\nRequirement already satisfied: termcolor>=1.1.0 in /opt/conda/lib/python3.10/site-packages (from tensorflow) (2.4.0)\nRequirement already satisfied: typing-extensions>=3.6.6 in /opt/conda/lib/python3.10/site-packages (from tensorflow) (4.12.2)\nRequirement already satisfied: wrapt>=1.11.0 in /opt/conda/lib/python3.10/site-packages (from tensorflow) (1.16.0)\nRequirement already satisfied: grpcio<2.0,>=1.24.3 in /opt/conda/lib/python3.10/site-packages (from tensorflow) (1.62.2)\nCollecting tensorboard<2.18,>=2.17 (from tensorflow)\n  Downloading tensorboard-2.17.1-py3-none-any.whl.metadata (1.6 kB)\nRequirement already satisfied: keras>=3.2.0 in /opt/conda/lib/python3.10/site-packages (from tensorflow) (3.3.3)\nRequirement already satisfied: tensorflow-io-gcs-filesystem>=0.23.1 in /opt/conda/lib/python3.10/site-packages (from tensorflow) (0.37.0)\nRequirement already satisfied: numpy<2.0.0,>=1.23.5 in /opt/conda/lib/python3.10/site-packages (from tensorflow) (1.26.4)\nRequirement already satisfied: filelock in /opt/conda/lib/python3.10/site-packages (from transformers) (3.15.1)\nRequirement already satisfied: huggingface-hub<1.0,>=0.23.2 in /opt/conda/lib/python3.10/site-packages (from transformers) (0.25.1)\nRequirement already satisfied: pyyaml>=5.1 in /opt/conda/lib/python3.10/site-packages (from transformers) (6.0.2)\nRequirement already satisfied: regex!=2019.12.17 in /opt/conda/lib/python3.10/site-packages (from transformers) (2024.5.15)\nRequirement already satisfied: safetensors>=0.4.1 in /opt/conda/lib/python3.10/site-packages (from transformers) (0.4.5)\nRequirement already satisfied: tokenizers<0.21,>=0.20 in /opt/conda/lib/python3.10/site-packages (from transformers) (0.20.0)\nRequirement already satisfied: tqdm>=4.27 in /opt/conda/lib/python3.10/site-packages (from transformers) (4.66.4)\nRequirement already satisfied: wheel<1.0,>=0.23.0 in /opt/conda/lib/python3.10/site-packages (from astunparse>=1.6.0->tensorflow) (0.43.0)\nRequirement already satisfied: fsspec>=2023.5.0 in /opt/conda/lib/python3.10/site-packages (from huggingface-hub<1.0,>=0.23.2->transformers) (2024.6.1)\nRequirement already satisfied: rich in /opt/conda/lib/python3.10/site-packages (from keras>=3.2.0->tensorflow) (13.7.1)\nRequirement already satisfied: namex in /opt/conda/lib/python3.10/site-packages (from keras>=3.2.0->tensorflow) (0.0.8)\nRequirement already satisfied: optree in /opt/conda/lib/python3.10/site-packages (from keras>=3.2.0->tensorflow) (0.11.0)\nRequirement already satisfied: pyparsing!=3.0.5,>=2.0.2 in /opt/conda/lib/python3.10/site-packages (from packaging->tensorflow) (3.1.2)\nRequirement already satisfied: charset-normalizer<4,>=2 in /opt/conda/lib/python3.10/site-packages (from requests<3,>=2.21.0->tensorflow) (3.3.2)\nRequirement already satisfied: idna<4,>=2.5 in /opt/conda/lib/python3.10/site-packages (from requests<3,>=2.21.0->tensorflow) (3.7)\nRequirement already satisfied: urllib3<3,>=1.21.1 in /opt/conda/lib/python3.10/site-packages (from requests<3,>=2.21.0->tensorflow) (1.26.18)\nRequirement already satisfied: certifi>=2017.4.17 in /opt/conda/lib/python3.10/site-packages (from requests<3,>=2.21.0->tensorflow) (2024.8.30)\nRequirement already satisfied: markdown>=2.6.8 in /opt/conda/lib/python3.10/site-packages (from tensorboard<2.18,>=2.17->tensorflow) (3.6)\nRequirement already satisfied: tensorboard-data-server<0.8.0,>=0.7.0 in /opt/conda/lib/python3.10/site-packages (from tensorboard<2.18,>=2.17->tensorflow) (0.7.2)\nRequirement already satisfied: werkzeug>=1.0.1 in /opt/conda/lib/python3.10/site-packages (from tensorboard<2.18,>=2.17->tensorflow) (3.0.4)\nRequirement already satisfied: MarkupSafe>=2.1.1 in /opt/conda/lib/python3.10/site-packages (from werkzeug>=1.0.1->tensorboard<2.18,>=2.17->tensorflow) (2.1.5)\nRequirement already satisfied: markdown-it-py>=2.2.0 in /opt/conda/lib/python3.10/site-packages (from rich->keras>=3.2.0->tensorflow) (3.0.0)\nRequirement already satisfied: pygments<3.0.0,>=2.13.0 in /opt/conda/lib/python3.10/site-packages (from rich->keras>=3.2.0->tensorflow) (2.18.0)\nRequirement already satisfied: mdurl~=0.1 in /opt/conda/lib/python3.10/site-packages (from markdown-it-py>=2.2.0->rich->keras>=3.2.0->tensorflow) (0.1.2)\nDownloading tensorflow-2.17.0-cp310-cp310-manylinux_2_17_x86_64.manylinux2014_x86_64.whl (601.3 MB)\n\u001b[2K   \u001b[90m━━━━━━━━━━━━━━━━━━━━━━━━━━━━━━━━━━━━━━━━\u001b[0m \u001b[32m601.3/601.3 MB\u001b[0m \u001b[31m2.7 MB/s\u001b[0m eta \u001b[36m0:00:00\u001b[0m:00:01\u001b[0m00:01\u001b[0m\n\u001b[?25hDownloading transformers-4.46.0-py3-none-any.whl (10.0 MB)\n\u001b[2K   \u001b[90m━━━━━━━━━━━━━━━━━━━━━━━━━━━━━━━━━━━━━━━━\u001b[0m \u001b[32m10.0/10.0 MB\u001b[0m \u001b[31m10.3 MB/s\u001b[0m eta \u001b[36m0:00:00\u001b[0m00:01\u001b[0m0:01\u001b[0mm\n\u001b[?25hDownloading tensorboard-2.17.1-py3-none-any.whl (5.5 MB)\n\u001b[2K   \u001b[90m━━━━━━━━━━━━━━━━━━━━━━━━━━━━━━━━━━━━━━━━\u001b[0m \u001b[32m5.5/5.5 MB\u001b[0m \u001b[31m20.5 MB/s\u001b[0m eta \u001b[36m0:00:00\u001b[0m:00:01\u001b[0m00:01\u001b[0m\n\u001b[?25hInstalling collected packages: tensorboard, transformers, tensorflow\n  Attempting uninstall: tensorboard\n    Found existing installation: tensorboard 2.16.2\n    Uninstalling tensorboard-2.16.2:\n      Successfully uninstalled tensorboard-2.16.2\n  Attempting uninstall: transformers\n    Found existing installation: transformers 4.45.1\n    Uninstalling transformers-4.45.1:\n      Successfully uninstalled transformers-4.45.1\n  Attempting uninstall: tensorflow\n    Found existing installation: tensorflow 2.16.1\n    Uninstalling tensorflow-2.16.1:\n      Successfully uninstalled tensorflow-2.16.1\n\u001b[31mERROR: pip's dependency resolver does not currently take into account all the packages that are installed. This behaviour is the source of the following dependency conflicts.\ntensorflow-decision-forests 1.9.1 requires tensorflow~=2.16.1, but you have tensorflow 2.17.0 which is incompatible.\ntensorflow-text 2.16.1 requires tensorflow<2.17,>=2.16.1; platform_machine != \"arm64\" or platform_system != \"Darwin\", but you have tensorflow 2.17.0 which is incompatible.\ntf-keras 2.16.0 requires tensorflow<2.17,>=2.16, but you have tensorflow 2.17.0 which is incompatible.\u001b[0m\u001b[31m\n\u001b[0mSuccessfully installed tensorboard-2.17.1 tensorflow-2.17.0 transformers-4.46.0\n",
          "output_type": "stream"
        }
      ]
    },
    {
      "cell_type": "code",
      "source": [
        "import pandas as pd\n",
        "import numpy as np\n",
        "import matplotlib.pyplot as plt\n",
        "import seaborn as sns\n",
        "import tensorflow as tf\n",
        "from transformers import TFBertModel\n",
        "from tensorflow.keras.utils import to_categorical\n",
        "from transformers import InputExample, InputFeatures  # Métodos para transformar el dataset\n",
        "from transformers import BertTokenizer"
      ],
      "metadata": {
        "execution": {
          "iopub.status.busy": "2024-10-24T09:35:52.985950Z",
          "iopub.execute_input": "2024-10-24T09:35:52.986350Z",
          "iopub.status.idle": "2024-10-24T09:35:52.992558Z",
          "shell.execute_reply.started": "2024-10-24T09:35:52.986310Z",
          "shell.execute_reply": "2024-10-24T09:35:52.991569Z"
        },
        "trusted": true,
        "id": "3tIpHXt8a7l0"
      },
      "execution_count": null,
      "outputs": []
    },
    {
      "cell_type": "code",
      "source": [
        "# Definición personalizada\n",
        "class BertLayer(tf.keras.layers.Layer):\n",
        "    def __init__(self, model_name='bert-base-uncased', **kwargs):\n",
        "        super(BertLayer, self).__init__(**kwargs)\n",
        "        self.bert_model = TFBertModel.from_pretrained(model_name)\n",
        "        self.bert_model.trainable = False  # No ajustar los pesos de BERT\n",
        "\n",
        "    def call(self, inputs):\n",
        "        input_ids, attention_mask = inputs\n",
        "        outputs = self.bert_model(input_ids=input_ids, attention_mask=attention_mask)\n",
        "        return outputs.pooler_output\n",
        "\n",
        "def create_model(max_length=140, output_shape=3):\n",
        "    # Entradas\n",
        "    input_ids = tf.keras.layers.Input(shape=(max_length,), dtype=tf.int32, name='input_ids')\n",
        "    attention_mask = tf.keras.layers.Input(shape=(max_length,), dtype=tf.int32, name='attention_mask')\n",
        "\n",
        "    # Usar la capa personalizada de BERT\n",
        "    pooled_output = BertLayer()([input_ids, attention_mask])\n",
        "\n",
        "    # Capa de Dropout\n",
        "    x = tf.keras.layers.Dropout(0.2)(pooled_output)\n",
        "\n",
        "    # Capa densa de salida\n",
        "    output = tf.keras.layers.Dense(output_shape, activation='softmax')(x)\n",
        "\n",
        "    # Crear el modelo\n",
        "    model = tf.keras.Model(inputs=[input_ids, attention_mask], outputs=output)\n",
        "\n",
        "    # Compilación del modelo\n",
        "    model.compile(optimizer='adam',\n",
        "                  loss='categorical_crossentropy',\n",
        "                  metrics=['accuracy', tf.keras.metrics.F1Score(average='macro')])\n",
        "\n",
        "    return model\n",
        "\n"
      ],
      "metadata": {
        "execution": {
          "iopub.status.busy": "2024-10-24T09:36:00.899039Z",
          "iopub.execute_input": "2024-10-24T09:36:00.899809Z",
          "iopub.status.idle": "2024-10-24T09:36:00.909504Z",
          "shell.execute_reply.started": "2024-10-24T09:36:00.899768Z",
          "shell.execute_reply": "2024-10-24T09:36:00.908527Z"
        },
        "trusted": true,
        "id": "PM7h6heBa7l1"
      },
      "execution_count": null,
      "outputs": []
    },
    {
      "cell_type": "code",
      "source": [
        "# Uso de la función para crear el modelo\n",
        "model = create_model(max_length=140, output_shape=3)\n",
        "\n",
        "# Resumen del modelo\n",
        "model.summary()"
      ],
      "metadata": {
        "execution": {
          "iopub.status.busy": "2024-10-24T09:36:15.701257Z",
          "iopub.execute_input": "2024-10-24T09:36:15.702108Z",
          "iopub.status.idle": "2024-10-24T09:36:27.227352Z",
          "shell.execute_reply.started": "2024-10-24T09:36:15.702065Z",
          "shell.execute_reply": "2024-10-24T09:36:27.226482Z"
        },
        "trusted": true,
        "colab": {
          "referenced_widgets": [
            "f0ea1984117b4cf7b1b5747c73cdb5f0",
            "a87602640e1840f1a1edef8a6390fdf6"
          ]
        },
        "id": "okVPW0AXa7l1",
        "outputId": "302f95de-cbaf-4dd2-8553-9352b6f3988d"
      },
      "execution_count": null,
      "outputs": [
        {
          "output_type": "display_data",
          "data": {
            "text/plain": "config.json:   0%|          | 0.00/570 [00:00<?, ?B/s]",
            "application/vnd.jupyter.widget-view+json": {
              "version_major": 2,
              "version_minor": 0,
              "model_id": "f0ea1984117b4cf7b1b5747c73cdb5f0"
            }
          },
          "metadata": {}
        },
        {
          "output_type": "display_data",
          "data": {
            "text/plain": "model.safetensors:   0%|          | 0.00/440M [00:00<?, ?B/s]",
            "application/vnd.jupyter.widget-view+json": {
              "version_major": 2,
              "version_minor": 0,
              "model_id": "a87602640e1840f1a1edef8a6390fdf6"
            }
          },
          "metadata": {}
        },
        {
          "name": "stderr",
          "text": "WARNING: All log messages before absl::InitializeLog() is called are written to STDERR\nI0000 00:00:1729762578.772693      30 cuda_executor.cc:1015] successful NUMA node read from SysFS had negative value (-1), but there must be at least one NUMA node, so returning NUMA node zero. See more at https://github.com/torvalds/linux/blob/v6.0/Documentation/ABI/testing/sysfs-bus-pci#L344-L355\nI0000 00:00:1729762578.773122      30 cuda_executor.cc:1015] successful NUMA node read from SysFS had negative value (-1), but there must be at least one NUMA node, so returning NUMA node zero. See more at https://github.com/torvalds/linux/blob/v6.0/Documentation/ABI/testing/sysfs-bus-pci#L344-L355\nI0000 00:00:1729762578.784922      30 cuda_executor.cc:1015] successful NUMA node read from SysFS had negative value (-1), but there must be at least one NUMA node, so returning NUMA node zero. See more at https://github.com/torvalds/linux/blob/v6.0/Documentation/ABI/testing/sysfs-bus-pci#L344-L355\nI0000 00:00:1729762578.785206      30 cuda_executor.cc:1015] successful NUMA node read from SysFS had negative value (-1), but there must be at least one NUMA node, so returning NUMA node zero. See more at https://github.com/torvalds/linux/blob/v6.0/Documentation/ABI/testing/sysfs-bus-pci#L344-L355\nI0000 00:00:1729762578.785463      30 cuda_executor.cc:1015] successful NUMA node read from SysFS had negative value (-1), but there must be at least one NUMA node, so returning NUMA node zero. See more at https://github.com/torvalds/linux/blob/v6.0/Documentation/ABI/testing/sysfs-bus-pci#L344-L355\nI0000 00:00:1729762578.785712      30 cuda_executor.cc:1015] successful NUMA node read from SysFS had negative value (-1), but there must be at least one NUMA node, so returning NUMA node zero. See more at https://github.com/torvalds/linux/blob/v6.0/Documentation/ABI/testing/sysfs-bus-pci#L344-L355\nI0000 00:00:1729762579.005312      30 cuda_executor.cc:1015] successful NUMA node read from SysFS had negative value (-1), but there must be at least one NUMA node, so returning NUMA node zero. See more at https://github.com/torvalds/linux/blob/v6.0/Documentation/ABI/testing/sysfs-bus-pci#L344-L355\nI0000 00:00:1729762579.005689      30 cuda_executor.cc:1015] successful NUMA node read from SysFS had negative value (-1), but there must be at least one NUMA node, so returning NUMA node zero. See more at https://github.com/torvalds/linux/blob/v6.0/Documentation/ABI/testing/sysfs-bus-pci#L344-L355\nI0000 00:00:1729762579.005934      30 cuda_executor.cc:1015] successful NUMA node read from SysFS had negative value (-1), but there must be at least one NUMA node, so returning NUMA node zero. See more at https://github.com/torvalds/linux/blob/v6.0/Documentation/ABI/testing/sysfs-bus-pci#L344-L355\nI0000 00:00:1729762579.006155      30 cuda_executor.cc:1015] successful NUMA node read from SysFS had negative value (-1), but there must be at least one NUMA node, so returning NUMA node zero. See more at https://github.com/torvalds/linux/blob/v6.0/Documentation/ABI/testing/sysfs-bus-pci#L344-L355\nI0000 00:00:1729762579.006373      30 cuda_executor.cc:1015] successful NUMA node read from SysFS had negative value (-1), but there must be at least one NUMA node, so returning NUMA node zero. See more at https://github.com/torvalds/linux/blob/v6.0/Documentation/ABI/testing/sysfs-bus-pci#L344-L355\nI0000 00:00:1729762579.006611      30 cuda_executor.cc:1015] successful NUMA node read from SysFS had negative value (-1), but there must be at least one NUMA node, so returning NUMA node zero. See more at https://github.com/torvalds/linux/blob/v6.0/Documentation/ABI/testing/sysfs-bus-pci#L344-L355\nI0000 00:00:1729762579.066607      30 cuda_executor.cc:1015] successful NUMA node read from SysFS had negative value (-1), but there must be at least one NUMA node, so returning NUMA node zero. See more at https://github.com/torvalds/linux/blob/v6.0/Documentation/ABI/testing/sysfs-bus-pci#L344-L355\nI0000 00:00:1729762579.066964      30 cuda_executor.cc:1015] successful NUMA node read from SysFS had negative value (-1), but there must be at least one NUMA node, so returning NUMA node zero. See more at https://github.com/torvalds/linux/blob/v6.0/Documentation/ABI/testing/sysfs-bus-pci#L344-L355\nI0000 00:00:1729762579.067206      30 cuda_executor.cc:1015] successful NUMA node read from SysFS had negative value (-1), but there must be at least one NUMA node, so returning NUMA node zero. See more at https://github.com/torvalds/linux/blob/v6.0/Documentation/ABI/testing/sysfs-bus-pci#L344-L355\nI0000 00:00:1729762579.067456      30 cuda_executor.cc:1015] successful NUMA node read from SysFS had negative value (-1), but there must be at least one NUMA node, so returning NUMA node zero. See more at https://github.com/torvalds/linux/blob/v6.0/Documentation/ABI/testing/sysfs-bus-pci#L344-L355\nI0000 00:00:1729762579.067721      30 cuda_executor.cc:1015] successful NUMA node read from SysFS had negative value (-1), but there must be at least one NUMA node, so returning NUMA node zero. See more at https://github.com/torvalds/linux/blob/v6.0/Documentation/ABI/testing/sysfs-bus-pci#L344-L355\nI0000 00:00:1729762579.068448      30 cuda_executor.cc:1015] successful NUMA node read from SysFS had negative value (-1), but there must be at least one NUMA node, so returning NUMA node zero. See more at https://github.com/torvalds/linux/blob/v6.0/Documentation/ABI/testing/sysfs-bus-pci#L344-L355\nSome weights of the PyTorch model were not used when initializing the TF 2.0 model TFBertModel: ['cls.seq_relationship.bias', 'cls.predictions.transform.dense.weight', 'cls.predictions.transform.LayerNorm.weight', 'cls.predictions.bias', 'cls.predictions.transform.dense.bias', 'cls.predictions.transform.LayerNorm.bias', 'cls.seq_relationship.weight']\n- This IS expected if you are initializing TFBertModel from a PyTorch model trained on another task or with another architecture (e.g. initializing a TFBertForSequenceClassification model from a BertForPreTraining model).\n- This IS NOT expected if you are initializing TFBertModel from a PyTorch model that you expect to be exactly identical (e.g. initializing a TFBertForSequenceClassification model from a BertForSequenceClassification model).\nAll the weights of TFBertModel were initialized from the PyTorch model.\nIf your task is similar to the task the model of the checkpoint was trained on, you can already use TFBertModel for predictions without further training.\n",
          "output_type": "stream"
        },
        {
          "output_type": "display_data",
          "data": {
            "text/plain": "\u001b[1mModel: \"functional_1\"\u001b[0m\n",
            "text/html": "<pre style=\"white-space:pre;overflow-x:auto;line-height:normal;font-family:Menlo,'DejaVu Sans Mono',consolas,'Courier New',monospace\"><span style=\"font-weight: bold\">Model: \"functional_1\"</span>\n</pre>\n"
          },
          "metadata": {}
        },
        {
          "output_type": "display_data",
          "data": {
            "text/plain": "┏━━━━━━━━━━━━━━━━━━━━━┳━━━━━━━━━━━━━━━━━━━┳━━━━━━━━━━━━┳━━━━━━━━━━━━━━━━━━━┓\n┃\u001b[1m \u001b[0m\u001b[1mLayer (type)       \u001b[0m\u001b[1m \u001b[0m┃\u001b[1m \u001b[0m\u001b[1mOutput Shape     \u001b[0m\u001b[1m \u001b[0m┃\u001b[1m \u001b[0m\u001b[1m   Param #\u001b[0m\u001b[1m \u001b[0m┃\u001b[1m \u001b[0m\u001b[1mConnected to     \u001b[0m\u001b[1m \u001b[0m┃\n┡━━━━━━━━━━━━━━━━━━━━━╇━━━━━━━━━━━━━━━━━━━╇━━━━━━━━━━━━╇━━━━━━━━━━━━━━━━━━━┩\n│ input_ids           │ (\u001b[38;5;45mNone\u001b[0m, \u001b[38;5;34m140\u001b[0m)       │          \u001b[38;5;34m0\u001b[0m │ -                 │\n│ (\u001b[38;5;33mInputLayer\u001b[0m)        │                   │            │                   │\n├─────────────────────┼───────────────────┼────────────┼───────────────────┤\n│ attention_mask      │ (\u001b[38;5;45mNone\u001b[0m, \u001b[38;5;34m140\u001b[0m)       │          \u001b[38;5;34m0\u001b[0m │ -                 │\n│ (\u001b[38;5;33mInputLayer\u001b[0m)        │                   │            │                   │\n├─────────────────────┼───────────────────┼────────────┼───────────────────┤\n│ bert_layer          │ (\u001b[38;5;45mNone\u001b[0m, \u001b[38;5;34m768\u001b[0m)       │          \u001b[38;5;34m0\u001b[0m │ input_ids[\u001b[38;5;34m0\u001b[0m][\u001b[38;5;34m0\u001b[0m],  │\n│ (\u001b[38;5;33mBertLayer\u001b[0m)         │                   │            │ attention_mask[\u001b[38;5;34m0\u001b[0m… │\n├─────────────────────┼───────────────────┼────────────┼───────────────────┤\n│ dropout (\u001b[38;5;33mDropout\u001b[0m)   │ (\u001b[38;5;45mNone\u001b[0m, \u001b[38;5;34m768\u001b[0m)       │          \u001b[38;5;34m0\u001b[0m │ bert_layer[\u001b[38;5;34m0\u001b[0m][\u001b[38;5;34m0\u001b[0m]  │\n├─────────────────────┼───────────────────┼────────────┼───────────────────┤\n│ dense (\u001b[38;5;33mDense\u001b[0m)       │ (\u001b[38;5;45mNone\u001b[0m, \u001b[38;5;34m3\u001b[0m)         │      \u001b[38;5;34m2,307\u001b[0m │ dropout[\u001b[38;5;34m0\u001b[0m][\u001b[38;5;34m0\u001b[0m]     │\n└─────────────────────┴───────────────────┴────────────┴───────────────────┘\n",
            "text/html": "<pre style=\"white-space:pre;overflow-x:auto;line-height:normal;font-family:Menlo,'DejaVu Sans Mono',consolas,'Courier New',monospace\">┏━━━━━━━━━━━━━━━━━━━━━┳━━━━━━━━━━━━━━━━━━━┳━━━━━━━━━━━━┳━━━━━━━━━━━━━━━━━━━┓\n┃<span style=\"font-weight: bold\"> Layer (type)        </span>┃<span style=\"font-weight: bold\"> Output Shape      </span>┃<span style=\"font-weight: bold\">    Param # </span>┃<span style=\"font-weight: bold\"> Connected to      </span>┃\n┡━━━━━━━━━━━━━━━━━━━━━╇━━━━━━━━━━━━━━━━━━━╇━━━━━━━━━━━━╇━━━━━━━━━━━━━━━━━━━┩\n│ input_ids           │ (<span style=\"color: #00d7ff; text-decoration-color: #00d7ff\">None</span>, <span style=\"color: #00af00; text-decoration-color: #00af00\">140</span>)       │          <span style=\"color: #00af00; text-decoration-color: #00af00\">0</span> │ -                 │\n│ (<span style=\"color: #0087ff; text-decoration-color: #0087ff\">InputLayer</span>)        │                   │            │                   │\n├─────────────────────┼───────────────────┼────────────┼───────────────────┤\n│ attention_mask      │ (<span style=\"color: #00d7ff; text-decoration-color: #00d7ff\">None</span>, <span style=\"color: #00af00; text-decoration-color: #00af00\">140</span>)       │          <span style=\"color: #00af00; text-decoration-color: #00af00\">0</span> │ -                 │\n│ (<span style=\"color: #0087ff; text-decoration-color: #0087ff\">InputLayer</span>)        │                   │            │                   │\n├─────────────────────┼───────────────────┼────────────┼───────────────────┤\n│ bert_layer          │ (<span style=\"color: #00d7ff; text-decoration-color: #00d7ff\">None</span>, <span style=\"color: #00af00; text-decoration-color: #00af00\">768</span>)       │          <span style=\"color: #00af00; text-decoration-color: #00af00\">0</span> │ input_ids[<span style=\"color: #00af00; text-decoration-color: #00af00\">0</span>][<span style=\"color: #00af00; text-decoration-color: #00af00\">0</span>],  │\n│ (<span style=\"color: #0087ff; text-decoration-color: #0087ff\">BertLayer</span>)         │                   │            │ attention_mask[<span style=\"color: #00af00; text-decoration-color: #00af00\">0</span>… │\n├─────────────────────┼───────────────────┼────────────┼───────────────────┤\n│ dropout (<span style=\"color: #0087ff; text-decoration-color: #0087ff\">Dropout</span>)   │ (<span style=\"color: #00d7ff; text-decoration-color: #00d7ff\">None</span>, <span style=\"color: #00af00; text-decoration-color: #00af00\">768</span>)       │          <span style=\"color: #00af00; text-decoration-color: #00af00\">0</span> │ bert_layer[<span style=\"color: #00af00; text-decoration-color: #00af00\">0</span>][<span style=\"color: #00af00; text-decoration-color: #00af00\">0</span>]  │\n├─────────────────────┼───────────────────┼────────────┼───────────────────┤\n│ dense (<span style=\"color: #0087ff; text-decoration-color: #0087ff\">Dense</span>)       │ (<span style=\"color: #00d7ff; text-decoration-color: #00d7ff\">None</span>, <span style=\"color: #00af00; text-decoration-color: #00af00\">3</span>)         │      <span style=\"color: #00af00; text-decoration-color: #00af00\">2,307</span> │ dropout[<span style=\"color: #00af00; text-decoration-color: #00af00\">0</span>][<span style=\"color: #00af00; text-decoration-color: #00af00\">0</span>]     │\n└─────────────────────┴───────────────────┴────────────┴───────────────────┘\n</pre>\n"
          },
          "metadata": {}
        },
        {
          "output_type": "display_data",
          "data": {
            "text/plain": "\u001b[1m Total params: \u001b[0m\u001b[38;5;34m2,307\u001b[0m (9.01 KB)\n",
            "text/html": "<pre style=\"white-space:pre;overflow-x:auto;line-height:normal;font-family:Menlo,'DejaVu Sans Mono',consolas,'Courier New',monospace\"><span style=\"font-weight: bold\"> Total params: </span><span style=\"color: #00af00; text-decoration-color: #00af00\">2,307</span> (9.01 KB)\n</pre>\n"
          },
          "metadata": {}
        },
        {
          "output_type": "display_data",
          "data": {
            "text/plain": "\u001b[1m Trainable params: \u001b[0m\u001b[38;5;34m2,307\u001b[0m (9.01 KB)\n",
            "text/html": "<pre style=\"white-space:pre;overflow-x:auto;line-height:normal;font-family:Menlo,'DejaVu Sans Mono',consolas,'Courier New',monospace\"><span style=\"font-weight: bold\"> Trainable params: </span><span style=\"color: #00af00; text-decoration-color: #00af00\">2,307</span> (9.01 KB)\n</pre>\n"
          },
          "metadata": {}
        },
        {
          "output_type": "display_data",
          "data": {
            "text/plain": "\u001b[1m Non-trainable params: \u001b[0m\u001b[38;5;34m0\u001b[0m (0.00 B)\n",
            "text/html": "<pre style=\"white-space:pre;overflow-x:auto;line-height:normal;font-family:Menlo,'DejaVu Sans Mono',consolas,'Courier New',monospace\"><span style=\"font-weight: bold\"> Non-trainable params: </span><span style=\"color: #00af00; text-decoration-color: #00af00\">0</span> (0.00 B)\n</pre>\n"
          },
          "metadata": {}
        }
      ]
    },
    {
      "cell_type": "markdown",
      "source": [
        "# Función aucxiliar para el ploteo"
      ],
      "metadata": {
        "id": "EbQVPDxSa7l1"
      }
    },
    {
      "cell_type": "code",
      "source": [
        "def plot_train_metrics(history):\n",
        "    epoch_count = range(1, len(history.history['accuracy']) + 1)\n",
        "    sns.lineplot(x=epoch_count,  y=history.history['accuracy'], label='train')\n",
        "    sns.lineplot(x=epoch_count,  y=history.history['val_accuracy'], label='valid')\n",
        "    plt.show()"
      ],
      "metadata": {
        "execution": {
          "iopub.status.busy": "2024-10-24T09:37:04.013989Z",
          "iopub.execute_input": "2024-10-24T09:37:04.014971Z",
          "iopub.status.idle": "2024-10-24T09:37:04.020464Z",
          "shell.execute_reply.started": "2024-10-24T09:37:04.014925Z",
          "shell.execute_reply": "2024-10-24T09:37:04.019479Z"
        },
        "trusted": true,
        "id": "RfvKOeqAa7l2"
      },
      "execution_count": null,
      "outputs": []
    },
    {
      "cell_type": "markdown",
      "source": [
        "# Datos\n",
        "Utilizaremos como dataset críticas de Google Apps en formato csv."
      ],
      "metadata": {
        "id": "0ZRCTT_8a7l3"
      }
    },
    {
      "cell_type": "code",
      "source": [
        "# Descargar la carpeta de dataset\n",
        "!curl -L -o 'apps.csv' 'https://drive.google.com/u/0/uc?id=1S6qMioqPJjyBLpLVz4gmRTnJHnjitnuV&export=download&confirm=t'\n",
        "!curl -L -o 'reviews.csv' 'https://drive.google.com/u/0/uc?id=1zdmewp7ayS4js4VtrJEHzAheSW-5NBZv&export=download&confirm=t'"
      ],
      "metadata": {
        "execution": {
          "iopub.status.busy": "2024-10-24T09:52:36.743988Z",
          "iopub.execute_input": "2024-10-24T09:52:36.744870Z",
          "iopub.status.idle": "2024-10-24T09:52:54.799087Z",
          "shell.execute_reply.started": "2024-10-24T09:52:36.744827Z",
          "shell.execute_reply": "2024-10-24T09:52:54.798093Z"
        },
        "trusted": true,
        "id": "2lul0MyAa7l3",
        "outputId": "bd99deb0-7cb6-4388-abb7-5404ec56964d"
      },
      "execution_count": null,
      "outputs": [
        {
          "name": "stderr",
          "text": "/opt/conda/lib/python3.10/pty.py:89: RuntimeWarning: os.fork() was called. os.fork() is incompatible with multithreaded code, and JAX is multithreaded, so this will likely lead to a deadlock.\n  pid, fd = os.forkpty()\n",
          "output_type": "stream"
        },
        {
          "name": "stdout",
          "text": "  % Total    % Received % Xferd  Average Speed   Time    Time     Time  Current\n                                 Dload  Upload   Total   Spent    Left  Speed\n  0     0    0     0    0     0      0      0 --:--:-- --:--:-- --:--:--     0\n  0     0    0     0    0     0      0      0 --:--:-- --:--:-- --:--:--     0\n100  131k  100  131k    0     0  35890      0  0:00:03  0:00:03 --:--:-- 40922\n  % Total    % Received % Xferd  Average Speed   Time    Time     Time  Current\n                                 Dload  Upload   Total   Spent    Left  Speed\n  0     0    0     0    0     0      0      0 --:--:-- --:--:-- --:--:--     0\n  0     0    0     0    0     0      0      0 --:--:-- --:--:-- --:--:--     0\n100 7002k  100 7002k    0     0   571k      0  0:00:12  0:00:12 --:--:-- 1933k\n",
          "output_type": "stream"
        }
      ]
    },
    {
      "cell_type": "code",
      "source": [
        "# Armar el dataset\n",
        "df = pd.read_csv('reviews.csv')\n",
        "df.head()"
      ],
      "metadata": {
        "execution": {
          "iopub.status.busy": "2024-10-24T10:12:43.278851Z",
          "iopub.execute_input": "2024-10-24T10:12:43.279345Z",
          "iopub.status.idle": "2024-10-24T10:12:43.419351Z",
          "shell.execute_reply.started": "2024-10-24T10:12:43.279302Z",
          "shell.execute_reply": "2024-10-24T10:12:43.418353Z"
        },
        "trusted": true,
        "id": "yRxaOxEFa7l4",
        "outputId": "35e1ef76-f8f6-4b89-cc7a-51bb621780f2"
      },
      "execution_count": null,
      "outputs": [
        {
          "execution_count": 44,
          "output_type": "execute_result",
          "data": {
            "text/plain": "           userName                                          userImage  \\\n0     Andrew Thomas  https://lh3.googleusercontent.com/a-/AOh14GiHd...   \n1      Craig Haines  https://lh3.googleusercontent.com/-hoe0kwSJgPQ...   \n2     steven adkins  https://lh3.googleusercontent.com/a-/AOh14GiXw...   \n3  Lars Panzerbjørn  https://lh3.googleusercontent.com/a-/AOh14Gg-h...   \n4     Scott Prewitt  https://lh3.googleusercontent.com/-K-X1-YsVd6U...   \n\n                                             content  score  thumbsUpCount  \\\n0  Update: After getting a response from the deve...      1             21   \n1  Used it for a fair amount of time without any ...      1             11   \n2  Your app sucks now!!!!! Used to be good but no...      1             17   \n3  It seems OK, but very basic. Recurring tasks n...      1            192   \n4  Absolutely worthless. This app runs a prohibit...      1             42   \n\n  reviewCreatedVersion                   at  \\\n0             4.17.0.3  2020-04-05 22:25:57   \n1             4.17.0.3  2020-04-04 13:40:01   \n2             4.17.0.3  2020-04-01 16:18:13   \n3             4.17.0.2  2020-03-12 08:17:34   \n4             4.17.0.2  2020-03-14 17:41:01   \n\n                                        replyContent            repliedAt  \\\n0  According to our TOS, and the term you have ag...  2020-04-05 15:10:24   \n1  It sounds like you logged in with a different ...  2020-04-05 15:11:35   \n2  This sounds odd! We are not aware of any issue...  2020-04-02 16:05:56   \n3  We do offer this option as part of the Advance...  2020-03-15 06:20:13   \n4  We're sorry you feel this way! 90% of the app ...  2020-03-15 23:45:51   \n\n       sortOrder      appId  \n0  most_relevant  com.anydo  \n1  most_relevant  com.anydo  \n2  most_relevant  com.anydo  \n3  most_relevant  com.anydo  \n4  most_relevant  com.anydo  ",
            "text/html": "<div>\n<style scoped>\n    .dataframe tbody tr th:only-of-type {\n        vertical-align: middle;\n    }\n\n    .dataframe tbody tr th {\n        vertical-align: top;\n    }\n\n    .dataframe thead th {\n        text-align: right;\n    }\n</style>\n<table border=\"1\" class=\"dataframe\">\n  <thead>\n    <tr style=\"text-align: right;\">\n      <th></th>\n      <th>userName</th>\n      <th>userImage</th>\n      <th>content</th>\n      <th>score</th>\n      <th>thumbsUpCount</th>\n      <th>reviewCreatedVersion</th>\n      <th>at</th>\n      <th>replyContent</th>\n      <th>repliedAt</th>\n      <th>sortOrder</th>\n      <th>appId</th>\n    </tr>\n  </thead>\n  <tbody>\n    <tr>\n      <th>0</th>\n      <td>Andrew Thomas</td>\n      <td>https://lh3.googleusercontent.com/a-/AOh14GiHd...</td>\n      <td>Update: After getting a response from the deve...</td>\n      <td>1</td>\n      <td>21</td>\n      <td>4.17.0.3</td>\n      <td>2020-04-05 22:25:57</td>\n      <td>According to our TOS, and the term you have ag...</td>\n      <td>2020-04-05 15:10:24</td>\n      <td>most_relevant</td>\n      <td>com.anydo</td>\n    </tr>\n    <tr>\n      <th>1</th>\n      <td>Craig Haines</td>\n      <td>https://lh3.googleusercontent.com/-hoe0kwSJgPQ...</td>\n      <td>Used it for a fair amount of time without any ...</td>\n      <td>1</td>\n      <td>11</td>\n      <td>4.17.0.3</td>\n      <td>2020-04-04 13:40:01</td>\n      <td>It sounds like you logged in with a different ...</td>\n      <td>2020-04-05 15:11:35</td>\n      <td>most_relevant</td>\n      <td>com.anydo</td>\n    </tr>\n    <tr>\n      <th>2</th>\n      <td>steven adkins</td>\n      <td>https://lh3.googleusercontent.com/a-/AOh14GiXw...</td>\n      <td>Your app sucks now!!!!! Used to be good but no...</td>\n      <td>1</td>\n      <td>17</td>\n      <td>4.17.0.3</td>\n      <td>2020-04-01 16:18:13</td>\n      <td>This sounds odd! We are not aware of any issue...</td>\n      <td>2020-04-02 16:05:56</td>\n      <td>most_relevant</td>\n      <td>com.anydo</td>\n    </tr>\n    <tr>\n      <th>3</th>\n      <td>Lars Panzerbjørn</td>\n      <td>https://lh3.googleusercontent.com/a-/AOh14Gg-h...</td>\n      <td>It seems OK, but very basic. Recurring tasks n...</td>\n      <td>1</td>\n      <td>192</td>\n      <td>4.17.0.2</td>\n      <td>2020-03-12 08:17:34</td>\n      <td>We do offer this option as part of the Advance...</td>\n      <td>2020-03-15 06:20:13</td>\n      <td>most_relevant</td>\n      <td>com.anydo</td>\n    </tr>\n    <tr>\n      <th>4</th>\n      <td>Scott Prewitt</td>\n      <td>https://lh3.googleusercontent.com/-K-X1-YsVd6U...</td>\n      <td>Absolutely worthless. This app runs a prohibit...</td>\n      <td>1</td>\n      <td>42</td>\n      <td>4.17.0.2</td>\n      <td>2020-03-14 17:41:01</td>\n      <td>We're sorry you feel this way! 90% of the app ...</td>\n      <td>2020-03-15 23:45:51</td>\n      <td>most_relevant</td>\n      <td>com.anydo</td>\n    </tr>\n  </tbody>\n</table>\n</div>"
          },
          "metadata": {}
        }
      ]
    },
    {
      "cell_type": "code",
      "source": [
        "print(\"Cantidad de críticas:\", len(df))"
      ],
      "metadata": {
        "execution": {
          "iopub.status.busy": "2024-10-24T10:12:50.047975Z",
          "iopub.execute_input": "2024-10-24T10:12:50.048345Z",
          "iopub.status.idle": "2024-10-24T10:12:50.053195Z",
          "shell.execute_reply.started": "2024-10-24T10:12:50.048311Z",
          "shell.execute_reply": "2024-10-24T10:12:50.052218Z"
        },
        "trusted": true,
        "id": "DbqHtsqsa7l4",
        "outputId": "9af5fe72-1675-4869-b9d5-ad5520cd31c0"
      },
      "execution_count": null,
      "outputs": [
        {
          "name": "stdout",
          "text": "Cantidad de críticas: 15746\n",
          "output_type": "stream"
        }
      ]
    },
    {
      "cell_type": "code",
      "source": [
        "# ¿Cómo están balanceados los datos?\n",
        "sns.countplot(x=df.score)\n",
        "plt.title(\"Distribución de las categorías\")\n",
        "plt.show()"
      ],
      "metadata": {
        "execution": {
          "iopub.status.busy": "2024-10-24T10:12:52.217800Z",
          "iopub.execute_input": "2024-10-24T10:12:52.218527Z",
          "iopub.status.idle": "2024-10-24T10:12:52.381921Z",
          "shell.execute_reply.started": "2024-10-24T10:12:52.218488Z",
          "shell.execute_reply": "2024-10-24T10:12:52.381029Z"
        },
        "trusted": true,
        "id": "fhGzug0Xa7l4",
        "outputId": "53d16431-241d-42a5-cb48-621372efc1da"
      },
      "execution_count": null,
      "outputs": [
        {
          "output_type": "display_data",
          "data": {
            "text/plain": "<Figure size 640x480 with 1 Axes>",
            "image/png": "[encoded data removed]"
          },
          "metadata": {}
        }
      ]
    },
    {
      "cell_type": "markdown",
      "source": [
        "# Limpieza de datos\n",
        "Una manera de balancear este dataset es colapsando las dos primeras categorías en una y las dos en otra, para dejar la categoría central sin modificaciones. Lo que implicaría una reducción de categorías de 5 a 3."
      ],
      "metadata": {
        "id": "W8wCn8WUa7l5"
      }
    },
    {
      "cell_type": "code",
      "source": [
        "# Balancear los datos\n",
        "df['sentiment'] = df.score.apply(lambda x: 0 if x <=2 else 1 if x == 3 else 2)\n",
        "class_names = ['negative', 'neutral', 'positive']"
      ],
      "metadata": {
        "execution": {
          "iopub.status.busy": "2024-10-24T10:12:59.972741Z",
          "iopub.execute_input": "2024-10-24T10:12:59.973126Z",
          "iopub.status.idle": "2024-10-24T10:12:59.989870Z",
          "shell.execute_reply.started": "2024-10-24T10:12:59.973086Z",
          "shell.execute_reply": "2024-10-24T10:12:59.988929Z"
        },
        "trusted": true,
        "id": "ubisq3gIa7l5"
      },
      "execution_count": null,
      "outputs": []
    },
    {
      "cell_type": "code",
      "source": [
        "print(df.sentiment.value_counts())"
      ],
      "metadata": {
        "execution": {
          "iopub.status.busy": "2024-10-24T10:13:05.499705Z",
          "iopub.execute_input": "2024-10-24T10:13:05.500066Z",
          "iopub.status.idle": "2024-10-24T10:13:05.506436Z",
          "shell.execute_reply.started": "2024-10-24T10:13:05.500033Z",
          "shell.execute_reply": "2024-10-24T10:13:05.505473Z"
        },
        "trusted": true,
        "id": "nPfzY__sa7l5",
        "outputId": "4e7bfe06-e023-4d96-9e3c-f653b5999ed4"
      },
      "execution_count": null,
      "outputs": [
        {
          "name": "stdout",
          "text": "sentiment\n2    5676\n1    5042\n0    5028\nName: count, dtype: int64\n",
          "output_type": "stream"
        }
      ]
    },
    {
      "cell_type": "markdown",
      "source": [
        "Observemos como luce la distribución luego de la ejecución de la instrucción."
      ],
      "metadata": {
        "id": "iVkZWauAa7l5"
      }
    },
    {
      "cell_type": "code",
      "source": [
        "sentences = df['content'].values\n",
        "print(\"sentences shape:\", sentences.shape)\n",
        "sentences[:3]"
      ],
      "metadata": {
        "execution": {
          "iopub.status.busy": "2024-10-24T10:13:48.290695Z",
          "iopub.execute_input": "2024-10-24T10:13:48.291354Z",
          "iopub.status.idle": "2024-10-24T10:13:48.298850Z",
          "shell.execute_reply.started": "2024-10-24T10:13:48.291316Z",
          "shell.execute_reply": "2024-10-24T10:13:48.297845Z"
        },
        "trusted": true,
        "id": "x4VhNz_aa7l5",
        "outputId": "f3272a05-9258-4dfc-bcb4-053ee9086472"
      },
      "execution_count": null,
      "outputs": [
        {
          "name": "stdout",
          "text": "sentences shape: (15746,)\n",
          "output_type": "stream"
        },
        {
          "execution_count": 50,
          "output_type": "execute_result",
          "data": {
            "text/plain": "array([\"Update: After getting a response from the developer I would change my rating to 0 stars if possible. These guys hide behind confusing and opaque terms and refuse to budge at all. I'm so annoyed that my money has been lost to them! Really terrible customer experience. Original: Be very careful when signing up for a free trial of this app. If you happen to go over they automatically charge you for a full years subscription and refuse to refund. Terrible customer experience and the app is just OK.\",\n       'Used it for a fair amount of time without any problems. Suddenly then asked me to create an account or log using Google or FB. I used my Google one only to discover everything was gone!',\n       \"Your app sucks now!!!!! Used to be good but now doesn't update until I physically open it up and then close it then scroll and then it finally shows what I want to put on the list!!!!!! And I FRIGGEN paid for this garbage!!!!!!!\"],\n      dtype=object)"
          },
          "metadata": {}
        }
      ]
    },
    {
      "cell_type": "markdown",
      "source": [
        "# Distribución de las longitudes de las reviews"
      ],
      "metadata": {
        "id": "LXvzodt2a7l5"
      }
    },
    {
      "cell_type": "code",
      "source": [
        "sentence_lens = []\n",
        "\n",
        "for sentence in sentences:\n",
        "  sentence_lens.append(len(sentence))\n",
        "\n",
        "print(\"Median:\", np.median(sentence_lens))\n",
        "sns.displot(sentence_lens, kde=True)\n",
        "plt.title(\"Distribución de la longitud de las reviews (en letras)\")\n",
        "plt.show()"
      ],
      "metadata": {
        "execution": {
          "iopub.status.busy": "2024-10-24T10:15:09.687741Z",
          "iopub.execute_input": "2024-10-24T10:15:09.688818Z",
          "iopub.status.idle": "2024-10-24T10:15:10.401757Z",
          "shell.execute_reply.started": "2024-10-24T10:15:09.688773Z",
          "shell.execute_reply": "2024-10-24T10:15:10.400839Z"
        },
        "trusted": true,
        "id": "ox48xweMa7l5",
        "outputId": "dc60c979-237a-4c12-ff99-c5e48504b97a"
      },
      "execution_count": null,
      "outputs": [
        {
          "name": "stdout",
          "text": "Median: 139.0\n",
          "output_type": "stream"
        },
        {
          "name": "stderr",
          "text": "/opt/conda/lib/python3.10/site-packages/seaborn/_oldcore.py:1119: FutureWarning: use_inf_as_na option is deprecated and will be removed in a future version. Convert inf values to NaN before operating instead.\n  with pd.option_context('mode.use_inf_as_na', True):\n",
          "output_type": "stream"
        },
        {
          "output_type": "display_data",
          "data": {
            "text/plain": "<Figure size 500x500 with 1 Axes>",
            "image/png": "[encoded data removed]"
          },
          "metadata": {}
        }
      ]
    },
    {
      "cell_type": "code",
      "source": [
        "y = df['sentiment'].values\n",
        "print(\"y shape:\", y.shape)\n",
        "y = to_categorical(y)\n",
        "print(y[:3])\n",
        "output_shape = y.shape[1]\n",
        "print(\"output shape:\", output_shape)"
      ],
      "metadata": {
        "execution": {
          "iopub.status.busy": "2024-10-24T10:15:31.787741Z",
          "iopub.execute_input": "2024-10-24T10:15:31.788627Z",
          "iopub.status.idle": "2024-10-24T10:15:31.795220Z",
          "shell.execute_reply.started": "2024-10-24T10:15:31.788584Z",
          "shell.execute_reply": "2024-10-24T10:15:31.794263Z"
        },
        "trusted": true,
        "id": "kFTrEgK0a7l6",
        "outputId": "8b8dc2f5-5ddd-4873-d825-38b07e75d432"
      },
      "execution_count": null,
      "outputs": [
        {
          "name": "stdout",
          "text": "y shape: (15746,)\n[[1. 0. 0.]\n [1. 0. 0.]\n [1. 0. 0.]]\noutput shape: 3\n",
          "output_type": "stream"
        }
      ]
    },
    {
      "cell_type": "markdown",
      "source": [
        "# 1 - Data generator"
      ],
      "metadata": {
        "id": "SVspX4ara7l6"
      }
    },
    {
      "cell_type": "code",
      "source": [
        "# Muy importante que para tensorflow los modelos Bert deben empezar con \"TF\"\n",
        "# de lo contrario estaremos utilizando un modelo para pytorch\n",
        "\n",
        "# Descargamos el modelo base de BERT más liviano y su correspondiente tokenizer\n",
        "bert_tokenizer = BertTokenizer.from_pretrained(\"bert-base-uncased\")"
      ],
      "metadata": {
        "execution": {
          "iopub.status.busy": "2024-10-24T10:16:04.846747Z",
          "iopub.execute_input": "2024-10-24T10:16:04.847628Z",
          "iopub.status.idle": "2024-10-24T10:16:05.941263Z",
          "shell.execute_reply.started": "2024-10-24T10:16:04.847588Z",
          "shell.execute_reply": "2024-10-24T10:16:05.940312Z"
        },
        "trusted": true,
        "colab": {
          "referenced_widgets": [
            "b88d6d5914514fa0a4ba71db736ebced",
            "e02b6bdf799e4fee97986c64aa8292bf",
            "897fee5e748d49f8a2740446877c32ab"
          ]
        },
        "id": "e-J3_ujHa7l6",
        "outputId": "49de0174-1786-4076-d741-682fcfc93edd"
      },
      "execution_count": null,
      "outputs": [
        {
          "output_type": "display_data",
          "data": {
            "text/plain": "tokenizer_config.json:   0%|          | 0.00/48.0 [00:00<?, ?B/s]",
            "application/vnd.jupyter.widget-view+json": {
              "version_major": 2,
              "version_minor": 0,
              "model_id": "b88d6d5914514fa0a4ba71db736ebced"
            }
          },
          "metadata": {}
        },
        {
          "output_type": "display_data",
          "data": {
            "text/plain": "vocab.txt:   0%|          | 0.00/232k [00:00<?, ?B/s]",
            "application/vnd.jupyter.widget-view+json": {
              "version_major": 2,
              "version_minor": 0,
              "model_id": "e02b6bdf799e4fee97986c64aa8292bf"
            }
          },
          "metadata": {}
        },
        {
          "output_type": "display_data",
          "data": {
            "text/plain": "tokenizer.json:   0%|          | 0.00/466k [00:00<?, ?B/s]",
            "application/vnd.jupyter.widget-view+json": {
              "version_major": 2,
              "version_minor": 0,
              "model_id": "897fee5e748d49f8a2740446877c32ab"
            }
          },
          "metadata": {}
        }
      ]
    },
    {
      "cell_type": "code",
      "source": [
        "# Del dataset original accederemos a los datos por índices (idx)\n",
        "# mezclados aleatoriamente\n",
        "from sklearn.model_selection import train_test_split\n",
        "max_length = 140 # BERT soporta máximo 512\n",
        "indices = np.arange(len(sentences))\n",
        "idx_train_val, idx_test = train_test_split(indices, test_size=0.2, random_state=42)\n",
        "idx_train, idx_val = train_test_split(idx_train_val, test_size=0.2, random_state=42)"
      ],
      "metadata": {
        "execution": {
          "iopub.status.busy": "2024-10-24T10:16:29.750726Z",
          "iopub.execute_input": "2024-10-24T10:16:29.751118Z",
          "iopub.status.idle": "2024-10-24T10:16:29.770737Z",
          "shell.execute_reply.started": "2024-10-24T10:16:29.751080Z",
          "shell.execute_reply": "2024-10-24T10:16:29.769857Z"
        },
        "trusted": true,
        "id": "WOPes4jza7l6"
      },
      "execution_count": null,
      "outputs": []
    },
    {
      "cell_type": "code",
      "source": [
        "def convert_data_to_examples(text, labels, idx_train, idx_val):\n",
        "    # Armamos un \"InputExample\" para los datos de entrenamiento y validación\n",
        "    train_InputExamples = [InputExample(guid=None, # Globally unique ID for bookkeeping, unused in this case\n",
        "                                                          text_a = text[i],\n",
        "                                                          text_b = None,\n",
        "                                                          label = labels[i]) for i in idx_train]\n",
        "\n",
        "    validation_InputExamples = [InputExample(guid=None, # Globally unique ID for bookkeeping, unused in this case\n",
        "                                                          text_a = text[i],\n",
        "                                                          text_b = None,\n",
        "                                                          label = labels[i]) for i in idx_val]\n",
        "\n",
        "    return train_InputExamples, validation_InputExamples\n",
        "\n",
        "\n",
        "def convert_examples_to_tf_dataset(examples, bert_tokenizer, max_length=512):\n",
        "    # Transformamos los datos de entrada en tensorres de:\n",
        "    # input_ids --> token id\n",
        "    # attention_mask\n",
        "    # token type\n",
        "    features = []\n",
        "\n",
        "    for e in examples:\n",
        "        # Documentation is really strong for this method, so please take a look at it\n",
        "        input_dict = bert_tokenizer.encode_plus(\n",
        "            e.text_a,\n",
        "            add_special_tokens=True,\n",
        "            max_length=max_length, # truncates if len(s) > max_length\n",
        "            return_token_type_ids=False,\n",
        "            return_attention_mask=True,\n",
        "            padding='max_length', # pads to the right by default # CHECK THIS for pad_to_max_length\n",
        "            truncation=True\n",
        "        )\n",
        "\n",
        "        input_ids, attention_mask = (input_dict[\"input_ids\"], input_dict['attention_mask'])\n",
        "\n",
        "        features.append(\n",
        "            InputFeatures(\n",
        "                input_ids=input_ids, attention_mask=attention_mask, label=e.label\n",
        "            )\n",
        "        )\n",
        "\n",
        "    def gen():\n",
        "    # Función generadora para no levantar todos los datos en un instante\n",
        "        for f in features:\n",
        "            yield (\n",
        "                {\n",
        "                    \"input_ids\": f.input_ids,\n",
        "                    \"attention_mask\": f.attention_mask,\n",
        "                },\n",
        "                f.label,\n",
        "            )\n",
        "\n",
        "    return tf.data.Dataset.from_generator(\n",
        "        # Tensorflow dataset generator (basado en el generador y en el esquema de datos definido)\n",
        "        gen,\n",
        "        ({\"input_ids\": tf.int32, \"attention_mask\": tf.int32}, tf.float32),\n",
        "        (\n",
        "            {\n",
        "                \"input_ids\": tf.TensorShape([None]),\n",
        "                \"attention_mask\": tf.TensorShape([None]),\n",
        "            },\n",
        "            tf.TensorShape([output_shape]),\n",
        "        ),\n",
        "    )"
      ],
      "metadata": {
        "execution": {
          "iopub.status.busy": "2024-10-24T10:22:07.457468Z",
          "iopub.execute_input": "2024-10-24T10:22:07.458383Z",
          "iopub.status.idle": "2024-10-24T10:22:07.469854Z",
          "shell.execute_reply.started": "2024-10-24T10:22:07.458340Z",
          "shell.execute_reply": "2024-10-24T10:22:07.468729Z"
        },
        "trusted": true,
        "id": "lM0QIDu8a7l6"
      },
      "execution_count": null,
      "outputs": []
    },
    {
      "cell_type": "code",
      "source": [
        "train_InputExamples, validation_InputExamples = convert_data_to_examples(sentences, y, idx_train, idx_val)\n",
        "\n",
        "train_data = convert_examples_to_tf_dataset(list(train_InputExamples), bert_tokenizer, max_length=max_length)\n",
        "# shuffle 100 --> mezcla los datos y los lee a de 100 unidades\n",
        "# batch 32 --> ejecuta una epoca de entrenamiento de a 32 unidades\n",
        "train_data = train_data.shuffle(100).batch(32)\n",
        "\n",
        "validation_data = convert_examples_to_tf_dataset(list(validation_InputExamples), bert_tokenizer, max_length=max_length)\n",
        "validation_data = validation_data.batch(32)"
      ],
      "metadata": {
        "execution": {
          "iopub.status.busy": "2024-10-24T10:22:14.509493Z",
          "iopub.execute_input": "2024-10-24T10:22:14.510142Z",
          "iopub.status.idle": "2024-10-24T10:22:30.841688Z",
          "shell.execute_reply.started": "2024-10-24T10:22:14.510102Z",
          "shell.execute_reply": "2024-10-24T10:22:30.840678Z"
        },
        "trusted": true,
        "id": "rsaY7O0Ja7l6"
      },
      "execution_count": null,
      "outputs": []
    },
    {
      "cell_type": "code",
      "source": [
        "pred_sentences = [sentences[i] for i in idx_test]\n",
        "tf_batch = bert_tokenizer(pred_sentences, max_length=max_length, padding=True, truncation=True, return_tensors='tf')"
      ],
      "metadata": {
        "execution": {
          "iopub.status.busy": "2024-10-24T10:23:41.664276Z",
          "iopub.execute_input": "2024-10-24T10:23:41.664732Z",
          "iopub.status.idle": "2024-10-24T10:23:45.757594Z",
          "shell.execute_reply.started": "2024-10-24T10:23:41.664689Z",
          "shell.execute_reply": "2024-10-24T10:23:45.756725Z"
        },
        "trusted": true,
        "id": "ltIx5qpfa7l6"
      },
      "execution_count": null,
      "outputs": []
    },
    {
      "cell_type": "code",
      "source": [
        "X_test = [tf_batch['input_ids'],\n",
        "          tf_batch['attention_mask']]"
      ],
      "metadata": {
        "execution": {
          "iopub.status.busy": "2024-10-24T10:23:48.261652Z",
          "iopub.execute_input": "2024-10-24T10:23:48.262011Z",
          "iopub.status.idle": "2024-10-24T10:23:48.266341Z",
          "shell.execute_reply.started": "2024-10-24T10:23:48.261977Z",
          "shell.execute_reply": "2024-10-24T10:23:48.265382Z"
        },
        "trusted": true,
        "id": "NU81xc9Oa7l6"
      },
      "execution_count": null,
      "outputs": []
    },
    {
      "cell_type": "code",
      "source": [
        "y_test = y[idx_test]"
      ],
      "metadata": {
        "execution": {
          "iopub.status.busy": "2024-10-24T10:24:03.995359Z",
          "iopub.execute_input": "2024-10-24T10:24:03.995803Z",
          "iopub.status.idle": "2024-10-24T10:24:04.000479Z",
          "shell.execute_reply.started": "2024-10-24T10:24:03.995765Z",
          "shell.execute_reply": "2024-10-24T10:24:03.999479Z"
        },
        "trusted": true,
        "id": "JGj1C2tTa7l6"
      },
      "execution_count": null,
      "outputs": []
    },
    {
      "cell_type": "markdown",
      "source": [
        "## 2 - BERT multiclass classification"
      ],
      "metadata": {
        "id": "WooMYkuEa7l6"
      }
    },
    {
      "cell_type": "code",
      "source": [
        "history = model.fit(train_data, epochs=5, validation_data=validation_data)"
      ],
      "metadata": {
        "execution": {
          "iopub.status.busy": "2024-10-24T10:24:35.724882Z",
          "iopub.execute_input": "2024-10-24T10:24:35.725634Z",
          "iopub.status.idle": "2024-10-24T10:35:47.223257Z",
          "shell.execute_reply.started": "2024-10-24T10:24:35.725596Z",
          "shell.execute_reply": "2024-10-24T10:35:47.222108Z"
        },
        "trusted": true,
        "id": "TVdGB9eha7l7",
        "outputId": "c51ff86d-2da1-478d-fd3e-907b9932c751"
      },
      "execution_count": null,
      "outputs": [
        {
          "name": "stdout",
          "text": "Epoch 1/5\n",
          "output_type": "stream"
        },
        {
          "name": "stderr",
          "text": "WARNING: All log messages before absl::InitializeLog() is called are written to STDERR\nI0000 00:00:1729765487.614633     116 service.cc:146] XLA service 0x7eab58002d10 initialized for platform CUDA (this does not guarantee that XLA will be used). Devices:\nI0000 00:00:1729765487.614721     116 service.cc:154]   StreamExecutor device (0): Tesla T4, Compute Capability 7.5\nI0000 00:00:1729765487.614728     116 service.cc:154]   StreamExecutor device (1): Tesla T4, Compute Capability 7.5\nW0000 00:00:1729765488.035507     116 assert_op.cc:38] Ignoring Assert operator functional_1_1/bert_layer_1/tf_bert_model/bert/embeddings/assert_less/Assert/Assert\nI0000 00:00:1729765495.897991     116 device_compiler.h:188] Compiled cluster using XLA!  This line is logged at most once for the lifetime of the process.\n",
          "output_type": "stream"
        },
        {
          "name": "stdout",
          "text": "    314/Unknown \u001b[1m111s\u001b[0m 289ms/step - accuracy: 0.3613 - f1_score: 0.3571 - loss: 1.1543",
          "output_type": "stream"
        },
        {
          "name": "stderr",
          "text": "W0000 00:00:1729765587.030928     116 assert_op.cc:38] Ignoring Assert operator functional_1_1/bert_layer_1/tf_bert_model/bert/embeddings/assert_less/Assert/Assert\n",
          "output_type": "stream"
        },
        {
          "name": "stdout",
          "text": "    315/Unknown \u001b[1m118s\u001b[0m 312ms/step - accuracy: 0.3614 - f1_score: 0.3572 - loss: 1.1541",
          "output_type": "stream"
        },
        {
          "name": "stderr",
          "text": "/opt/conda/lib/python3.10/contextlib.py:153: UserWarning: Your input ran out of data; interrupting training. Make sure that your dataset or generator can generate at least `steps_per_epoch * epochs` batches. You may need to use the `.repeat()` function when building your dataset.\n  self.gen.throw(typ, value, traceback)\nW0000 00:00:1729765597.787019     117 assert_op.cc:38] Ignoring Assert operator functional_1_1/bert_layer_1/tf_bert_model/bert/embeddings/assert_less/Assert/Assert\nW0000 00:00:1729765625.184979     116 assert_op.cc:38] Ignoring Assert operator functional_1_1/bert_layer_1/tf_bert_model/bert/embeddings/assert_less/Assert/Assert\n",
          "output_type": "stream"
        },
        {
          "name": "stdout",
          "text": "\u001b[1m315/315\u001b[0m \u001b[32m━━━━━━━━━━━━━━━━━━━━\u001b[0m\u001b[37m\u001b[0m \u001b[1m155s\u001b[0m 428ms/step - accuracy: 0.3615 - f1_score: 0.3573 - loss: 1.1540 - val_accuracy: 0.5258 - val_f1_score: 0.4551 - val_loss: 1.0066\nEpoch 2/5\n\u001b[1m315/315\u001b[0m \u001b[32m━━━━━━━━━━━━━━━━━━━━\u001b[0m\u001b[37m\u001b[0m \u001b[1m174s\u001b[0m 365ms/step - accuracy: 0.4526 - f1_score: 0.4418 - loss: 1.0531 - val_accuracy: 0.5365 - val_f1_score: 0.4974 - val_loss: 0.9587\nEpoch 3/5\n\u001b[1m315/315\u001b[0m \u001b[32m━━━━━━━━━━━━━━━━━━━━\u001b[0m\u001b[37m\u001b[0m \u001b[1m114s\u001b[0m 363ms/step - accuracy: 0.4926 - f1_score: 0.4818 - loss: 0.9993 - val_accuracy: 0.5468 - val_f1_score: 0.5092 - val_loss: 0.9341\nEpoch 4/5\n\u001b[1m315/315\u001b[0m \u001b[32m━━━━━━━━━━━━━━━━━━━━\u001b[0m\u001b[37m\u001b[0m \u001b[1m114s\u001b[0m 362ms/step - accuracy: 0.5192 - f1_score: 0.5080 - loss: 0.9743 - val_accuracy: 0.5603 - val_f1_score: 0.5538 - val_loss: 0.9156\nEpoch 5/5\n\u001b[1m315/315\u001b[0m \u001b[32m━━━━━━━━━━━━━━━━━━━━\u001b[0m\u001b[37m\u001b[0m \u001b[1m115s\u001b[0m 364ms/step - accuracy: 0.5303 - f1_score: 0.5184 - loss: 0.9631 - val_accuracy: 0.5595 - val_f1_score: 0.4719 - val_loss: 0.9207\n",
          "output_type": "stream"
        }
      ]
    },
    {
      "cell_type": "code",
      "source": [
        "plot_train_metrics(history)"
      ],
      "metadata": {
        "execution": {
          "iopub.status.busy": "2024-10-24T10:36:21.929227Z",
          "iopub.execute_input": "2024-10-24T10:36:21.929640Z",
          "iopub.status.idle": "2024-10-24T10:36:22.230502Z",
          "shell.execute_reply.started": "2024-10-24T10:36:21.929602Z",
          "shell.execute_reply": "2024-10-24T10:36:22.229559Z"
        },
        "trusted": true,
        "id": "Ne7Ymxega7l7",
        "outputId": "392f1605-3291-4952-a078-7d9680b9ef30"
      },
      "execution_count": null,
      "outputs": [
        {
          "name": "stderr",
          "text": "/opt/conda/lib/python3.10/site-packages/seaborn/_oldcore.py:1119: FutureWarning: use_inf_as_na option is deprecated and will be removed in a future version. Convert inf values to NaN before operating instead.\n  with pd.option_context('mode.use_inf_as_na', True):\n/opt/conda/lib/python3.10/site-packages/seaborn/_oldcore.py:1119: FutureWarning: use_inf_as_na option is deprecated and will be removed in a future version. Convert inf values to NaN before operating instead.\n  with pd.option_context('mode.use_inf_as_na', True):\n/opt/conda/lib/python3.10/site-packages/seaborn/_oldcore.py:1119: FutureWarning: use_inf_as_na option is deprecated and will be removed in a future version. Convert inf values to NaN before operating instead.\n  with pd.option_context('mode.use_inf_as_na', True):\n/opt/conda/lib/python3.10/site-packages/seaborn/_oldcore.py:1119: FutureWarning: use_inf_as_na option is deprecated and will be removed in a future version. Convert inf values to NaN before operating instead.\n  with pd.option_context('mode.use_inf_as_na', True):\n",
          "output_type": "stream"
        },
        {
          "output_type": "display_data",
          "data": {
            "text/plain": "<Figure size 640x480 with 1 Axes>",
            "image/png": "[encoded data removed]"
          },
          "metadata": {}
        }
      ]
    },
    {
      "cell_type": "markdown",
      "source": [
        "Por razones de disponibilidad de potencia de computo sólo se realizaron 5 epocas para el entrenamiento. Sin empargo con la personalización de las capas se puede ver que el accuracy es bastante superior a lo obtenido durante lo visto en clase."
      ],
      "metadata": {
        "id": "MfdSS_Yha7l7"
      }
    },
    {
      "cell_type": "code",
      "source": [
        "y_hat_prob = model.predict(X_test)\n",
        "y_hat_prob[:3]"
      ],
      "metadata": {
        "execution": {
          "iopub.status.busy": "2024-10-24T10:37:52.017948Z",
          "iopub.execute_input": "2024-10-24T10:37:52.018687Z",
          "iopub.status.idle": "2024-10-24T10:38:33.452476Z",
          "shell.execute_reply.started": "2024-10-24T10:37:52.018644Z",
          "shell.execute_reply": "2024-10-24T10:38:33.451532Z"
        },
        "trusted": true,
        "id": "2jqjevyJa7l7",
        "outputId": "2bee54e0-a510-450a-addc-48e1a45212e3"
      },
      "execution_count": null,
      "outputs": [
        {
          "name": "stderr",
          "text": "W0000 00:00:1729766273.665072     116 assert_op.cc:38] Ignoring Assert operator functional_1_1/bert_layer_1/tf_bert_model/bert/embeddings/assert_less/Assert/Assert\n",
          "output_type": "stream"
        },
        {
          "name": "stdout",
          "text": "\u001b[1m98/99\u001b[0m \u001b[32m━━━━━━━━━━━━━━━━━━━\u001b[0m\u001b[37m━\u001b[0m \u001b[1m0s\u001b[0m 285ms/step",
          "output_type": "stream"
        },
        {
          "name": "stderr",
          "text": "W0000 00:00:1729766308.178440     116 assert_op.cc:38] Ignoring Assert operator functional_1_1/bert_layer_1/tf_bert_model/bert/embeddings/assert_less/Assert/Assert\n",
          "output_type": "stream"
        },
        {
          "name": "stdout",
          "text": "\u001b[1m99/99\u001b[0m \u001b[32m━━━━━━━━━━━━━━━━━━━━\u001b[0m\u001b[37m\u001b[0m \u001b[1m41s\u001b[0m 363ms/step\n",
          "output_type": "stream"
        },
        {
          "execution_count": 82,
          "output_type": "execute_result",
          "data": {
            "text/plain": "array([[0.5403728 , 0.2697402 , 0.18988699],\n       [0.48040158, 0.20714469, 0.31245375],\n       [0.2716495 , 0.2799074 , 0.44844314]], dtype=float32)"
          },
          "metadata": {}
        }
      ]
    },
    {
      "cell_type": "code",
      "source": [
        "y_hat = np.argmax(y_hat_prob, axis=1)"
      ],
      "metadata": {
        "execution": {
          "iopub.status.busy": "2024-10-24T10:40:26.813676Z",
          "iopub.execute_input": "2024-10-24T10:40:26.814071Z",
          "iopub.status.idle": "2024-10-24T10:40:26.818915Z",
          "shell.execute_reply.started": "2024-10-24T10:40:26.814032Z",
          "shell.execute_reply": "2024-10-24T10:40:26.817911Z"
        },
        "trusted": true,
        "id": "39H0S--ya7l7"
      },
      "execution_count": null,
      "outputs": []
    },
    {
      "cell_type": "code",
      "source": [
        "# Calcular la exactitud (accuracy)\n",
        "scores = model.evaluate(X_test, y_test)\n",
        "scores[1]"
      ],
      "metadata": {
        "execution": {
          "iopub.status.busy": "2024-10-24T10:40:30.640722Z",
          "iopub.execute_input": "2024-10-24T10:40:30.641123Z",
          "iopub.status.idle": "2024-10-24T10:41:11.682193Z",
          "shell.execute_reply.started": "2024-10-24T10:40:30.641084Z",
          "shell.execute_reply": "2024-10-24T10:41:11.681266Z"
        },
        "trusted": true,
        "id": "GWU3w__ga7l7",
        "outputId": "ad29cd8b-5b97-4f3d-f01b-83b644069725"
      },
      "execution_count": null,
      "outputs": [
        {
          "name": "stderr",
          "text": "W0000 00:00:1729766433.649157     115 assert_op.cc:38] Ignoring Assert operator functional_1_1/bert_layer_1/tf_bert_model/bert/embeddings/assert_less/Assert/Assert\n",
          "output_type": "stream"
        },
        {
          "name": "stdout",
          "text": "\u001b[1m98/99\u001b[0m \u001b[32m━━━━━━━━━━━━━━━━━━━\u001b[0m\u001b[37m━\u001b[0m \u001b[1m0s\u001b[0m 291ms/step - accuracy: 0.5656 - f1_score: 0.4831 - loss: 0.9188",
          "output_type": "stream"
        },
        {
          "name": "stderr",
          "text": "W0000 00:00:1729766467.088817     116 assert_op.cc:38] Ignoring Assert operator functional_1_1/bert_layer_1/tf_bert_model/bert/embeddings/assert_less/Assert/Assert\n",
          "output_type": "stream"
        },
        {
          "name": "stdout",
          "text": "\u001b[1m99/99\u001b[0m \u001b[32m━━━━━━━━━━━━━━━━━━━━\u001b[0m\u001b[37m\u001b[0m \u001b[1m41s\u001b[0m 337ms/step - accuracy: 0.5654 - f1_score: 0.4829 - loss: 0.9188\n",
          "output_type": "stream"
        },
        {
          "execution_count": 85,
          "output_type": "execute_result",
          "data": {
            "text/plain": "0.5577777624130249"
          },
          "metadata": {}
        }
      ]
    },
    {
      "cell_type": "code",
      "source": [
        "from sklearn.metrics import confusion_matrix, ConfusionMatrixDisplay\n",
        "cm = confusion_matrix(y_test.argmax(axis=1), y_hat)\n",
        "cmd = ConfusionMatrixDisplay(cm, display_labels=list(range(3)))\n",
        "cmd.plot(cmap=plt.cm.Blues)\n",
        "plt.show()"
      ],
      "metadata": {
        "execution": {
          "iopub.status.busy": "2024-10-24T10:41:11.943961Z",
          "iopub.execute_input": "2024-10-24T10:41:11.944350Z",
          "iopub.status.idle": "2024-10-24T10:41:12.195149Z",
          "shell.execute_reply.started": "2024-10-24T10:41:11.944307Z",
          "shell.execute_reply": "2024-10-24T10:41:12.194169Z"
        },
        "trusted": true,
        "id": "M7aig1fLa7l7",
        "outputId": "baf5d543-29a7-455d-e95f-7421fed41c51"
      },
      "execution_count": null,
      "outputs": [
        {
          "output_type": "display_data",
          "data": {
            "text/plain": "<Figure size 640x480 with 2 Axes>",
            "image/png": "[encoded data removed]"
          },
          "metadata": {}
        }
      ]
    },
    {
      "cell_type": "markdown",
      "source": [
        "Al observar la matriz de confusión se puede observar que el modelo predice mejor al observar las reviews positiva y las negativas, aunque su desempeño no muestra el mismo éxito con la clase neutral."
      ],
      "metadata": {
        "id": "4h2NdrTOa7l7"
      }
    },
    {
      "cell_type": "code",
      "source": [
        "model.save_weights('bert_weights_1.weights.h5')"
      ],
      "metadata": {
        "execution": {
          "iopub.status.busy": "2024-10-24T10:49:02.028073Z",
          "iopub.execute_input": "2024-10-24T10:49:02.028801Z",
          "iopub.status.idle": "2024-10-24T10:49:02.045564Z",
          "shell.execute_reply.started": "2024-10-24T10:49:02.028758Z",
          "shell.execute_reply": "2024-10-24T10:49:02.044781Z"
        },
        "trusted": true,
        "id": "pzms5Jz-a7l7"
      },
      "execution_count": null,
      "outputs": []
    },
    {
      "cell_type": "markdown",
      "source": [
        "# Ensayo"
      ],
      "metadata": {
        "id": "5wy-Wm2ga7l7"
      }
    },
    {
      "cell_type": "code",
      "source": [
        "text = \"I love this app!\"\n",
        "\n",
        "#tf_batch = bert_tokenizer(text, max_length=max_length, padding=True, truncation=True, return_tensors='tf')\n",
        "\n",
        "tf_batch = bert_tokenizer.encode_plus(\n",
        "    text,\n",
        "    add_special_tokens=True,\n",
        "    max_length=max_length, # truncates if len(s) > max_length\n",
        "    return_token_type_ids=False,\n",
        "    return_attention_mask=True,\n",
        "    pad_to_max_length=True, # pads to the right by default # CHECK THIS for pad_to_max_length\n",
        "    truncation=True,\n",
        "    return_tensors='tf'\n",
        ")\n",
        "\n",
        "print(\"Inputs ids:\", tf_batch['input_ids'])\n",
        "print(\"Attention mask:\", tf_batch['attention_mask'])"
      ],
      "metadata": {
        "execution": {
          "iopub.status.busy": "2024-10-24T10:55:30.088039Z",
          "iopub.execute_input": "2024-10-24T10:55:30.088466Z",
          "iopub.status.idle": "2024-10-24T10:55:30.099437Z",
          "shell.execute_reply.started": "2024-10-24T10:55:30.088427Z",
          "shell.execute_reply": "2024-10-24T10:55:30.098478Z"
        },
        "trusted": true,
        "id": "tW2pgjapa7l_",
        "outputId": "374d69d9-7d90-472e-c703-1ad27b59f76a"
      },
      "execution_count": null,
      "outputs": [
        {
          "name": "stdout",
          "text": "Inputs ids: tf.Tensor(\n[[  101  1045  2293  2023 10439   999   102     0     0     0     0     0\n      0     0     0     0     0     0     0     0     0     0     0     0\n      0     0     0     0     0     0     0     0     0     0     0     0\n      0     0     0     0     0     0     0     0     0     0     0     0\n      0     0     0     0     0     0     0     0     0     0     0     0\n      0     0     0     0     0     0     0     0     0     0     0     0\n      0     0     0     0     0     0     0     0     0     0     0     0\n      0     0     0     0     0     0     0     0     0     0     0     0\n      0     0     0     0     0     0     0     0     0     0     0     0\n      0     0     0     0     0     0     0     0     0     0     0     0\n      0     0     0     0     0     0     0     0     0     0     0     0\n      0     0     0     0     0     0     0     0]], shape=(1, 140), dtype=int32)\nAttention mask: tf.Tensor(\n[[1 1 1 1 1 1 1 0 0 0 0 0 0 0 0 0 0 0 0 0 0 0 0 0 0 0 0 0 0 0 0 0 0 0 0 0\n  0 0 0 0 0 0 0 0 0 0 0 0 0 0 0 0 0 0 0 0 0 0 0 0 0 0 0 0 0 0 0 0 0 0 0 0\n  0 0 0 0 0 0 0 0 0 0 0 0 0 0 0 0 0 0 0 0 0 0 0 0 0 0 0 0 0 0 0 0 0 0 0 0\n  0 0 0 0 0 0 0 0 0 0 0 0 0 0 0 0 0 0 0 0 0 0 0 0 0 0 0 0 0 0 0 0]], shape=(1, 140), dtype=int32)\n",
          "output_type": "stream"
        },
        {
          "name": "stderr",
          "text": "/opt/conda/lib/python3.10/site-packages/transformers/tokenization_utils_base.py:2834: FutureWarning: The `pad_to_max_length` argument is deprecated and will be removed in a future version, use `padding=True` or `padding='longest'` to pad to the longest sequence in the batch, or use `padding='max_length'` to pad to a max length. In this case, you can give a specific length with `max_length` (e.g. `max_length=45`) or leave max_length to None to pad to the maximal input size of the model (e.g. 512 for Bert).\n  warnings.warn(\n",
          "output_type": "stream"
        }
      ]
    },
    {
      "cell_type": "code",
      "source": [
        "X_ensayo = [tf_batch['input_ids'],\n",
        "          tf_batch['attention_mask']]"
      ],
      "metadata": {
        "execution": {
          "iopub.status.busy": "2024-10-24T10:56:00.230846Z",
          "iopub.execute_input": "2024-10-24T10:56:00.231244Z",
          "iopub.status.idle": "2024-10-24T10:56:00.235818Z",
          "shell.execute_reply.started": "2024-10-24T10:56:00.231204Z",
          "shell.execute_reply": "2024-10-24T10:56:00.234790Z"
        },
        "trusted": true,
        "id": "UN2RTcdia7mA"
      },
      "execution_count": null,
      "outputs": []
    },
    {
      "cell_type": "code",
      "source": [
        "y_prob_ensayo = model.predict(X_ensayo)\n",
        "y_prob = np.argmax(y_prob_ensayo, axis=1)\n",
        "print(\"Clasificación:\", class_names[int(y_prob)])"
      ],
      "metadata": {
        "execution": {
          "iopub.status.busy": "2024-10-24T10:56:28.966354Z",
          "iopub.execute_input": "2024-10-24T10:56:28.966987Z",
          "iopub.status.idle": "2024-10-24T10:56:33.981049Z",
          "shell.execute_reply.started": "2024-10-24T10:56:28.966945Z",
          "shell.execute_reply": "2024-10-24T10:56:33.980040Z"
        },
        "trusted": true,
        "id": "Bj91BjwCa7mA",
        "outputId": "c5b0cfbb-38af-486f-b930-3da332697a61"
      },
      "execution_count": null,
      "outputs": [
        {
          "name": "stderr",
          "text": "W0000 00:00:1729767389.260574     116 assert_op.cc:38] Ignoring Assert operator functional_1_1/bert_layer_1/tf_bert_model/bert/embeddings/assert_less/Assert/Assert\n",
          "output_type": "stream"
        },
        {
          "name": "stdout",
          "text": "\u001b[1m1/1\u001b[0m \u001b[32m━━━━━━━━━━━━━━━━━━━━\u001b[0m\u001b[37m\u001b[0m \u001b[1m5s\u001b[0m 5s/step\nClasificación: positive\n",
          "output_type": "stream"
        },
        {
          "name": "stderr",
          "text": "/tmp/ipykernel_30/3658696224.py:3: DeprecationWarning: Conversion of an array with ndim > 0 to a scalar is deprecated, and will error in future. Ensure you extract a single element from your array before performing this operation. (Deprecated NumPy 1.25.)\n  print(\"Clasificación:\", class_names[int(y_prob)])\n",
          "output_type": "stream"
        }
      ]
    },
    {
      "cell_type": "markdown",
      "source": [
        "# Segundo Modelo con fine tuning"
      ],
      "metadata": {
        "id": "MGicEnwGa7mA"
      }
    },
    {
      "cell_type": "code",
      "source": [
        "# Uso de la función para crear el modelo\n",
        "model_2 = create_model(max_length=100, output_shape=3)\n",
        "\n",
        "# Resumen del modelo\n",
        "model_2.summary()"
      ],
      "metadata": {
        "execution": {
          "iopub.status.busy": "2024-10-24T11:04:50.095854Z",
          "iopub.execute_input": "2024-10-24T11:04:50.096535Z",
          "iopub.status.idle": "2024-10-24T11:04:53.350381Z",
          "shell.execute_reply.started": "2024-10-24T11:04:50.096495Z",
          "shell.execute_reply": "2024-10-24T11:04:53.349483Z"
        },
        "trusted": true,
        "id": "HHJ9NBcAa7mA",
        "outputId": "a4be3920-d7f3-49fe-b4c9-36b7ffc85124"
      },
      "execution_count": null,
      "outputs": [
        {
          "name": "stderr",
          "text": "Some weights of the PyTorch model were not used when initializing the TF 2.0 model TFBertModel: ['cls.seq_relationship.bias', 'cls.predictions.transform.dense.weight', 'cls.predictions.transform.LayerNorm.weight', 'cls.predictions.bias', 'cls.predictions.transform.dense.bias', 'cls.predictions.transform.LayerNorm.bias', 'cls.seq_relationship.weight']\n- This IS expected if you are initializing TFBertModel from a PyTorch model trained on another task or with another architecture (e.g. initializing a TFBertForSequenceClassification model from a BertForPreTraining model).\n- This IS NOT expected if you are initializing TFBertModel from a PyTorch model that you expect to be exactly identical (e.g. initializing a TFBertForSequenceClassification model from a BertForSequenceClassification model).\nAll the weights of TFBertModel were initialized from the PyTorch model.\nIf your task is similar to the task the model of the checkpoint was trained on, you can already use TFBertModel for predictions without further training.\n",
          "output_type": "stream"
        },
        {
          "output_type": "display_data",
          "data": {
            "text/plain": "\u001b[1mModel: \"functional_3\"\u001b[0m\n",
            "text/html": "<pre style=\"white-space:pre;overflow-x:auto;line-height:normal;font-family:Menlo,'DejaVu Sans Mono',consolas,'Courier New',monospace\"><span style=\"font-weight: bold\">Model: \"functional_3\"</span>\n</pre>\n"
          },
          "metadata": {}
        },
        {
          "output_type": "display_data",
          "data": {
            "text/plain": "┏━━━━━━━━━━━━━━━━━━━━━┳━━━━━━━━━━━━━━━━━━━┳━━━━━━━━━━━━┳━━━━━━━━━━━━━━━━━━━┓\n┃\u001b[1m \u001b[0m\u001b[1mLayer (type)       \u001b[0m\u001b[1m \u001b[0m┃\u001b[1m \u001b[0m\u001b[1mOutput Shape     \u001b[0m\u001b[1m \u001b[0m┃\u001b[1m \u001b[0m\u001b[1m   Param #\u001b[0m\u001b[1m \u001b[0m┃\u001b[1m \u001b[0m\u001b[1mConnected to     \u001b[0m\u001b[1m \u001b[0m┃\n┡━━━━━━━━━━━━━━━━━━━━━╇━━━━━━━━━━━━━━━━━━━╇━━━━━━━━━━━━╇━━━━━━━━━━━━━━━━━━━┩\n│ input_ids           │ (\u001b[38;5;45mNone\u001b[0m, \u001b[38;5;34m100\u001b[0m)       │          \u001b[38;5;34m0\u001b[0m │ -                 │\n│ (\u001b[38;5;33mInputLayer\u001b[0m)        │                   │            │                   │\n├─────────────────────┼───────────────────┼────────────┼───────────────────┤\n│ attention_mask      │ (\u001b[38;5;45mNone\u001b[0m, \u001b[38;5;34m100\u001b[0m)       │          \u001b[38;5;34m0\u001b[0m │ -                 │\n│ (\u001b[38;5;33mInputLayer\u001b[0m)        │                   │            │                   │\n├─────────────────────┼───────────────────┼────────────┼───────────────────┤\n│ bert_layer_1        │ (\u001b[38;5;45mNone\u001b[0m, \u001b[38;5;34m768\u001b[0m)       │          \u001b[38;5;34m0\u001b[0m │ input_ids[\u001b[38;5;34m0\u001b[0m][\u001b[38;5;34m0\u001b[0m],  │\n│ (\u001b[38;5;33mBertLayer\u001b[0m)         │                   │            │ attention_mask[\u001b[38;5;34m0\u001b[0m… │\n├─────────────────────┼───────────────────┼────────────┼───────────────────┤\n│ dropout_1 (\u001b[38;5;33mDropout\u001b[0m) │ (\u001b[38;5;45mNone\u001b[0m, \u001b[38;5;34m768\u001b[0m)       │          \u001b[38;5;34m0\u001b[0m │ bert_layer_1[\u001b[38;5;34m0\u001b[0m][\u001b[38;5;34m…\u001b[0m │\n├─────────────────────┼───────────────────┼────────────┼───────────────────┤\n│ dense_1 (\u001b[38;5;33mDense\u001b[0m)     │ (\u001b[38;5;45mNone\u001b[0m, \u001b[38;5;34m3\u001b[0m)         │      \u001b[38;5;34m2,307\u001b[0m │ dropout_1[\u001b[38;5;34m0\u001b[0m][\u001b[38;5;34m0\u001b[0m]   │\n└─────────────────────┴───────────────────┴────────────┴───────────────────┘\n",
            "text/html": "<pre style=\"white-space:pre;overflow-x:auto;line-height:normal;font-family:Menlo,'DejaVu Sans Mono',consolas,'Courier New',monospace\">┏━━━━━━━━━━━━━━━━━━━━━┳━━━━━━━━━━━━━━━━━━━┳━━━━━━━━━━━━┳━━━━━━━━━━━━━━━━━━━┓\n┃<span style=\"font-weight: bold\"> Layer (type)        </span>┃<span style=\"font-weight: bold\"> Output Shape      </span>┃<span style=\"font-weight: bold\">    Param # </span>┃<span style=\"font-weight: bold\"> Connected to      </span>┃\n┡━━━━━━━━━━━━━━━━━━━━━╇━━━━━━━━━━━━━━━━━━━╇━━━━━━━━━━━━╇━━━━━━━━━━━━━━━━━━━┩\n│ input_ids           │ (<span style=\"color: #00d7ff; text-decoration-color: #00d7ff\">None</span>, <span style=\"color: #00af00; text-decoration-color: #00af00\">100</span>)       │          <span style=\"color: #00af00; text-decoration-color: #00af00\">0</span> │ -                 │\n│ (<span style=\"color: #0087ff; text-decoration-color: #0087ff\">InputLayer</span>)        │                   │            │                   │\n├─────────────────────┼───────────────────┼────────────┼───────────────────┤\n│ attention_mask      │ (<span style=\"color: #00d7ff; text-decoration-color: #00d7ff\">None</span>, <span style=\"color: #00af00; text-decoration-color: #00af00\">100</span>)       │          <span style=\"color: #00af00; text-decoration-color: #00af00\">0</span> │ -                 │\n│ (<span style=\"color: #0087ff; text-decoration-color: #0087ff\">InputLayer</span>)        │                   │            │                   │\n├─────────────────────┼───────────────────┼────────────┼───────────────────┤\n│ bert_layer_1        │ (<span style=\"color: #00d7ff; text-decoration-color: #00d7ff\">None</span>, <span style=\"color: #00af00; text-decoration-color: #00af00\">768</span>)       │          <span style=\"color: #00af00; text-decoration-color: #00af00\">0</span> │ input_ids[<span style=\"color: #00af00; text-decoration-color: #00af00\">0</span>][<span style=\"color: #00af00; text-decoration-color: #00af00\">0</span>],  │\n│ (<span style=\"color: #0087ff; text-decoration-color: #0087ff\">BertLayer</span>)         │                   │            │ attention_mask[<span style=\"color: #00af00; text-decoration-color: #00af00\">0</span>… │\n├─────────────────────┼───────────────────┼────────────┼───────────────────┤\n│ dropout_1 (<span style=\"color: #0087ff; text-decoration-color: #0087ff\">Dropout</span>) │ (<span style=\"color: #00d7ff; text-decoration-color: #00d7ff\">None</span>, <span style=\"color: #00af00; text-decoration-color: #00af00\">768</span>)       │          <span style=\"color: #00af00; text-decoration-color: #00af00\">0</span> │ bert_layer_1[<span style=\"color: #00af00; text-decoration-color: #00af00\">0</span>][<span style=\"color: #00af00; text-decoration-color: #00af00\">…</span> │\n├─────────────────────┼───────────────────┼────────────┼───────────────────┤\n│ dense_1 (<span style=\"color: #0087ff; text-decoration-color: #0087ff\">Dense</span>)     │ (<span style=\"color: #00d7ff; text-decoration-color: #00d7ff\">None</span>, <span style=\"color: #00af00; text-decoration-color: #00af00\">3</span>)         │      <span style=\"color: #00af00; text-decoration-color: #00af00\">2,307</span> │ dropout_1[<span style=\"color: #00af00; text-decoration-color: #00af00\">0</span>][<span style=\"color: #00af00; text-decoration-color: #00af00\">0</span>]   │\n└─────────────────────┴───────────────────┴────────────┴───────────────────┘\n</pre>\n"
          },
          "metadata": {}
        },
        {
          "output_type": "display_data",
          "data": {
            "text/plain": "\u001b[1m Total params: \u001b[0m\u001b[38;5;34m2,307\u001b[0m (9.01 KB)\n",
            "text/html": "<pre style=\"white-space:pre;overflow-x:auto;line-height:normal;font-family:Menlo,'DejaVu Sans Mono',consolas,'Courier New',monospace\"><span style=\"font-weight: bold\"> Total params: </span><span style=\"color: #00af00; text-decoration-color: #00af00\">2,307</span> (9.01 KB)\n</pre>\n"
          },
          "metadata": {}
        },
        {
          "output_type": "display_data",
          "data": {
            "text/plain": "\u001b[1m Trainable params: \u001b[0m\u001b[38;5;34m2,307\u001b[0m (9.01 KB)\n",
            "text/html": "<pre style=\"white-space:pre;overflow-x:auto;line-height:normal;font-family:Menlo,'DejaVu Sans Mono',consolas,'Courier New',monospace\"><span style=\"font-weight: bold\"> Trainable params: </span><span style=\"color: #00af00; text-decoration-color: #00af00\">2,307</span> (9.01 KB)\n</pre>\n"
          },
          "metadata": {}
        },
        {
          "output_type": "display_data",
          "data": {
            "text/plain": "\u001b[1m Non-trainable params: \u001b[0m\u001b[38;5;34m0\u001b[0m (0.00 B)\n",
            "text/html": "<pre style=\"white-space:pre;overflow-x:auto;line-height:normal;font-family:Menlo,'DejaVu Sans Mono',consolas,'Courier New',monospace\"><span style=\"font-weight: bold\"> Non-trainable params: </span><span style=\"color: #00af00; text-decoration-color: #00af00\">0</span> (0.00 B)\n</pre>\n"
          },
          "metadata": {}
        }
      ]
    },
    {
      "cell_type": "code",
      "source": [
        "train_InputExamples, validation_InputExamples = convert_data_to_examples(sentences, y, idx_train, idx_val)\n",
        "\n",
        "train_data = convert_examples_to_tf_dataset(list(train_InputExamples), bert_tokenizer, max_length=max_length)\n",
        "train_data = train_data.shuffle(100).batch(16)\n",
        "\n",
        "validation_data = convert_examples_to_tf_dataset(list(validation_InputExamples), bert_tokenizer, max_length=max_length)\n",
        "validation_data = validation_data.batch(16)"
      ],
      "metadata": {
        "execution": {
          "iopub.status.busy": "2024-10-24T11:08:08.989493Z",
          "iopub.execute_input": "2024-10-24T11:08:08.990309Z",
          "iopub.status.idle": "2024-10-24T11:08:25.207589Z",
          "shell.execute_reply.started": "2024-10-24T11:08:08.990269Z",
          "shell.execute_reply": "2024-10-24T11:08:25.206807Z"
        },
        "trusted": true,
        "id": "jnnNuf0ja7mA"
      },
      "execution_count": null,
      "outputs": []
    },
    {
      "cell_type": "code",
      "source": [
        "max_length = 100\n",
        "pred_sentences = [sentences[i] for i in idx_test]\n",
        "tf_batch = bert_tokenizer(pred_sentences, max_length=max_length, padding=True, truncation=True, return_tensors='tf')"
      ],
      "metadata": {
        "execution": {
          "iopub.status.busy": "2024-10-24T11:39:07.807124Z",
          "iopub.execute_input": "2024-10-24T11:39:07.807538Z",
          "iopub.status.idle": "2024-10-24T11:39:11.848193Z",
          "shell.execute_reply.started": "2024-10-24T11:39:07.807499Z",
          "shell.execute_reply": "2024-10-24T11:39:11.847357Z"
        },
        "trusted": true,
        "id": "WdZiIOZZa7mA"
      },
      "execution_count": null,
      "outputs": []
    },
    {
      "cell_type": "code",
      "source": [
        "X_test = [\n",
        "    tf_batch['input_ids'],\n",
        "    tf_batch['attention_mask']\n",
        "]\n",
        "\n",
        "y_test = y[idx_test]"
      ],
      "metadata": {
        "execution": {
          "iopub.status.busy": "2024-10-24T11:39:20.553959Z",
          "iopub.execute_input": "2024-10-24T11:39:20.554343Z",
          "iopub.status.idle": "2024-10-24T11:39:20.560026Z",
          "shell.execute_reply.started": "2024-10-24T11:39:20.554305Z",
          "shell.execute_reply": "2024-10-24T11:39:20.558971Z"
        },
        "trusted": true,
        "id": "X-2-92WRa7mB"
      },
      "execution_count": null,
      "outputs": []
    },
    {
      "cell_type": "code",
      "source": [
        "print(f\"X_test[0] shape: {X_test[0].shape}\")\n",
        "print(f\"y_test shape: {y_test.shape}\")"
      ],
      "metadata": {
        "execution": {
          "iopub.status.busy": "2024-10-24T11:39:38.652015Z",
          "iopub.execute_input": "2024-10-24T11:39:38.652426Z",
          "iopub.status.idle": "2024-10-24T11:39:38.657871Z",
          "shell.execute_reply.started": "2024-10-24T11:39:38.652368Z",
          "shell.execute_reply": "2024-10-24T11:39:38.656855Z"
        },
        "trusted": true,
        "id": "Q7UBih0wa7mB",
        "outputId": "01e4e0b2-201b-4f5f-8d18-d335ba9eb6ca"
      },
      "execution_count": null,
      "outputs": [
        {
          "name": "stdout",
          "text": "X_test[0] shape: (3150, 100)\ny_test shape: (3150, 3)\n",
          "output_type": "stream"
        }
      ]
    },
    {
      "cell_type": "code",
      "source": [
        "history_2 = model_2.fit(\n",
        "    train_data,\n",
        "    epochs=5,\n",
        "    validation_data=validation_data,\n",
        ")"
      ],
      "metadata": {
        "execution": {
          "iopub.status.busy": "2024-10-24T11:39:49.887066Z",
          "iopub.execute_input": "2024-10-24T11:39:49.887472Z",
          "iopub.status.idle": "2024-10-24T11:49:17.362857Z",
          "shell.execute_reply.started": "2024-10-24T11:39:49.887432Z",
          "shell.execute_reply": "2024-10-24T11:49:17.361784Z"
        },
        "trusted": true,
        "id": "UShwPJbwa7mB",
        "outputId": "1777206c-8622-4242-93c3-f5438e28c26d"
      },
      "execution_count": null,
      "outputs": [
        {
          "name": "stdout",
          "text": "Epoch 1/5\n    630/Unknown \u001b[1m85s\u001b[0m 135ms/step - accuracy: 0.5487 - f1_score: 0.5390 - loss: 0.9296",
          "output_type": "stream"
        },
        {
          "name": "stderr",
          "text": "/opt/conda/lib/python3.10/contextlib.py:153: UserWarning: Your input ran out of data; interrupting training. Make sure that your dataset or generator can generate at least `steps_per_epoch * epochs` batches. You may need to use the `.repeat()` function when building your dataset.\n  self.gen.throw(typ, value, traceback)\n",
          "output_type": "stream"
        },
        {
          "name": "stdout",
          "text": "\u001b[1m630/630\u001b[0m \u001b[32m━━━━━━━━━━━━━━━━━━━━\u001b[0m\u001b[37m\u001b[0m \u001b[1m106s\u001b[0m 169ms/step - accuracy: 0.5487 - f1_score: 0.5390 - loss: 0.9296 - val_accuracy: 0.5710 - val_f1_score: 0.5104 - val_loss: 0.8875\nEpoch 2/5\n\u001b[1m630/630\u001b[0m \u001b[32m━━━━━━━━━━━━━━━━━━━━\u001b[0m\u001b[37m\u001b[0m \u001b[1m106s\u001b[0m 169ms/step - accuracy: 0.5584 - f1_score: 0.5482 - loss: 0.9137 - val_accuracy: 0.5817 - val_f1_score: 0.5781 - val_loss: 0.8708\nEpoch 3/5\n\u001b[1m630/630\u001b[0m \u001b[32m━━━━━━━━━━━━━━━━━━━━\u001b[0m\u001b[37m\u001b[0m \u001b[1m107s\u001b[0m 169ms/step - accuracy: 0.5416 - f1_score: 0.5328 - loss: 0.9319 - val_accuracy: 0.5448 - val_f1_score: 0.4485 - val_loss: 0.9553\nEpoch 4/5\n\u001b[1m630/630\u001b[0m \u001b[32m━━━━━━━━━━━━━━━━━━━━\u001b[0m\u001b[37m\u001b[0m \u001b[1m142s\u001b[0m 169ms/step - accuracy: 0.5547 - f1_score: 0.5453 - loss: 0.9233 - val_accuracy: 0.5560 - val_f1_score: 0.5441 - val_loss: 0.8854\nEpoch 5/5\n\u001b[1m630/630\u001b[0m \u001b[32m━━━━━━━━━━━━━━━━━━━━\u001b[0m\u001b[37m\u001b[0m \u001b[1m106s\u001b[0m 169ms/step - accuracy: 0.5435 - f1_score: 0.5344 - loss: 0.9330 - val_accuracy: 0.5802 - val_f1_score: 0.5405 - val_loss: 0.8750\n",
          "output_type": "stream"
        }
      ]
    },
    {
      "cell_type": "code",
      "source": [
        "plot_train_metrics(history_2)"
      ],
      "metadata": {
        "execution": {
          "iopub.status.busy": "2024-10-24T11:49:50.838895Z",
          "iopub.execute_input": "2024-10-24T11:49:50.839302Z",
          "iopub.status.idle": "2024-10-24T11:49:51.174537Z",
          "shell.execute_reply.started": "2024-10-24T11:49:50.839266Z",
          "shell.execute_reply": "2024-10-24T11:49:51.173478Z"
        },
        "trusted": true,
        "id": "uQJXtzQOa7mB",
        "outputId": "9d54444e-72e0-4a25-959d-f4217458cc48"
      },
      "execution_count": null,
      "outputs": [
        {
          "name": "stderr",
          "text": "/opt/conda/lib/python3.10/site-packages/seaborn/_oldcore.py:1119: FutureWarning: use_inf_as_na option is deprecated and will be removed in a future version. Convert inf values to NaN before operating instead.\n  with pd.option_context('mode.use_inf_as_na', True):\n/opt/conda/lib/python3.10/site-packages/seaborn/_oldcore.py:1119: FutureWarning: use_inf_as_na option is deprecated and will be removed in a future version. Convert inf values to NaN before operating instead.\n  with pd.option_context('mode.use_inf_as_na', True):\n/opt/conda/lib/python3.10/site-packages/seaborn/_oldcore.py:1119: FutureWarning: use_inf_as_na option is deprecated and will be removed in a future version. Convert inf values to NaN before operating instead.\n  with pd.option_context('mode.use_inf_as_na', True):\n/opt/conda/lib/python3.10/site-packages/seaborn/_oldcore.py:1119: FutureWarning: use_inf_as_na option is deprecated and will be removed in a future version. Convert inf values to NaN before operating instead.\n  with pd.option_context('mode.use_inf_as_na', True):\n",
          "output_type": "stream"
        },
        {
          "output_type": "display_data",
          "data": {
            "text/plain": "<Figure size 640x480 with 1 Axes>",
            "image/png": "[encoded data removed]"
          },
          "metadata": {}
        }
      ]
    },
    {
      "cell_type": "code",
      "source": [
        "y_hat_prob2 = model_2.predict(X_test)\n",
        "y_hat_prob2[:3]"
      ],
      "metadata": {
        "execution": {
          "iopub.status.busy": "2024-10-24T11:49:59.514588Z",
          "iopub.execute_input": "2024-10-24T11:49:59.514993Z",
          "iopub.status.idle": "2024-10-24T11:50:34.389237Z",
          "shell.execute_reply.started": "2024-10-24T11:49:59.514955Z",
          "shell.execute_reply": "2024-10-24T11:50:34.388124Z"
        },
        "trusted": true,
        "id": "LSd5kLBTa7mB",
        "outputId": "c7828d6c-591d-4deb-8343-b0d94bfd02b4"
      },
      "execution_count": null,
      "outputs": [
        {
          "name": "stderr",
          "text": "W0000 00:00:1729770602.316632     116 assert_op.cc:38] Ignoring Assert operator functional_3_1/bert_layer_1_1/tf_bert_model_1/bert/embeddings/assert_less/Assert/Assert\n",
          "output_type": "stream"
        },
        {
          "name": "stdout",
          "text": "\u001b[1m98/99\u001b[0m \u001b[32m━━━━━━━━━━━━━━━━━━━\u001b[0m\u001b[37m━\u001b[0m \u001b[1m0s\u001b[0m 183ms/step",
          "output_type": "stream"
        },
        {
          "name": "stderr",
          "text": "W0000 00:00:1729770628.984339     117 assert_op.cc:38] Ignoring Assert operator functional_3_1/bert_layer_1_1/tf_bert_model_1/bert/embeddings/assert_less/Assert/Assert\n",
          "output_type": "stream"
        },
        {
          "name": "stdout",
          "text": "\u001b[1m99/99\u001b[0m \u001b[32m━━━━━━━━━━━━━━━━━━━━\u001b[0m\u001b[37m\u001b[0m \u001b[1m35s\u001b[0m 272ms/step\n",
          "output_type": "stream"
        },
        {
          "execution_count": 115,
          "output_type": "execute_result",
          "data": {
            "text/plain": "array([[0.6563093 , 0.25063342, 0.09305723],\n       [0.4847824 , 0.31115553, 0.20406203],\n       [0.2836743 , 0.37190032, 0.3444254 ]], dtype=float32)"
          },
          "metadata": {}
        }
      ]
    },
    {
      "cell_type": "code",
      "source": [
        "y_hat2 = np.argmax(y_hat_prob2, axis=1)"
      ],
      "metadata": {
        "execution": {
          "iopub.status.busy": "2024-10-24T11:50:40.288015Z",
          "iopub.execute_input": "2024-10-24T11:50:40.289090Z",
          "iopub.status.idle": "2024-10-24T11:50:40.294117Z",
          "shell.execute_reply.started": "2024-10-24T11:50:40.289044Z",
          "shell.execute_reply": "2024-10-24T11:50:40.293025Z"
        },
        "trusted": true,
        "id": "0F1pbC-ya7mB"
      },
      "execution_count": null,
      "outputs": []
    },
    {
      "cell_type": "code",
      "source": [
        "# Calcular la exactitud (accuracy)\n",
        "scores = model_2.evaluate(X_test, y_test)\n",
        "scores[1]"
      ],
      "metadata": {
        "execution": {
          "iopub.status.busy": "2024-10-24T11:51:00.132819Z",
          "iopub.execute_input": "2024-10-24T11:51:00.133313Z",
          "iopub.status.idle": "2024-10-24T11:51:31.866957Z",
          "shell.execute_reply.started": "2024-10-24T11:51:00.133266Z",
          "shell.execute_reply": "2024-10-24T11:51:31.865866Z"
        },
        "trusted": true,
        "id": "CG8iTFk3a7mB",
        "outputId": "2ced1046-6e37-4c3e-8f4d-fccb7a655c0a"
      },
      "execution_count": null,
      "outputs": [
        {
          "name": "stderr",
          "text": "W0000 00:00:1729770663.387998     117 assert_op.cc:38] Ignoring Assert operator functional_3_1/bert_layer_1_1/tf_bert_model_1/bert/embeddings/assert_less/Assert/Assert\n",
          "output_type": "stream"
        },
        {
          "name": "stdout",
          "text": "\u001b[1m98/99\u001b[0m \u001b[32m━━━━━━━━━━━━━━━━━━━\u001b[0m\u001b[37m━\u001b[0m \u001b[1m0s\u001b[0m 190ms/step - accuracy: 0.5902 - f1_score: 0.5550 - loss: 0.8795",
          "output_type": "stream"
        },
        {
          "name": "stderr",
          "text": "W0000 00:00:1729770687.054063     115 assert_op.cc:38] Ignoring Assert operator functional_3_1/bert_layer_1_1/tf_bert_model_1/bert/embeddings/assert_less/Assert/Assert\n",
          "output_type": "stream"
        },
        {
          "name": "stdout",
          "text": "\u001b[1m99/99\u001b[0m \u001b[32m━━━━━━━━━━━━━━━━━━━━\u001b[0m\u001b[37m\u001b[0m \u001b[1m32s\u001b[0m 239ms/step - accuracy: 0.5903 - f1_score: 0.5550 - loss: 0.8797\n",
          "output_type": "stream"
        },
        {
          "execution_count": 119,
          "output_type": "execute_result",
          "data": {
            "text/plain": "0.5933333039283752"
          },
          "metadata": {}
        }
      ]
    },
    {
      "cell_type": "code",
      "source": [
        "from sklearn.metrics import confusion_matrix, ConfusionMatrixDisplay\n",
        "cm = confusion_matrix(y_test.argmax(axis=1), y_hat2)\n",
        "cmd = ConfusionMatrixDisplay(cm, display_labels=list(range(3)))\n",
        "cmd.plot(cmap=plt.cm.Blues)\n",
        "plt.show()"
      ],
      "metadata": {
        "execution": {
          "iopub.status.busy": "2024-10-24T11:51:31.868403Z",
          "iopub.execute_input": "2024-10-24T11:51:31.868739Z",
          "iopub.status.idle": "2024-10-24T11:51:32.102190Z",
          "shell.execute_reply.started": "2024-10-24T11:51:31.868706Z",
          "shell.execute_reply": "2024-10-24T11:51:32.101183Z"
        },
        "trusted": true,
        "id": "ucl4TSiKa7mB",
        "outputId": "8adc1dec-6756-41aa-a431-a3998a16b67a"
      },
      "execution_count": null,
      "outputs": [
        {
          "output_type": "display_data",
          "data": {
            "text/plain": "<Figure size 640x480 with 2 Axes>",
            "image/png": "[encoded data removed]"
          },
          "metadata": {}
        }
      ]
    },
    {
      "cell_type": "markdown",
      "source": [
        "Se evidencia que persiste la dificultad de predecir las intancias neutras"
      ],
      "metadata": {
        "id": "RGpYFfhoa7mB"
      }
    },
    {
      "cell_type": "code",
      "source": [
        "model_2.save_weights('bert_weights_2.weights.h5')"
      ],
      "metadata": {
        "execution": {
          "iopub.status.busy": "2024-10-24T11:58:08.517465Z",
          "iopub.execute_input": "2024-10-24T11:58:08.518182Z",
          "iopub.status.idle": "2024-10-24T11:58:08.535519Z",
          "shell.execute_reply.started": "2024-10-24T11:58:08.518142Z",
          "shell.execute_reply": "2024-10-24T11:58:08.534518Z"
        },
        "trusted": true,
        "id": "gqiEYH5Ea7mC"
      },
      "execution_count": null,
      "outputs": []
    },
    {
      "cell_type": "code",
      "source": [
        "text = \"I hate this product, it is terrible!\"\n",
        "\n",
        "# Tokenize the text\n",
        "tf_batch = bert_tokenizer.encode_plus(\n",
        "    text,\n",
        "    add_special_tokens=True,\n",
        "    max_length=max_length,\n",
        "    return_token_type_ids=False,\n",
        "    return_attention_mask=True,\n",
        "    padding='max_length',\n",
        "    truncation=True,\n",
        "    return_tensors='tf'\n",
        ")\n",
        "\n",
        "X_test = [\n",
        "    tf_batch['input_ids'],\n",
        "    tf_batch['attention_mask']\n",
        "]\n",
        "\n",
        "y_prob_test = model_2.predict(X_test)\n",
        "y_prob = np.argmax(y_prob_test, axis=1)\n",
        "print(\"Clasificación:\", class_names[int(y_prob)])"
      ],
      "metadata": {
        "execution": {
          "iopub.status.busy": "2024-10-24T11:59:58.166707Z",
          "iopub.execute_input": "2024-10-24T11:59:58.167385Z",
          "iopub.status.idle": "2024-10-24T12:00:02.841063Z",
          "shell.execute_reply.started": "2024-10-24T11:59:58.167335Z",
          "shell.execute_reply": "2024-10-24T12:00:02.840167Z"
        },
        "trusted": true,
        "id": "Gvv3rNtta7mC",
        "outputId": "34f3c13f-f7da-49e0-efde-a2bf2a71471f"
      },
      "execution_count": null,
      "outputs": [
        {
          "name": "stderr",
          "text": "W0000 00:00:1729771198.431805     118 assert_op.cc:38] Ignoring Assert operator functional_3_1/bert_layer_1_1/tf_bert_model_1/bert/embeddings/assert_less/Assert/Assert\n",
          "output_type": "stream"
        },
        {
          "name": "stdout",
          "text": "\u001b[1m1/1\u001b[0m \u001b[32m━━━━━━━━━━━━━━━━━━━━\u001b[0m\u001b[37m\u001b[0m \u001b[1m5s\u001b[0m 5s/step\nClasificación: negative\n",
          "output_type": "stream"
        },
        {
          "name": "stderr",
          "text": "/tmp/ipykernel_30/1478796146.py:22: DeprecationWarning: Conversion of an array with ndim > 0 to a scalar is deprecated, and will error in future. Ensure you extract a single element from your array before performing this operation. (Deprecated NumPy 1.25.)\n  print(\"Clasificación:\", class_names[int(y_prob)])\n",
          "output_type": "stream"
        }
      ]
    },
    {
      "cell_type": "markdown",
      "source": [
        "# Conclusiones\n",
        "\n",
        "El ejercicio pone de manifiesto la importancia de la selección adecuada de parámetros y de la posibilidad de personalizar los modelos para ajustarlos a las características de los datos que se evaluen. Así mismo considerar el trade off entre accuracy y disponibilidad de potencia de computo.\n",
        "\n",
        "Los parámetros ajustados fueron:\n",
        "\n",
        "max_legth\n",
        "\n",
        "personalización del modelo, agregando una capa densa."
      ],
      "metadata": {
        "id": "k87U5qqaa7mC"
      }
    }
  ]
}